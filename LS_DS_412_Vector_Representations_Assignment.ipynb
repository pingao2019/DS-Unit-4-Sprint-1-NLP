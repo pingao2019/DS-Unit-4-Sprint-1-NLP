{
  "nbformat": 4,
  "nbformat_minor": 0,
  "metadata": {
    "colab": {
      "name": "LS_DS_412_Vector_Representations_Assignment.ipynb",
      "provenance": [],
      "collapsed_sections": [],
      "include_colab_link": true
    },
    "kernel_info": {
      "name": "python3"
    },
    "kernelspec": {
      "display_name": "Python 3",
      "language": "python",
      "name": "python3"
    },
    "language_info": {
      "codemirror_mode": {
        "name": "ipython",
        "version": 3
      },
      "file_extension": ".py",
      "mimetype": "text/x-python",
      "name": "python",
      "nbconvert_exporter": "python",
      "pygments_lexer": "ipython3",
      "version": "3.7.6"
    },
    "nteract": {
      "version": "0.14.3"
    }
  },
  "cells": [
    {
      "cell_type": "markdown",
      "metadata": {
        "id": "view-in-github",
        "colab_type": "text"
      },
      "source": [
        "<a href=\"https://colab.research.google.com/github/pingao2019/DS-Unit-4-Sprint-1-NLP/blob/master/LS_DS_412_Vector_Representations_Assignment.ipynb\" target=\"_parent\"><img src=\"https://colab.research.google.com/assets/colab-badge.svg\" alt=\"Open In Colab\"/></a>"
      ]
    },
    {
      "cell_type": "markdown",
      "metadata": {
        "id": "xPrGuhUs3igw",
        "colab_type": "text"
      },
      "source": [
        "<img align=\"left\" src=\"https://lever-client-logos.s3.amazonaws.com/864372b1-534c-480e-acd5-9711f850815c-1524247202159.png\" width=200>\n",
        "<br></br>\n",
        "\n",
        "# Vector Representations\n",
        "## *Data Science Unit 4 Sprint 2 Assignment 2*"
      ]
    },
    {
      "cell_type": "code",
      "metadata": {
        "colab_type": "code",
        "id": "hyj-f9FDcVFp",
        "colab": {}
      },
      "source": [
        "import re\n",
        "import string\n",
        "\n",
        "from sklearn.feature_extraction.text import CountVectorizer, TfidfVectorizer\n",
        "import matplotlib.pyplot as plt\n",
        "import pandas as pd\n",
        "import numpy as np\n",
        "import spacy"
      ],
      "execution_count": 0,
      "outputs": []
    },
    {
      "cell_type": "markdown",
      "metadata": {
        "colab_type": "text",
        "id": "M7bcmqfGXrFG"
      },
      "source": [
        "## 1) *Clean:* Job Listings from indeed.com that contain the title \"Data Scientist\" \n",
        "\n",
        "You have `job_listings.csv` in the data folder for this module. The text data in the description column is still messy - full of html tags. Use the [BeautifulSoup](https://www.crummy.com/software/BeautifulSoup/bs4/doc/) library to clean up this column. You will need to read thru the documentation to accomplish this task. \n",
        "\n",
        "`Tip:` You will need to install the `bs4` library inside your conda environment. "
      ]
    },
    {
      "cell_type": "code",
      "metadata": {
        "id": "IUmnxgth3ihS",
        "colab_type": "code",
        "colab": {},
        "outputId": "d8bb854a-b441-4a14-99bf-6469fbc989f9"
      },
      "source": [
        "df = pd.read_csv('./data/job_listings.csv')\n",
        "df.head()"
      ],
      "execution_count": 0,
      "outputs": [
        {
          "output_type": "execute_result",
          "data": {
            "text/html": [
              "<div>\n",
              "<style scoped>\n",
              "    .dataframe tbody tr th:only-of-type {\n",
              "        vertical-align: middle;\n",
              "    }\n",
              "\n",
              "    .dataframe tbody tr th {\n",
              "        vertical-align: top;\n",
              "    }\n",
              "\n",
              "    .dataframe thead th {\n",
              "        text-align: right;\n",
              "    }\n",
              "</style>\n",
              "<table border=\"1\" class=\"dataframe\">\n",
              "  <thead>\n",
              "    <tr style=\"text-align: right;\">\n",
              "      <th></th>\n",
              "      <th>Unnamed: 0</th>\n",
              "      <th>description</th>\n",
              "      <th>title</th>\n",
              "    </tr>\n",
              "  </thead>\n",
              "  <tbody>\n",
              "    <tr>\n",
              "      <th>0</th>\n",
              "      <td>0</td>\n",
              "      <td>b\"&lt;div&gt;&lt;div&gt;Job Requirements:&lt;/div&gt;&lt;ul&gt;&lt;li&gt;&lt;p&gt;...</td>\n",
              "      <td>Data scientist</td>\n",
              "    </tr>\n",
              "    <tr>\n",
              "      <th>1</th>\n",
              "      <td>1</td>\n",
              "      <td>b'&lt;div&gt;Job Description&lt;br/&gt;\\n&lt;br/&gt;\\n&lt;p&gt;As a Da...</td>\n",
              "      <td>Data Scientist I</td>\n",
              "    </tr>\n",
              "    <tr>\n",
              "      <th>2</th>\n",
              "      <td>2</td>\n",
              "      <td>b'&lt;div&gt;&lt;p&gt;As a Data Scientist you will be work...</td>\n",
              "      <td>Data Scientist - Entry Level</td>\n",
              "    </tr>\n",
              "    <tr>\n",
              "      <th>3</th>\n",
              "      <td>3</td>\n",
              "      <td>b'&lt;div class=\"jobsearch-JobMetadataHeader icl-...</td>\n",
              "      <td>Data Scientist</td>\n",
              "    </tr>\n",
              "    <tr>\n",
              "      <th>4</th>\n",
              "      <td>4</td>\n",
              "      <td>b'&lt;ul&gt;&lt;li&gt;Location: USA \\xe2\\x80\\x93 multiple ...</td>\n",
              "      <td>Data Scientist</td>\n",
              "    </tr>\n",
              "  </tbody>\n",
              "</table>\n",
              "</div>"
            ],
            "text/plain": [
              "   Unnamed: 0                                        description  \\\n",
              "0           0  b\"<div><div>Job Requirements:</div><ul><li><p>...   \n",
              "1           1  b'<div>Job Description<br/>\\n<br/>\\n<p>As a Da...   \n",
              "2           2  b'<div><p>As a Data Scientist you will be work...   \n",
              "3           3  b'<div class=\"jobsearch-JobMetadataHeader icl-...   \n",
              "4           4  b'<ul><li>Location: USA \\xe2\\x80\\x93 multiple ...   \n",
              "\n",
              "                          title  \n",
              "0               Data scientist   \n",
              "1              Data Scientist I  \n",
              "2  Data Scientist - Entry Level  \n",
              "3                Data Scientist  \n",
              "4                Data Scientist  "
            ]
          },
          "metadata": {
            "tags": []
          },
          "execution_count": 6
        }
      ]
    },
    {
      "cell_type": "code",
      "metadata": {
        "colab_type": "code",
        "id": "KcYlc1URXhlC",
        "colab": {}
      },
      "source": [
        "from bs4 import BeautifulSoup\n",
        "import requests\n"
      ],
      "execution_count": 0,
      "outputs": []
    },
    {
      "cell_type": "code",
      "metadata": {
        "id": "9rS9zI1J3ihw",
        "colab_type": "code",
        "colab": {}
      },
      "source": [
        "def clean_description (desc):\n",
        "    soup= BeautifulSoup(desc)\n",
        "    return soup.get_text()\n",
        "df['clean_desc'] =df['description'].apply(clean_description)\n"
      ],
      "execution_count": 0,
      "outputs": []
    },
    {
      "cell_type": "code",
      "metadata": {
        "id": "tgKfUzif3ih8",
        "colab_type": "code",
        "colab": {},
        "outputId": "ddec1032-6b38-43de-b5e3-cd473986698a"
      },
      "source": [
        "\n",
        "df.head()"
      ],
      "execution_count": 0,
      "outputs": [
        {
          "output_type": "execute_result",
          "data": {
            "text/html": [
              "<div>\n",
              "<style scoped>\n",
              "    .dataframe tbody tr th:only-of-type {\n",
              "        vertical-align: middle;\n",
              "    }\n",
              "\n",
              "    .dataframe tbody tr th {\n",
              "        vertical-align: top;\n",
              "    }\n",
              "\n",
              "    .dataframe thead th {\n",
              "        text-align: right;\n",
              "    }\n",
              "</style>\n",
              "<table border=\"1\" class=\"dataframe\">\n",
              "  <thead>\n",
              "    <tr style=\"text-align: right;\">\n",
              "      <th></th>\n",
              "      <th>Unnamed: 0</th>\n",
              "      <th>description</th>\n",
              "      <th>title</th>\n",
              "      <th>clean_desc</th>\n",
              "    </tr>\n",
              "  </thead>\n",
              "  <tbody>\n",
              "    <tr>\n",
              "      <th>0</th>\n",
              "      <td>0</td>\n",
              "      <td>b\"&lt;div&gt;&lt;div&gt;Job Requirements:&lt;/div&gt;&lt;ul&gt;&lt;li&gt;&lt;p&gt;...</td>\n",
              "      <td>Data scientist</td>\n",
              "      <td>b\"Job Requirements:\\nConceptual understanding ...</td>\n",
              "    </tr>\n",
              "    <tr>\n",
              "      <th>1</th>\n",
              "      <td>1</td>\n",
              "      <td>b'&lt;div&gt;Job Description&lt;br/&gt;\\n&lt;br/&gt;\\n&lt;p&gt;As a Da...</td>\n",
              "      <td>Data Scientist I</td>\n",
              "      <td>b'Job Description\\n\\nAs a Data Scientist 1, yo...</td>\n",
              "    </tr>\n",
              "    <tr>\n",
              "      <th>2</th>\n",
              "      <td>2</td>\n",
              "      <td>b'&lt;div&gt;&lt;p&gt;As a Data Scientist you will be work...</td>\n",
              "      <td>Data Scientist - Entry Level</td>\n",
              "      <td>b'As a Data Scientist you will be working on c...</td>\n",
              "    </tr>\n",
              "    <tr>\n",
              "      <th>3</th>\n",
              "      <td>3</td>\n",
              "      <td>b'&lt;div class=\"jobsearch-JobMetadataHeader icl-...</td>\n",
              "      <td>Data Scientist</td>\n",
              "      <td>b'$4,969 - $6,756 a monthContractUnder the gen...</td>\n",
              "    </tr>\n",
              "    <tr>\n",
              "      <th>4</th>\n",
              "      <td>4</td>\n",
              "      <td>b'&lt;ul&gt;&lt;li&gt;Location: USA \\xe2\\x80\\x93 multiple ...</td>\n",
              "      <td>Data Scientist</td>\n",
              "      <td>b'Location: USA \\xe2\\x80\\x93 multiple location...</td>\n",
              "    </tr>\n",
              "  </tbody>\n",
              "</table>\n",
              "</div>"
            ],
            "text/plain": [
              "   Unnamed: 0                                        description  \\\n",
              "0           0  b\"<div><div>Job Requirements:</div><ul><li><p>...   \n",
              "1           1  b'<div>Job Description<br/>\\n<br/>\\n<p>As a Da...   \n",
              "2           2  b'<div><p>As a Data Scientist you will be work...   \n",
              "3           3  b'<div class=\"jobsearch-JobMetadataHeader icl-...   \n",
              "4           4  b'<ul><li>Location: USA \\xe2\\x80\\x93 multiple ...   \n",
              "\n",
              "                          title  \\\n",
              "0               Data scientist    \n",
              "1              Data Scientist I   \n",
              "2  Data Scientist - Entry Level   \n",
              "3                Data Scientist   \n",
              "4                Data Scientist   \n",
              "\n",
              "                                          clean_desc  \n",
              "0  b\"Job Requirements:\\nConceptual understanding ...  \n",
              "1  b'Job Description\\n\\nAs a Data Scientist 1, yo...  \n",
              "2  b'As a Data Scientist you will be working on c...  \n",
              "3  b'$4,969 - $6,756 a monthContractUnder the gen...  \n",
              "4  b'Location: USA \\xe2\\x80\\x93 multiple location...  "
            ]
          },
          "metadata": {
            "tags": []
          },
          "execution_count": 10
        }
      ]
    },
    {
      "cell_type": "code",
      "metadata": {
        "id": "zpX89Dem3iiK",
        "colab_type": "code",
        "colab": {},
        "outputId": "cf4b76f7-5d1f-40a7-fe06-e13854979656"
      },
      "source": [
        "df= df.drop(columns= 'Unnamed: 0')\n",
        "df.head()"
      ],
      "execution_count": 0,
      "outputs": [
        {
          "output_type": "execute_result",
          "data": {
            "text/html": [
              "<div>\n",
              "<style scoped>\n",
              "    .dataframe tbody tr th:only-of-type {\n",
              "        vertical-align: middle;\n",
              "    }\n",
              "\n",
              "    .dataframe tbody tr th {\n",
              "        vertical-align: top;\n",
              "    }\n",
              "\n",
              "    .dataframe thead th {\n",
              "        text-align: right;\n",
              "    }\n",
              "</style>\n",
              "<table border=\"1\" class=\"dataframe\">\n",
              "  <thead>\n",
              "    <tr style=\"text-align: right;\">\n",
              "      <th></th>\n",
              "      <th>description</th>\n",
              "      <th>title</th>\n",
              "      <th>clean_desc</th>\n",
              "    </tr>\n",
              "  </thead>\n",
              "  <tbody>\n",
              "    <tr>\n",
              "      <th>0</th>\n",
              "      <td>b\"&lt;div&gt;&lt;div&gt;Job Requirements:&lt;/div&gt;&lt;ul&gt;&lt;li&gt;&lt;p&gt;...</td>\n",
              "      <td>Data scientist</td>\n",
              "      <td>b\"Job Requirements:\\nConceptual understanding ...</td>\n",
              "    </tr>\n",
              "    <tr>\n",
              "      <th>1</th>\n",
              "      <td>b'&lt;div&gt;Job Description&lt;br/&gt;\\n&lt;br/&gt;\\n&lt;p&gt;As a Da...</td>\n",
              "      <td>Data Scientist I</td>\n",
              "      <td>b'Job Description\\n\\nAs a Data Scientist 1, yo...</td>\n",
              "    </tr>\n",
              "    <tr>\n",
              "      <th>2</th>\n",
              "      <td>b'&lt;div&gt;&lt;p&gt;As a Data Scientist you will be work...</td>\n",
              "      <td>Data Scientist - Entry Level</td>\n",
              "      <td>b'As a Data Scientist you will be working on c...</td>\n",
              "    </tr>\n",
              "    <tr>\n",
              "      <th>3</th>\n",
              "      <td>b'&lt;div class=\"jobsearch-JobMetadataHeader icl-...</td>\n",
              "      <td>Data Scientist</td>\n",
              "      <td>b'$4,969 - $6,756 a monthContractUnder the gen...</td>\n",
              "    </tr>\n",
              "    <tr>\n",
              "      <th>4</th>\n",
              "      <td>b'&lt;ul&gt;&lt;li&gt;Location: USA \\xe2\\x80\\x93 multiple ...</td>\n",
              "      <td>Data Scientist</td>\n",
              "      <td>b'Location: USA \\xe2\\x80\\x93 multiple location...</td>\n",
              "    </tr>\n",
              "  </tbody>\n",
              "</table>\n",
              "</div>"
            ],
            "text/plain": [
              "                                         description  \\\n",
              "0  b\"<div><div>Job Requirements:</div><ul><li><p>...   \n",
              "1  b'<div>Job Description<br/>\\n<br/>\\n<p>As a Da...   \n",
              "2  b'<div><p>As a Data Scientist you will be work...   \n",
              "3  b'<div class=\"jobsearch-JobMetadataHeader icl-...   \n",
              "4  b'<ul><li>Location: USA \\xe2\\x80\\x93 multiple ...   \n",
              "\n",
              "                          title  \\\n",
              "0               Data scientist    \n",
              "1              Data Scientist I   \n",
              "2  Data Scientist - Entry Level   \n",
              "3                Data Scientist   \n",
              "4                Data Scientist   \n",
              "\n",
              "                                          clean_desc  \n",
              "0  b\"Job Requirements:\\nConceptual understanding ...  \n",
              "1  b'Job Description\\n\\nAs a Data Scientist 1, yo...  \n",
              "2  b'As a Data Scientist you will be working on c...  \n",
              "3  b'$4,969 - $6,756 a monthContractUnder the gen...  \n",
              "4  b'Location: USA \\xe2\\x80\\x93 multiple location...  "
            ]
          },
          "metadata": {
            "tags": []
          },
          "execution_count": 11
        }
      ]
    },
    {
      "cell_type": "markdown",
      "metadata": {
        "colab_type": "text",
        "id": "5C4xFZNtX1m2"
      },
      "source": [
        "## 2) Use Spacy to tokenize the listings "
      ]
    },
    {
      "cell_type": "code",
      "metadata": {
        "id": "TN_LvnCX3iiZ",
        "colab_type": "code",
        "colab": {}
      },
      "source": [
        "from bs4 import BeautifulSoup as bs\n",
        "nlp = spacy.load('en_core_web_lg')\n",
        "def remove_unicode_chars(df):\n",
        "    df = df.copy()\n",
        "    df['description'] = df['description'].str.replace(r'(\\\\(x|n)[a-z0-9]{0,2})', '')\n",
        "    return df\n",
        "\n",
        "def remove_html(df):\n",
        "    df = df.copy()\n",
        "    df['description'] = df['description'].apply(lambda x: bs(x).get_text().replace(\"\\\\n\", \" \"))\n",
        "    df['description'] = df['description'].str.replace('b\"', '')\n",
        "    df['description'] = df['description'].str.replace(\"b'\", '')\n",
        "    df['description'] = df['description'].apply(lambda x: re.sub('[0-9]+', '', x))\n",
        "    df['description'] = df['description'].str.lower()\n",
        "    df['tokenized'] = df['description'].apply(lambda x: [token.text for token in nlp(x) \n",
        "                                                         if (token.is_stop is False) & (token.is_punct is False)])\n",
        "    return df"
      ],
      "execution_count": 0,
      "outputs": []
    },
    {
      "cell_type": "code",
      "metadata": {
        "id": "y7iBwQfu3iii",
        "colab_type": "code",
        "colab": {}
      },
      "source": [
        "df1 = remove_unicode_chars(df)\n",
        "df1 = remove_html(df1)\n",
        "df1.head()"
      ],
      "execution_count": 0,
      "outputs": []
    },
    {
      "cell_type": "code",
      "metadata": {
        "id": "Ii85ZMZ_3iir",
        "colab_type": "code",
        "colab": {},
        "outputId": "836fd456-b339-43a6-fcd1-53694d110cb7"
      },
      "source": [
        "from bs4 import BeautifulSoup as bs\n",
        "def remove_unicode(df):\n",
        "    df = df.copy()\n",
        "    df['clean_desc'] = df['clean_desc'].str.replace(r'(\\\\(x|n)[a-z0-9]{0,2})', '')\n",
        "    return df   \n",
        "def remove_html(df):\n",
        "    df = df.copy()\n",
        "    df['clean_desc'] = df['clean_desc'].str.replace(\"b'\", '')                               \n",
        "    df['clean_desc'] = df['clean_desc'].str.replace('b\"', '') \n",
        "    df['clean_desc'] = df['clean_desc'].apply(lambda x: bs(x).get_text().replace(\"\\\\n\", \" \"))                            \n",
        "    df['clean_desc'] = df['clean_desc'].str.lower()\n",
        "    df['clean_desc'] = df['clean_desc'].apply(lambda x: re.sub('[0-9]+', '', x)\n",
        "    #df['clean_desc'] = df['clean_desc'].str.replace(\"b'\", '')                               \n",
        "    #df['clean_desc'] = df['clean_desc'].str.replace('b\"', '') \n",
        "     \n",
        "    return df\n"
      ],
      "execution_count": 0,
      "outputs": [
        {
          "output_type": "error",
          "ename": "SyntaxError",
          "evalue": "invalid syntax (<ipython-input-30-13a776d8c0b7>, line 16)",
          "traceback": [
            "\u001b[1;36m  File \u001b[1;32m\"<ipython-input-30-13a776d8c0b7>\"\u001b[1;36m, line \u001b[1;32m16\u001b[0m\n\u001b[1;33m    return df\u001b[0m\n\u001b[1;37m         ^\u001b[0m\n\u001b[1;31mSyntaxError\u001b[0m\u001b[1;31m:\u001b[0m invalid syntax\n"
          ]
        }
      ]
    },
    {
      "cell_type": "code",
      "metadata": {
        "colab_type": "code",
        "id": "dhUHuMr-X-II",
        "colab": {},
        "outputId": "9e74e21c-2998-4d8a-81c1-0d3aab9b316d"
      },
      "source": [
        "\n",
        "df1=remove_unicode(df)\n",
        "df_cleaned =remove_html(df1)\n",
        "\n",
        "df_cleaned.head()\n",
        "\n"
      ],
      "execution_count": 0,
      "outputs": [
        {
          "output_type": "execute_result",
          "data": {
            "text/html": [
              "<div>\n",
              "<style scoped>\n",
              "    .dataframe tbody tr th:only-of-type {\n",
              "        vertical-align: middle;\n",
              "    }\n",
              "\n",
              "    .dataframe tbody tr th {\n",
              "        vertical-align: top;\n",
              "    }\n",
              "\n",
              "    .dataframe thead th {\n",
              "        text-align: right;\n",
              "    }\n",
              "</style>\n",
              "<table border=\"1\" class=\"dataframe\">\n",
              "  <thead>\n",
              "    <tr style=\"text-align: right;\">\n",
              "      <th></th>\n",
              "      <th>description</th>\n",
              "      <th>title</th>\n",
              "      <th>clean_desc</th>\n",
              "    </tr>\n",
              "  </thead>\n",
              "  <tbody>\n",
              "    <tr>\n",
              "      <th>0</th>\n",
              "      <td>b\"&lt;div&gt;&lt;div&gt;Job Requirements:&lt;/div&gt;&lt;ul&gt;&lt;li&gt;&lt;p&gt;...</td>\n",
              "      <td>Data scientist</td>\n",
              "      <td>job requirements:conceptual understanding in m...</td>\n",
              "    </tr>\n",
              "    <tr>\n",
              "      <th>1</th>\n",
              "      <td>b'&lt;div&gt;Job Description&lt;br/&gt;&lt;br/&gt;&lt;p&gt;As a Data S...</td>\n",
              "      <td>Data Scientist I</td>\n",
              "      <td>job descriptionas a data scientist 1, you will...</td>\n",
              "    </tr>\n",
              "    <tr>\n",
              "      <th>2</th>\n",
              "      <td>b'&lt;div&gt;&lt;p&gt;As a Data Scientist you will be work...</td>\n",
              "      <td>Data Scientist - Entry Level</td>\n",
              "      <td>as a data scientist you will be working on con...</td>\n",
              "    </tr>\n",
              "    <tr>\n",
              "      <th>3</th>\n",
              "      <td>b'&lt;div class=\"jobsearch-JobMetadataHeader icl-...</td>\n",
              "      <td>Data Scientist</td>\n",
              "      <td>$4,969 - $6,756 a monthcontractunder the gener...</td>\n",
              "    </tr>\n",
              "    <tr>\n",
              "      <th>4</th>\n",
              "      <td>b'&lt;ul&gt;&lt;li&gt;Location: USA  multiple locations&lt;/l...</td>\n",
              "      <td>Data Scientist</td>\n",
              "      <td>location: usa  multiple locations+ years of an...</td>\n",
              "    </tr>\n",
              "  </tbody>\n",
              "</table>\n",
              "</div>"
            ],
            "text/plain": [
              "                                         description  \\\n",
              "0  b\"<div><div>Job Requirements:</div><ul><li><p>...   \n",
              "1  b'<div>Job Description<br/><br/><p>As a Data S...   \n",
              "2  b'<div><p>As a Data Scientist you will be work...   \n",
              "3  b'<div class=\"jobsearch-JobMetadataHeader icl-...   \n",
              "4  b'<ul><li>Location: USA  multiple locations</l...   \n",
              "\n",
              "                          title  \\\n",
              "0               Data scientist    \n",
              "1              Data Scientist I   \n",
              "2  Data Scientist - Entry Level   \n",
              "3                Data Scientist   \n",
              "4                Data Scientist   \n",
              "\n",
              "                                          clean_desc  \n",
              "0  job requirements:conceptual understanding in m...  \n",
              "1  job descriptionas a data scientist 1, you will...  \n",
              "2  as a data scientist you will be working on con...  \n",
              "3  $4,969 - $6,756 a monthcontractunder the gener...  \n",
              "4  location: usa  multiple locations+ years of an...  "
            ]
          },
          "metadata": {
            "tags": []
          },
          "execution_count": 19
        }
      ]
    },
    {
      "cell_type": "code",
      "metadata": {
        "id": "oqj0fVdq3ijG",
        "colab_type": "code",
        "colab": {}
      },
      "source": [
        "nlp = spacy.load('en_core_web_lg')\n",
        "doc = nlp(str(df_cleaned['clean_desc']))"
      ],
      "execution_count": 0,
      "outputs": []
    },
    {
      "cell_type": "code",
      "metadata": {
        "id": "zgtJXoML3ijS",
        "colab_type": "code",
        "colab": {}
      },
      "source": [
        ""
      ],
      "execution_count": 0,
      "outputs": []
    },
    {
      "cell_type": "code",
      "metadata": {
        "id": "-QJtAnqC3ijc",
        "colab_type": "code",
        "colab": {}
      },
      "source": [
        ""
      ],
      "execution_count": 0,
      "outputs": []
    },
    {
      "cell_type": "code",
      "metadata": {
        "id": "jzARGB7Y3ijk",
        "colab_type": "code",
        "colab": {}
      },
      "source": [
        ""
      ],
      "execution_count": 0,
      "outputs": []
    },
    {
      "cell_type": "code",
      "metadata": {
        "id": "LGqHgFtu3ijt",
        "colab_type": "code",
        "colab": {}
      },
      "source": [
        ""
      ],
      "execution_count": 0,
      "outputs": []
    },
    {
      "cell_type": "code",
      "metadata": {
        "id": "u7EGYTQg3ij4",
        "colab_type": "code",
        "colab": {}
      },
      "source": [
        ""
      ],
      "execution_count": 0,
      "outputs": []
    },
    {
      "cell_type": "markdown",
      "metadata": {
        "colab_type": "text",
        "id": "-lgCZNL_YycP"
      },
      "source": [
        "## 3) Use Scikit-Learn's CountVectorizer to get word counts for each listing."
      ]
    },
    {
      "cell_type": "code",
      "metadata": {
        "colab_type": "code",
        "id": "X2PZ8Pj_YxcF",
        "colab": {}
      },
      "source": [
        "##### Your Code Here #####\n",
        "raise Exception(\"\\nThis task is not complete. \\nReplace this line with your code for the task.\""
      ],
      "execution_count": 0,
      "outputs": []
    },
    {
      "cell_type": "markdown",
      "metadata": {
        "colab_type": "text",
        "id": "Zo1iH_UeY7_n"
      },
      "source": [
        "## 4) Visualize the most common word counts"
      ]
    },
    {
      "cell_type": "code",
      "metadata": {
        "colab_type": "code",
        "id": "M5LB00uyZKV5",
        "colab": {}
      },
      "source": [
        "##### Your Code Here #####\n",
        "raise Exception(\"\\nThis task is not complete. \\nReplace this line with your code for the task.\""
      ],
      "execution_count": 0,
      "outputs": []
    },
    {
      "cell_type": "markdown",
      "metadata": {
        "colab_type": "text",
        "id": "bwFsTqrVZMYi"
      },
      "source": [
        "## 5) Use Scikit-Learn's tfidfVectorizer to get a TF-IDF feature matrix"
      ]
    },
    {
      "cell_type": "code",
      "metadata": {
        "colab_type": "code",
        "id": "-gx2gZCbl5Np",
        "colab": {}
      },
      "source": [
        "##### Your Code Here #####\n",
        "raise Exception(\"\\nThis task is not complete. \\nReplace this line with your code for the task.\""
      ],
      "execution_count": 0,
      "outputs": []
    },
    {
      "cell_type": "markdown",
      "metadata": {
        "id": "AOIEy0KB3ikZ",
        "colab_type": "text"
      },
      "source": [
        "## 6) Create a NearestNeighbor Model. Write the description of your ideal datascience job and query your job listings. "
      ]
    },
    {
      "cell_type": "code",
      "metadata": {
        "inputHidden": false,
        "jupyter": {
          "outputs_hidden": false
        },
        "outputHidden": false,
        "id": "pjkKW40R3ikd",
        "colab_type": "code",
        "colab": {}
      },
      "source": [
        "##### Your Code Here #####\n",
        "raise Exception(\"\\nThis task is not complete. \\nReplace this line with your code for the task.\""
      ],
      "execution_count": 0,
      "outputs": []
    },
    {
      "cell_type": "markdown",
      "metadata": {
        "colab_type": "text",
        "id": "FiDfTWceoRkH"
      },
      "source": [
        "## Stretch Goals\n",
        "\n",
        " - Try different visualizations for words and frequencies - what story do you want to tell with the data?\n",
        " - Scrape Job Listings for the job title \"Data Analyst\". How do these differ from Data Scientist Job Listings\n",
        " - Try and identify requirements for experience specific technologies that are asked for in the job listings. How are those distributed among the job listings?\n",
        " - Use a clustering algorithm to cluster documents by their most important terms. Do the clusters reveal any common themes?\n",
        "  - **Hint:** K-means might not be the best algorithm for this. Do a little bit of research to see what might be good for this. Also, remember that algorithms that depend on Euclidean distance break down with high dimensional data.\n",
        " - Create a labeled dataset - which jobs will you apply for? Train a model to select the jobs you are most likely to apply for. :) "
      ]
    }
  ]
}