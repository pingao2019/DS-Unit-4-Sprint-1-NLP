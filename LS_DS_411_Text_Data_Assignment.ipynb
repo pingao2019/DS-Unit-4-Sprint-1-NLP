{
  "nbformat": 4,
  "nbformat_minor": 0,
  "metadata": {
    "colab": {
      "name": "LS_DS_411_Text_Data_Assignment.ipynb",
      "provenance": [],
      "collapsed_sections": [],
      "include_colab_link": true
    },
    "kernelspec": {
      "display_name": "Python 3",
      "language": "python",
      "name": "python3"
    },
    "language_info": {
      "codemirror_mode": {
        "name": "ipython",
        "version": 3
      },
      "file_extension": ".py",
      "mimetype": "text/x-python",
      "name": "python",
      "nbconvert_exporter": "python",
      "pygments_lexer": "ipython3",
      "version": "3.7.6"
    },
    "toc-autonumbering": false
  },
  "cells": [
    {
      "cell_type": "markdown",
      "metadata": {
        "id": "view-in-github",
        "colab_type": "text"
      },
      "source": [
        "<a href=\"https://colab.research.google.com/github/pingao2019/DS-Unit-4-Sprint-1-NLP/blob/master/LS_DS_411_Text_Data_Assignment.ipynb\" target=\"_parent\"><img src=\"https://colab.research.google.com/assets/colab-badge.svg\" alt=\"Open In Colab\"/></a>"
      ]
    },
    {
      "cell_type": "markdown",
      "metadata": {
        "id": "X2eH8bfplByG",
        "colab_type": "text"
      },
      "source": [
        "<img align=\"left\" src=\"https://lever-client-logos.s3.amazonaws.com/864372b1-534c-480e-acd5-9711f850815c-1524247202159.png\" width=200>\n",
        "<br></br>\n",
        "<br></br>\n",
        "\n",
        "# Natural Language Processing (NLP)\n",
        "## *Data Science Unit 4 Sprint 1 Assignment 1*\n",
        "\n",
        "Your goal in this assignment: find the attributes of the best & worst coffee shops in the dataset. The text is fairly raw: dates in the review, extra words in the `star_rating` column, etc. You'll probably want to clean that stuff up for a better analysis. \n",
        "\n",
        "Analyze the corpus of text using text visualizations of token frequency. Try cleaning the data as much as possible. Try the following techniques: \n",
        "- Lemmatization\n",
        "- Custom stopword removal\n",
        "\n",
        "Keep in mind the attributes of good tokens. Once you have a solid baseline, layer in the star rating in your visualization(s). Key part of this assignment - produce a write-up of the attributes of the best and worst coffee shops. Based on your analysis, what makes the best the best and the worst the worst. Use graphs and numbesr from your analysis to support your conclusions. There should be plenty of markdown cells! :coffee:\n",
        "\n",
        "\n",
        "## How do we want to analyze these coffee shop tokens? \n",
        "\n",
        "- Overall Word / Token Count\n",
        "- View Counts by Rating \n",
        "- *Hint:* a 'bad' coffee shops has a rating betweeen 1 & 3 based on the distribution of ratings. A 'good' coffee shop is a 4 or 5. \n",
        "\n",
        "\n",
        "\n"
      ]
    },
    {
      "cell_type": "markdown",
      "metadata": {
        "id": "JQ7d_1NHlByN",
        "colab_type": "text"
      },
      "source": [
        "## Can visualize the words with the greatest difference in counts between 'good' & 'bad'?\n",
        "\n",
        "Couple Notes: \n",
        "- Rel. freq. instead of absolute counts b/c of different numbers of reviews\n",
        "- Only look at the top 5-10 words with the greatest differences\n"
      ]
    },
    {
      "cell_type": "code",
      "metadata": {
        "id": "ppsc5Qt4lByT",
        "colab_type": "code",
        "colab": {}
      },
      "source": [
        ""
      ],
      "execution_count": 0,
      "outputs": []
    },
    {
      "cell_type": "code",
      "metadata": {
        "id": "8IQWqtN3lByq",
        "colab_type": "code",
        "colab": {},
        "outputId": "0325cbde-4063-4193-ac64-49fd2c49037f"
      },
      "source": [
        "%pwd"
      ],
      "execution_count": 0,
      "outputs": [
        {
          "output_type": "execute_result",
          "data": {
            "text/plain": [
              "'C:\\\\Users\\\\abc\\\\Desktop\\\\DS-Unit-4-Sprint-1-NLP\\\\module1-text-data'"
            ]
          },
          "metadata": {
            "tags": []
          },
          "execution_count": 7
        }
      ]
    },
    {
      "cell_type": "code",
      "metadata": {
        "id": "pfXK3DE6lBy7",
        "colab_type": "code",
        "colab": {},
        "outputId": "f1bd0fda-afee-4965-9c4e-f321ad52a471"
      },
      "source": [
        "\n",
        "import pandas as pd\n",
        "shops= pd.read_csv('./data/yelp_coffeeshop_review_data.csv')\n",
        "\n",
        "#url = \"https://raw.githubusercontent.com/LambdaSchool/DS-Unit-4-Sprint-1-NLP/master/module1-text-data/data/yelp_coffeeshop_review_data.csv\"\n",
        "\n",
        "#shops = pd.read_csv(url)\n",
        "shops.head()"
      ],
      "execution_count": 0,
      "outputs": [
        {
          "output_type": "execute_result",
          "data": {
            "text/html": [
              "<div>\n",
              "<style scoped>\n",
              "    .dataframe tbody tr th:only-of-type {\n",
              "        vertical-align: middle;\n",
              "    }\n",
              "\n",
              "    .dataframe tbody tr th {\n",
              "        vertical-align: top;\n",
              "    }\n",
              "\n",
              "    .dataframe thead th {\n",
              "        text-align: right;\n",
              "    }\n",
              "</style>\n",
              "<table border=\"1\" class=\"dataframe\">\n",
              "  <thead>\n",
              "    <tr style=\"text-align: right;\">\n",
              "      <th></th>\n",
              "      <th>coffee_shop_name</th>\n",
              "      <th>full_review_text</th>\n",
              "      <th>star_rating</th>\n",
              "    </tr>\n",
              "  </thead>\n",
              "  <tbody>\n",
              "    <tr>\n",
              "      <th>0</th>\n",
              "      <td>The Factory - Cafe With a Soul</td>\n",
              "      <td>11/25/2016 1 check-in Love love loved the atm...</td>\n",
              "      <td>5.0 star rating</td>\n",
              "    </tr>\n",
              "    <tr>\n",
              "      <th>1</th>\n",
              "      <td>The Factory - Cafe With a Soul</td>\n",
              "      <td>12/2/2016 Listed in Date Night: Austin, Ambia...</td>\n",
              "      <td>4.0 star rating</td>\n",
              "    </tr>\n",
              "    <tr>\n",
              "      <th>2</th>\n",
              "      <td>The Factory - Cafe With a Soul</td>\n",
              "      <td>11/30/2016 1 check-in Listed in Brunch Spots ...</td>\n",
              "      <td>4.0 star rating</td>\n",
              "    </tr>\n",
              "    <tr>\n",
              "      <th>3</th>\n",
              "      <td>The Factory - Cafe With a Soul</td>\n",
              "      <td>11/25/2016 Very cool decor! Good drinks Nice ...</td>\n",
              "      <td>2.0 star rating</td>\n",
              "    </tr>\n",
              "    <tr>\n",
              "      <th>4</th>\n",
              "      <td>The Factory - Cafe With a Soul</td>\n",
              "      <td>12/3/2016 1 check-in They are located within ...</td>\n",
              "      <td>4.0 star rating</td>\n",
              "    </tr>\n",
              "  </tbody>\n",
              "</table>\n",
              "</div>"
            ],
            "text/plain": [
              "                  coffee_shop_name  \\\n",
              "0  The Factory - Cafe With a Soul    \n",
              "1  The Factory - Cafe With a Soul    \n",
              "2  The Factory - Cafe With a Soul    \n",
              "3  The Factory - Cafe With a Soul    \n",
              "4  The Factory - Cafe With a Soul    \n",
              "\n",
              "                                    full_review_text        star_rating  \n",
              "0   11/25/2016 1 check-in Love love loved the atm...   5.0 star rating   \n",
              "1   12/2/2016 Listed in Date Night: Austin, Ambia...   4.0 star rating   \n",
              "2   11/30/2016 1 check-in Listed in Brunch Spots ...   4.0 star rating   \n",
              "3   11/25/2016 Very cool decor! Good drinks Nice ...   2.0 star rating   \n",
              "4   12/3/2016 1 check-in They are located within ...   4.0 star rating   "
            ]
          },
          "metadata": {
            "tags": []
          },
          "execution_count": 8
        }
      ]
    },
    {
      "cell_type": "code",
      "metadata": {
        "id": "J5uLXPy8lBzL",
        "colab_type": "code",
        "colab": {},
        "outputId": "0a81403e-f48e-4613-ae2a-97275b3847ad"
      },
      "source": [
        "shops.shape"
      ],
      "execution_count": 0,
      "outputs": [
        {
          "output_type": "execute_result",
          "data": {
            "text/plain": [
              "(7616, 3)"
            ]
          },
          "metadata": {
            "tags": []
          },
          "execution_count": 9
        }
      ]
    },
    {
      "cell_type": "code",
      "metadata": {
        "id": "FDwm64QqlBzd",
        "colab_type": "code",
        "colab": {},
        "outputId": "9028a6c5-0e35-40b9-d814-965480ca576e"
      },
      "source": [
        "shops['star_rating'].value_counts(normalize=True)"
      ],
      "execution_count": 0,
      "outputs": [
        {
          "output_type": "execute_result",
          "data": {
            "text/plain": [
              " 5.0 star rating     0.496324\n",
              " 4.0 star rating     0.309874\n",
              " 3.0 star rating     0.096901\n",
              " 2.0 star rating     0.060399\n",
              " 1.0 star rating     0.036502\n",
              "Name: star_rating, dtype: float64"
            ]
          },
          "metadata": {
            "tags": []
          },
          "execution_count": 10
        }
      ]
    },
    {
      "cell_type": "code",
      "metadata": {
        "id": "Ka9QtivLlBzu",
        "colab_type": "code",
        "colab": {},
        "outputId": "9beb1e65-d61c-49de-ee76-370f3f1a4be8"
      },
      "source": [
        "shops1 = shops.copy()\n",
        "shops1['star_rating'] = shops1['star_rating'].astype(str).str[1:4]\n",
        "shops1['star_rating'] = shops1['star_rating'].astype(float)\n",
        "shops1.head()"
      ],
      "execution_count": 0,
      "outputs": [
        {
          "output_type": "execute_result",
          "data": {
            "text/html": [
              "<div>\n",
              "<style scoped>\n",
              "    .dataframe tbody tr th:only-of-type {\n",
              "        vertical-align: middle;\n",
              "    }\n",
              "\n",
              "    .dataframe tbody tr th {\n",
              "        vertical-align: top;\n",
              "    }\n",
              "\n",
              "    .dataframe thead th {\n",
              "        text-align: right;\n",
              "    }\n",
              "</style>\n",
              "<table border=\"1\" class=\"dataframe\">\n",
              "  <thead>\n",
              "    <tr style=\"text-align: right;\">\n",
              "      <th></th>\n",
              "      <th>coffee_shop_name</th>\n",
              "      <th>full_review_text</th>\n",
              "      <th>star_rating</th>\n",
              "    </tr>\n",
              "  </thead>\n",
              "  <tbody>\n",
              "    <tr>\n",
              "      <th>0</th>\n",
              "      <td>The Factory - Cafe With a Soul</td>\n",
              "      <td>11/25/2016 1 check-in Love love loved the atm...</td>\n",
              "      <td>5.0</td>\n",
              "    </tr>\n",
              "    <tr>\n",
              "      <th>1</th>\n",
              "      <td>The Factory - Cafe With a Soul</td>\n",
              "      <td>12/2/2016 Listed in Date Night: Austin, Ambia...</td>\n",
              "      <td>4.0</td>\n",
              "    </tr>\n",
              "    <tr>\n",
              "      <th>2</th>\n",
              "      <td>The Factory - Cafe With a Soul</td>\n",
              "      <td>11/30/2016 1 check-in Listed in Brunch Spots ...</td>\n",
              "      <td>4.0</td>\n",
              "    </tr>\n",
              "    <tr>\n",
              "      <th>3</th>\n",
              "      <td>The Factory - Cafe With a Soul</td>\n",
              "      <td>11/25/2016 Very cool decor! Good drinks Nice ...</td>\n",
              "      <td>2.0</td>\n",
              "    </tr>\n",
              "    <tr>\n",
              "      <th>4</th>\n",
              "      <td>The Factory - Cafe With a Soul</td>\n",
              "      <td>12/3/2016 1 check-in They are located within ...</td>\n",
              "      <td>4.0</td>\n",
              "    </tr>\n",
              "  </tbody>\n",
              "</table>\n",
              "</div>"
            ],
            "text/plain": [
              "                  coffee_shop_name  \\\n",
              "0  The Factory - Cafe With a Soul    \n",
              "1  The Factory - Cafe With a Soul    \n",
              "2  The Factory - Cafe With a Soul    \n",
              "3  The Factory - Cafe With a Soul    \n",
              "4  The Factory - Cafe With a Soul    \n",
              "\n",
              "                                    full_review_text  star_rating  \n",
              "0   11/25/2016 1 check-in Love love loved the atm...          5.0  \n",
              "1   12/2/2016 Listed in Date Night: Austin, Ambia...          4.0  \n",
              "2   11/30/2016 1 check-in Listed in Brunch Spots ...          4.0  \n",
              "3   11/25/2016 Very cool decor! Good drinks Nice ...          2.0  \n",
              "4   12/3/2016 1 check-in They are located within ...          4.0  "
            ]
          },
          "metadata": {
            "tags": []
          },
          "execution_count": 11
        }
      ]
    },
    {
      "cell_type": "code",
      "metadata": {
        "id": "ItjJKqHVlBz9",
        "colab_type": "code",
        "colab": {},
        "outputId": "7cd942ea-d1f9-4082-ebbe-3b65fe56f141"
      },
      "source": [
        "shops1['Rating'] = shops1['star_rating'].apply(lambda x: 'good' if x >= 4 else 'bad')\n",
        "\n",
        "shops1.head()"
      ],
      "execution_count": 0,
      "outputs": [
        {
          "output_type": "execute_result",
          "data": {
            "text/html": [
              "<div>\n",
              "<style scoped>\n",
              "    .dataframe tbody tr th:only-of-type {\n",
              "        vertical-align: middle;\n",
              "    }\n",
              "\n",
              "    .dataframe tbody tr th {\n",
              "        vertical-align: top;\n",
              "    }\n",
              "\n",
              "    .dataframe thead th {\n",
              "        text-align: right;\n",
              "    }\n",
              "</style>\n",
              "<table border=\"1\" class=\"dataframe\">\n",
              "  <thead>\n",
              "    <tr style=\"text-align: right;\">\n",
              "      <th></th>\n",
              "      <th>coffee_shop_name</th>\n",
              "      <th>full_review_text</th>\n",
              "      <th>star_rating</th>\n",
              "      <th>Rating</th>\n",
              "    </tr>\n",
              "  </thead>\n",
              "  <tbody>\n",
              "    <tr>\n",
              "      <th>0</th>\n",
              "      <td>The Factory - Cafe With a Soul</td>\n",
              "      <td>11/25/2016 1 check-in Love love loved the atm...</td>\n",
              "      <td>5.0</td>\n",
              "      <td>good</td>\n",
              "    </tr>\n",
              "    <tr>\n",
              "      <th>1</th>\n",
              "      <td>The Factory - Cafe With a Soul</td>\n",
              "      <td>12/2/2016 Listed in Date Night: Austin, Ambia...</td>\n",
              "      <td>4.0</td>\n",
              "      <td>good</td>\n",
              "    </tr>\n",
              "    <tr>\n",
              "      <th>2</th>\n",
              "      <td>The Factory - Cafe With a Soul</td>\n",
              "      <td>11/30/2016 1 check-in Listed in Brunch Spots ...</td>\n",
              "      <td>4.0</td>\n",
              "      <td>good</td>\n",
              "    </tr>\n",
              "    <tr>\n",
              "      <th>3</th>\n",
              "      <td>The Factory - Cafe With a Soul</td>\n",
              "      <td>11/25/2016 Very cool decor! Good drinks Nice ...</td>\n",
              "      <td>2.0</td>\n",
              "      <td>bad</td>\n",
              "    </tr>\n",
              "    <tr>\n",
              "      <th>4</th>\n",
              "      <td>The Factory - Cafe With a Soul</td>\n",
              "      <td>12/3/2016 1 check-in They are located within ...</td>\n",
              "      <td>4.0</td>\n",
              "      <td>good</td>\n",
              "    </tr>\n",
              "  </tbody>\n",
              "</table>\n",
              "</div>"
            ],
            "text/plain": [
              "                  coffee_shop_name  \\\n",
              "0  The Factory - Cafe With a Soul    \n",
              "1  The Factory - Cafe With a Soul    \n",
              "2  The Factory - Cafe With a Soul    \n",
              "3  The Factory - Cafe With a Soul    \n",
              "4  The Factory - Cafe With a Soul    \n",
              "\n",
              "                                    full_review_text  star_rating Rating  \n",
              "0   11/25/2016 1 check-in Love love loved the atm...          5.0   good  \n",
              "1   12/2/2016 Listed in Date Night: Austin, Ambia...          4.0   good  \n",
              "2   11/30/2016 1 check-in Listed in Brunch Spots ...          4.0   good  \n",
              "3   11/25/2016 Very cool decor! Good drinks Nice ...          2.0    bad  \n",
              "4   12/3/2016 1 check-in They are located within ...          4.0   good  "
            ]
          },
          "metadata": {
            "tags": []
          },
          "execution_count": 29
        }
      ]
    },
    {
      "cell_type": "markdown",
      "metadata": {
        "id": "5Wi7XzixlB0G",
        "colab_type": "raw"
      },
      "source": [
        ""
      ]
    },
    {
      "cell_type": "code",
      "metadata": {
        "id": "tJ0z0NF3lB0J",
        "colab_type": "code",
        "colab": {},
        "outputId": "0b1502d5-592b-460f-c220-302da0bceef3"
      },
      "source": [
        "import seaborn as sns\n",
        "chart=sns.countplot(shops1['star_rating'])\n",
        "1chart.set_xticklabels(chart.get_xticklabels(), rotation=45);\n"
      ],
      "execution_count": 0,
      "outputs": [
        {
          "output_type": "display_data",
          "data": {
            "image/png": "[encoded data removed]",
            "text/plain": [
              "<Figure size 432x288 with 1 Axes>"
            ]
          },
          "metadata": {
            "tags": [],
            "needs_background": "light"
          }
        }
      ]
    },
    {
      "cell_type": "markdown",
      "metadata": {
        "id": "wuOwlFvclB0V",
        "colab_type": "raw"
      },
      "source": [
        ""
      ]
    },
    {
      "cell_type": "code",
      "metadata": {
        "id": "wbqen34DlB0X",
        "colab_type": "code",
        "colab": {}
      },
      "source": [
        "import spacy\n",
        "from spacy.tokenizer import Tokenizer\n",
        "\n",
        "# load the spacy nlprocessor\n",
        "nlp = spacy.load(\"en_core_web_lg\")\n",
        "\n",
        "# instantiate the tokenizer\n",
        "tokenizer = Tokenizer(nlp.vocab)"
      ],
      "execution_count": 0,
      "outputs": []
    },
    {
      "cell_type": "code",
      "metadata": {
        "id": "dbZYXMwElB0o",
        "colab_type": "code",
        "colab": {},
        "outputId": "d8dbf6a6-8564-4a27-80b4-54eae7c6d53b"
      },
      "source": [
        "document = nlp(str(shops1['full_review_text']))\n",
        "document"
      ],
      "execution_count": 0,
      "outputs": [
        {
          "output_type": "execute_result",
          "data": {
            "text/plain": [
              "0        11/25/2016 1 check-in Love love loved the atm...\n",
              "1        12/2/2016 Listed in Date Night: Austin, Ambia...\n",
              "2        11/30/2016 1 check-in Listed in Brunch Spots ...\n",
              "3        11/25/2016 Very cool decor! Good drinks Nice ...\n",
              "4        12/3/2016 1 check-in They are located within ...\n",
              "                              ...                        \n",
              "7611     2/19/2015 I actually step into this restauran...\n",
              "7612     1/21/2016 Ok, The Steeping Room IS awesome. H...\n",
              "7613     4/30/2015 Loved coming here for tea, and the ...\n",
              "7614     8/2/2015 The food is just average. The booths...\n",
              "7615     5/23/2015 I finally stopped in for lunch with...\n",
              "Name: full_review_text, Length: 7616, dtype: object"
            ]
          },
          "metadata": {
            "tags": []
          },
          "execution_count": 31
        }
      ]
    },
    {
      "cell_type": "code",
      "metadata": {
        "id": "huFNjxw4lB02",
        "colab_type": "code",
        "colab": {},
        "outputId": "cf97d57b-c7c4-49c9-d216-7f40ec5e4cbe"
      },
      "source": [
        "for token in document:\n",
        "    print(token.text)"
      ],
      "execution_count": 0,
      "outputs": [
        {
          "output_type": "stream",
          "text": [
            "0\n",
            "       \n",
            "11/25/2016\n",
            "1\n",
            "check\n",
            "-\n",
            "in\n",
            "Love\n",
            "love\n",
            "loved\n",
            "the\n",
            "atm\n",
            "...\n",
            "\n",
            "\n",
            "1\n",
            "       \n",
            "12/2/2016\n",
            "Listed\n",
            "in\n",
            "Date\n",
            "Night\n",
            ":\n",
            "Austin\n",
            ",\n",
            "Ambia\n",
            "...\n",
            "\n",
            "\n",
            "2\n",
            "       \n",
            "11/30/2016\n",
            "1\n",
            "check\n",
            "-\n",
            "in\n",
            "Listed\n",
            "in\n",
            "Brunch\n",
            "Spots\n",
            "...\n",
            "\n",
            "\n",
            "3\n",
            "       \n",
            "11/25/2016\n",
            "Very\n",
            "cool\n",
            "decor\n",
            "!\n",
            "Good\n",
            "drinks\n",
            "Nice\n",
            "...\n",
            "\n",
            "\n",
            "4\n",
            "       \n",
            "12/3/2016\n",
            "1\n",
            "check\n",
            "-\n",
            "in\n",
            "They\n",
            "are\n",
            "located\n",
            "within\n",
            "...\n",
            "\n",
            "                              \n",
            "...\n",
            "                       \n",
            "\n",
            "7611\n",
            "    \n",
            "2/19/2015\n",
            "I\n",
            "actually\n",
            "step\n",
            "into\n",
            "this\n",
            "restauran\n",
            "...\n",
            "\n",
            "\n",
            "7612\n",
            "    \n",
            "1/21/2016\n",
            "Ok\n",
            ",\n",
            "The\n",
            "Steeping\n",
            "Room\n",
            "IS\n",
            "awesome\n",
            ".\n",
            "H\n",
            "...\n",
            "\n",
            "\n",
            "7613\n",
            "    \n",
            "4/30/2015\n",
            "Loved\n",
            "coming\n",
            "here\n",
            "for\n",
            "tea\n",
            ",\n",
            "and\n",
            "the\n",
            "...\n",
            "\n",
            "\n",
            "7614\n",
            "    \n",
            "8/2/2015\n",
            "The\n",
            "food\n",
            "is\n",
            "just\n",
            "average\n",
            ".\n",
            "The\n",
            "booths\n",
            "...\n",
            "\n",
            "\n",
            "7615\n",
            "    \n",
            "5/23/2015\n",
            "I\n",
            "finally\n",
            "stopped\n",
            "in\n",
            "for\n",
            "lunch\n",
            "with\n",
            "...\n",
            "\n",
            "\n",
            "Name\n",
            ":\n",
            "full_review_text\n",
            ",\n",
            "Length\n",
            ":\n",
            "7616\n",
            ",\n",
            "dtype\n",
            ":\n",
            "object\n"
          ],
          "name": "stdout"
        }
      ]
    },
    {
      "cell_type": "code",
      "metadata": {
        "id": "I2RIA-93lB1D",
        "colab_type": "code",
        "colab": {}
      },
      "source": [
        "\n",
        "tokens = []\n",
        "\n",
        "#  Tokenizer.pipe tokenizes a stream of text\n",
        "for doc in tokenizer.pipe(shops1['full_review_text'], batch_size=500):\n",
        "    doc_tokens = [token.text for token in doc] # take the token for each iteration\n",
        "    tokens.append(doc_tokens) \n",
        "\n",
        "shops1['tokens'] = tokens"
      ],
      "execution_count": 0,
      "outputs": []
    },
    {
      "cell_type": "code",
      "metadata": {
        "id": "QB526QoFlB1R",
        "colab_type": "code",
        "colab": {},
        "outputId": "db2f2d8a-eab7-4d7a-9d08-26c8df4bbacc"
      },
      "source": [
        "shops1.head()"
      ],
      "execution_count": 0,
      "outputs": [
        {
          "output_type": "execute_result",
          "data": {
            "text/html": [
              "<div>\n",
              "<style scoped>\n",
              "    .dataframe tbody tr th:only-of-type {\n",
              "        vertical-align: middle;\n",
              "    }\n",
              "\n",
              "    .dataframe tbody tr th {\n",
              "        vertical-align: top;\n",
              "    }\n",
              "\n",
              "    .dataframe thead th {\n",
              "        text-align: right;\n",
              "    }\n",
              "</style>\n",
              "<table border=\"1\" class=\"dataframe\">\n",
              "  <thead>\n",
              "    <tr style=\"text-align: right;\">\n",
              "      <th></th>\n",
              "      <th>coffee_shop_name</th>\n",
              "      <th>full_review_text</th>\n",
              "      <th>star_rating</th>\n",
              "      <th>Rating</th>\n",
              "      <th>tokens</th>\n",
              "    </tr>\n",
              "  </thead>\n",
              "  <tbody>\n",
              "    <tr>\n",
              "      <th>0</th>\n",
              "      <td>The Factory - Cafe With a Soul</td>\n",
              "      <td>11/25/2016 1 check-in Love love loved the atm...</td>\n",
              "      <td>5.0</td>\n",
              "      <td>good</td>\n",
              "      <td>[ , 11/25/2016, 1, check-in, Love, love, loved...</td>\n",
              "    </tr>\n",
              "    <tr>\n",
              "      <th>1</th>\n",
              "      <td>The Factory - Cafe With a Soul</td>\n",
              "      <td>12/2/2016 Listed in Date Night: Austin, Ambia...</td>\n",
              "      <td>4.0</td>\n",
              "      <td>good</td>\n",
              "      <td>[ , 12/2/2016, Listed, in, Date, Night:, Austi...</td>\n",
              "    </tr>\n",
              "    <tr>\n",
              "      <th>2</th>\n",
              "      <td>The Factory - Cafe With a Soul</td>\n",
              "      <td>11/30/2016 1 check-in Listed in Brunch Spots ...</td>\n",
              "      <td>4.0</td>\n",
              "      <td>good</td>\n",
              "      <td>[ , 11/30/2016, 1, check-in, Listed, in, Brunc...</td>\n",
              "    </tr>\n",
              "    <tr>\n",
              "      <th>3</th>\n",
              "      <td>The Factory - Cafe With a Soul</td>\n",
              "      <td>11/25/2016 Very cool decor! Good drinks Nice ...</td>\n",
              "      <td>2.0</td>\n",
              "      <td>bad</td>\n",
              "      <td>[ , 11/25/2016, Very, cool, decor!, Good, drin...</td>\n",
              "    </tr>\n",
              "    <tr>\n",
              "      <th>4</th>\n",
              "      <td>The Factory - Cafe With a Soul</td>\n",
              "      <td>12/3/2016 1 check-in They are located within ...</td>\n",
              "      <td>4.0</td>\n",
              "      <td>good</td>\n",
              "      <td>[ , 12/3/2016, 1, check-in, They, are, located...</td>\n",
              "    </tr>\n",
              "  </tbody>\n",
              "</table>\n",
              "</div>"
            ],
            "text/plain": [
              "                  coffee_shop_name  \\\n",
              "0  The Factory - Cafe With a Soul    \n",
              "1  The Factory - Cafe With a Soul    \n",
              "2  The Factory - Cafe With a Soul    \n",
              "3  The Factory - Cafe With a Soul    \n",
              "4  The Factory - Cafe With a Soul    \n",
              "\n",
              "                                    full_review_text  star_rating Rating  \\\n",
              "0   11/25/2016 1 check-in Love love loved the atm...          5.0   good   \n",
              "1   12/2/2016 Listed in Date Night: Austin, Ambia...          4.0   good   \n",
              "2   11/30/2016 1 check-in Listed in Brunch Spots ...          4.0   good   \n",
              "3   11/25/2016 Very cool decor! Good drinks Nice ...          2.0    bad   \n",
              "4   12/3/2016 1 check-in They are located within ...          4.0   good   \n",
              "\n",
              "                                              tokens  \n",
              "0  [ , 11/25/2016, 1, check-in, Love, love, loved...  \n",
              "1  [ , 12/2/2016, Listed, in, Date, Night:, Austi...  \n",
              "2  [ , 11/30/2016, 1, check-in, Listed, in, Brunc...  \n",
              "3  [ , 11/25/2016, Very, cool, decor!, Good, drin...  \n",
              "4  [ , 12/3/2016, 1, check-in, They, are, located...  "
            ]
          },
          "metadata": {
            "tags": []
          },
          "execution_count": 34
        }
      ]
    },
    {
      "cell_type": "code",
      "metadata": {
        "id": "zMJfF4JKlB1d",
        "colab_type": "code",
        "colab": {}
      },
      "source": [
        "# Function that takes a corpus of document and returns and dataframe of word counts for us to analyze.\n",
        "from collections import Counter\n",
        "def count(docs):\n",
        "\n",
        "        word_counts = Counter()\n",
        "        appears_in = Counter()\n",
        "        \n",
        "        total_docs = len(docs)\n",
        "\n",
        "        for doc in docs:\n",
        "            word_counts.update(doc)\n",
        "            appears_in.update(set(doc))\n",
        "\n",
        "        temp = zip(word_counts.keys(), word_counts.values())\n",
        "        \n",
        "        wc = pd.DataFrame(temp, columns = ['word', 'count'])\n",
        "\n",
        "        wc['rank'] = wc['count'].rank(method='first', ascending=False)\n",
        "        total = wc['count'].sum()\n",
        "\n",
        "        wc['pct_total'] = wc['count'].apply(lambda x: x / total)\n",
        "        \n",
        "        wc = wc.sort_values(by='rank')\n",
        "        wc['cul_pct_total'] = wc['pct_total'].cumsum()\n",
        "\n",
        "        t2 = zip(appears_in.keys(), appears_in.values())\n",
        "        ac = pd.DataFrame(t2, columns=['word', 'appears_in'])\n",
        "        wc = ac.merge(wc, on='word')\n",
        "\n",
        "        wc['appears_in_pct'] = wc['appears_in'].apply(lambda x: x / total_docs)\n",
        "        \n",
        "        return wc.sort_values(by='rank')"
      ],
      "execution_count": 0,
      "outputs": []
    },
    {
      "cell_type": "code",
      "metadata": {
        "id": "98etN8zrlB1p",
        "colab_type": "code",
        "colab": {},
        "outputId": "12ee178b-b392-4134-a0ff-a285ba71f01d"
      },
      "source": [
        "word_count = count(shops1['tokens'])\n",
        "word_count.head()"
      ],
      "execution_count": 0,
      "outputs": [
        {
          "output_type": "execute_result",
          "data": {
            "text/html": [
              "<div>\n",
              "<style scoped>\n",
              "    .dataframe tbody tr th:only-of-type {\n",
              "        vertical-align: middle;\n",
              "    }\n",
              "\n",
              "    .dataframe tbody tr th {\n",
              "        vertical-align: top;\n",
              "    }\n",
              "\n",
              "    .dataframe thead th {\n",
              "        text-align: right;\n",
              "    }\n",
              "</style>\n",
              "<table border=\"1\" class=\"dataframe\">\n",
              "  <thead>\n",
              "    <tr style=\"text-align: right;\">\n",
              "      <th></th>\n",
              "      <th>word</th>\n",
              "      <th>appears_in</th>\n",
              "      <th>count</th>\n",
              "      <th>rank</th>\n",
              "      <th>pct_total</th>\n",
              "      <th>cul_pct_total</th>\n",
              "      <th>appears_in_pct</th>\n",
              "    </tr>\n",
              "  </thead>\n",
              "  <tbody>\n",
              "    <tr>\n",
              "      <th>7</th>\n",
              "      <td>the</td>\n",
              "      <td>6520</td>\n",
              "      <td>27779</td>\n",
              "      <td>1.0</td>\n",
              "      <td>0.034334</td>\n",
              "      <td>0.034334</td>\n",
              "      <td>0.856092</td>\n",
              "    </tr>\n",
              "    <tr>\n",
              "      <th>24</th>\n",
              "      <td>and</td>\n",
              "      <td>6804</td>\n",
              "      <td>25748</td>\n",
              "      <td>2.0</td>\n",
              "      <td>0.031824</td>\n",
              "      <td>0.066157</td>\n",
              "      <td>0.893382</td>\n",
              "    </tr>\n",
              "    <tr>\n",
              "      <th>66</th>\n",
              "      <td></td>\n",
              "      <td>7616</td>\n",
              "      <td>22606</td>\n",
              "      <td>3.0</td>\n",
              "      <td>0.027940</td>\n",
              "      <td>0.094097</td>\n",
              "      <td>1.000000</td>\n",
              "    </tr>\n",
              "    <tr>\n",
              "      <th>19</th>\n",
              "      <td>a</td>\n",
              "      <td>6181</td>\n",
              "      <td>22085</td>\n",
              "      <td>4.0</td>\n",
              "      <td>0.027296</td>\n",
              "      <td>0.121394</td>\n",
              "      <td>0.811581</td>\n",
              "    </tr>\n",
              "    <tr>\n",
              "      <th>51</th>\n",
              "      <td>I</td>\n",
              "      <td>5469</td>\n",
              "      <td>19780</td>\n",
              "      <td>5.0</td>\n",
              "      <td>0.024447</td>\n",
              "      <td>0.145841</td>\n",
              "      <td>0.718093</td>\n",
              "    </tr>\n",
              "  </tbody>\n",
              "</table>\n",
              "</div>"
            ],
            "text/plain": [
              "   word  appears_in  count  rank  pct_total  cul_pct_total  appears_in_pct\n",
              "7   the        6520  27779   1.0   0.034334       0.034334        0.856092\n",
              "24  and        6804  25748   2.0   0.031824       0.066157        0.893382\n",
              "66             7616  22606   3.0   0.027940       0.094097        1.000000\n",
              "19    a        6181  22085   4.0   0.027296       0.121394        0.811581\n",
              "51    I        5469  19780   5.0   0.024447       0.145841        0.718093"
            ]
          },
          "metadata": {
            "tags": []
          },
          "execution_count": 40
        }
      ]
    },
    {
      "cell_type": "code",
      "metadata": {
        "id": "Gzc14VxHlB12",
        "colab_type": "code",
        "colab": {}
      },
      "source": [
        "STOP_WORDS = nlp.Defaults.stop_words.union([\"i've\",'1', ' ', 'coffee', \"it's\", 'it.', \"i'm\", 'check-in' ])"
      ],
      "execution_count": 0,
      "outputs": []
    },
    {
      "cell_type": "code",
      "metadata": {
        "id": "NbaXRDwFlB18",
        "colab_type": "code",
        "colab": {}
      },
      "source": [
        "tokens = []\n",
        "\n",
        "\"\"\" Add a doc_tokens list to account for stop words\"\"\"\n",
        "# tokenizer.pipe tokenizes a stream of text, looking at each token\n",
        "for doc in tokenizer.pipe(shops1['full_review_text'], batch_size=500):\n",
        "    \n",
        "    # will be a list of valid tokens\n",
        "    docs_token = []\n",
        "    \n",
        "    # for each token, if not a stop word or punctuation, add it to doc_tokens\n",
        "    for token in doc:\n",
        "        if (token.text.lower() not in STOP_WORDS) & (token.is_punct == False):\n",
        "            docs_token.append(token.text.lower())\n",
        "    \n",
        "    tokens.append(docs_token)\n",
        "    \n",
        "shops1['tokens'] = tokens"
      ],
      "execution_count": 0,
      "outputs": []
    },
    {
      "cell_type": "code",
      "metadata": {
        "id": "SMAHyj8_lB2D",
        "colab_type": "code",
        "colab": {},
        "outputId": "7ba1c2a3-6202-42c5-f5be-512bebe686ca"
      },
      "source": [
        "import squarify\n",
        "import matplotlib.pyplot as plt\n",
        "\n",
        "word_count = count(shops1['tokens'])\n",
        "wc_top20 = word_count[word_count['rank'] <= 20]\n",
        "\n",
        "squarify.plot(sizes=wc_top20['pct_total'], label=wc_top20['word'], alpha=.8 )\n",
        "plt.axis('off')\n",
        "plt.show()"
      ],
      "execution_count": 0,
      "outputs": [
        {
          "output_type": "display_data",
          "data": {
            "image/png": "[encoded data removed]",
            "text/plain": [
              "<Figure size 432x288 with 1 Axes>"
            ]
          },
          "metadata": {
            "tags": [],
            "needs_background": "light"
          }
        }
      ]
    },
    {
      "cell_type": "code",
      "metadata": {
        "id": "FpN_xfcelB2J",
        "colab_type": "code",
        "colab": {},
        "outputId": "ee452ac6-2fb8-4491-e9cf-a5e2b3f26c0f"
      },
      "source": [
        "word_count = count(shops1['tokens'])\n",
        "word_count.head()"
      ],
      "execution_count": 0,
      "outputs": [
        {
          "output_type": "execute_result",
          "data": {
            "text/html": [
              "<div>\n",
              "<style scoped>\n",
              "    .dataframe tbody tr th:only-of-type {\n",
              "        vertical-align: middle;\n",
              "    }\n",
              "\n",
              "    .dataframe tbody tr th {\n",
              "        vertical-align: top;\n",
              "    }\n",
              "\n",
              "    .dataframe thead th {\n",
              "        text-align: right;\n",
              "    }\n",
              "</style>\n",
              "<table border=\"1\" class=\"dataframe\">\n",
              "  <thead>\n",
              "    <tr style=\"text-align: right;\">\n",
              "      <th></th>\n",
              "      <th>word</th>\n",
              "      <th>appears_in</th>\n",
              "      <th>count</th>\n",
              "      <th>rank</th>\n",
              "      <th>pct_total</th>\n",
              "      <th>cul_pct_total</th>\n",
              "      <th>appears_in_pct</th>\n",
              "    </tr>\n",
              "  </thead>\n",
              "  <tbody>\n",
              "    <tr>\n",
              "      <th>76</th>\n",
              "      <td>place</td>\n",
              "      <td>3029</td>\n",
              "      <td>4264</td>\n",
              "      <td>1.0</td>\n",
              "      <td>0.011224</td>\n",
              "      <td>0.011224</td>\n",
              "      <td>0.397715</td>\n",
              "    </tr>\n",
              "    <tr>\n",
              "      <th>83</th>\n",
              "      <td>great</td>\n",
              "      <td>2438</td>\n",
              "      <td>3250</td>\n",
              "      <td>2.0</td>\n",
              "      <td>0.008555</td>\n",
              "      <td>0.019778</td>\n",
              "      <td>0.320116</td>\n",
              "    </tr>\n",
              "    <tr>\n",
              "      <th>188</th>\n",
              "      <td>like</td>\n",
              "      <td>2034</td>\n",
              "      <td>2902</td>\n",
              "      <td>3.0</td>\n",
              "      <td>0.007639</td>\n",
              "      <td>0.027417</td>\n",
              "      <td>0.267069</td>\n",
              "    </tr>\n",
              "    <tr>\n",
              "      <th>173</th>\n",
              "      <td>good</td>\n",
              "      <td>2084</td>\n",
              "      <td>2779</td>\n",
              "      <td>4.0</td>\n",
              "      <td>0.007315</td>\n",
              "      <td>0.034732</td>\n",
              "      <td>0.273634</td>\n",
              "    </tr>\n",
              "    <tr>\n",
              "      <th>25</th>\n",
              "      <td>love</td>\n",
              "      <td>1434</td>\n",
              "      <td>1806</td>\n",
              "      <td>5.0</td>\n",
              "      <td>0.004754</td>\n",
              "      <td>0.039485</td>\n",
              "      <td>0.188288</td>\n",
              "    </tr>\n",
              "  </tbody>\n",
              "</table>\n",
              "</div>"
            ],
            "text/plain": [
              "      word  appears_in  count  rank  pct_total  cul_pct_total  appears_in_pct\n",
              "76   place        3029   4264   1.0   0.011224       0.011224        0.397715\n",
              "83   great        2438   3250   2.0   0.008555       0.019778        0.320116\n",
              "188   like        2034   2902   3.0   0.007639       0.027417        0.267069\n",
              "173   good        2084   2779   4.0   0.007315       0.034732        0.273634\n",
              "25    love        1434   1806   5.0   0.004754       0.039485        0.188288"
            ]
          },
          "metadata": {
            "tags": []
          },
          "execution_count": 43
        }
      ]
    },
    {
      "cell_type": "code",
      "metadata": {
        "id": "taJN9drilB2P",
        "colab_type": "code",
        "colab": {},
        "outputId": "661bca84-1bf6-4cb8-ca1b-d56ea7a42689"
      },
      "source": [
        "# view count by rating\n",
        "tokens = []\n",
        "\n",
        "\"\"\" Add a doc_tokens list to account for stop words\"\"\"\n",
        "# tokenizer.pipe tokenizes a stream of text, looking at each token\n",
        "for doc in tokenizer.pipe(good['full_review_text'], batch_size=500):\n",
        "    \n",
        "    # will be a list of valid tokens\n",
        "    docs_token = []\n",
        "    \n",
        "    # for each token, if not a stop word or punctuation, add it to doc_tokens\n",
        "    for token in doc:\n",
        "        if (token.text.lower() not in STOP_WORDS) & (token.is_punct == False):\n",
        "            docs_token.append(token.text.lower())\n",
        "    \n",
        "    tokens.append(docs_token)\n",
        "    \n",
        "good['tokens'] = tokens\n",
        "\n",
        "good_word_count = count(good['tokens'])\n",
        "good_wc_top20 = good_word_count[good_word_count['rank'] <= 20]\n",
        "\n",
        "print('good rating')\n",
        "squarify.plot(sizes=wc_top20['pct_total'], label=wc_top20['word'], alpha=.8 )\n",
        "plt.axis('off')\n",
        "plt.show()\n",
        "word_count.head()\n",
        "\n"
      ],
      "execution_count": 0,
      "outputs": [
        {
          "output_type": "error",
          "ename": "NameError",
          "evalue": "name 'good' is not defined",
          "traceback": [
            "\u001b[1;31m---------------------------------------------------------------------------\u001b[0m",
            "\u001b[1;31mNameError\u001b[0m                                 Traceback (most recent call last)",
            "\u001b[1;32m<ipython-input-44-a2c0f3e0aad6>\u001b[0m in \u001b[0;36m<module>\u001b[1;34m\u001b[0m\n\u001b[0;32m      4\u001b[0m \u001b[1;34m\"\"\" Add a doc_tokens list to account for stop words\"\"\"\u001b[0m\u001b[1;33m\u001b[0m\u001b[1;33m\u001b[0m\u001b[0m\n\u001b[0;32m      5\u001b[0m \u001b[1;31m# tokenizer.pipe tokenizes a stream of text, looking at each token\u001b[0m\u001b[1;33m\u001b[0m\u001b[1;33m\u001b[0m\u001b[1;33m\u001b[0m\u001b[0m\n\u001b[1;32m----> 6\u001b[1;33m \u001b[1;32mfor\u001b[0m \u001b[0mdoc\u001b[0m \u001b[1;32min\u001b[0m \u001b[0mtokenizer\u001b[0m\u001b[1;33m.\u001b[0m\u001b[0mpipe\u001b[0m\u001b[1;33m(\u001b[0m\u001b[0mgood\u001b[0m\u001b[1;33m[\u001b[0m\u001b[1;34m'full_review_text'\u001b[0m\u001b[1;33m]\u001b[0m\u001b[1;33m,\u001b[0m \u001b[0mbatch_size\u001b[0m\u001b[1;33m=\u001b[0m\u001b[1;36m500\u001b[0m\u001b[1;33m)\u001b[0m\u001b[1;33m:\u001b[0m\u001b[1;33m\u001b[0m\u001b[1;33m\u001b[0m\u001b[0m\n\u001b[0m\u001b[0;32m      7\u001b[0m \u001b[1;33m\u001b[0m\u001b[0m\n\u001b[0;32m      8\u001b[0m     \u001b[1;31m# will be a list of valid tokens\u001b[0m\u001b[1;33m\u001b[0m\u001b[1;33m\u001b[0m\u001b[1;33m\u001b[0m\u001b[0m\n",
            "\u001b[1;31mNameError\u001b[0m: name 'good' is not defined"
          ]
        }
      ]
    },
    {
      "cell_type": "code",
      "metadata": {
        "id": "6Wrnq_fLlB2X",
        "colab_type": "code",
        "colab": {},
        "outputId": "b3e43985-fc9f-45da-ef25-54dae4f84a62"
      },
      "source": [
        "tokens = []\n",
        "\n",
        "\"\"\" Add a doc_tokens list to account for stop words\"\"\"\n",
        "# tokenizer.pipe tokenizes a stream of text, looking at each token\n",
        "for doc in tokenizer.pipe(bad['full_review_text'], batch_size=500):\n",
        "    \n",
        "    # will be a list of valid tokens\n",
        "    docs_token = []\n",
        "    \n",
        "    # for each token, if not a stop word or punctuation, add it to doc_tokens\n",
        "    for token in doc:\n",
        "        if (token.text.lower() not in STOP_WORDS) & (token.is_punct == False):\n",
        "            docs_token.append(token.text.lower())\n",
        "    \n",
        "    tokens.append(docs_token)\n",
        "    \n",
        "bad['tokens'] = tokens\n",
        "\n",
        "bad_word_count = count(bad['tokens'])\n",
        "bad_wc_top20 = bad_word_count[bad_word_count['rank'] <= 20]\n",
        "\n",
        "print('bad rating tokens')\n",
        "squarify.plot(sizes=wc_top20['pct_total'], label=wc_top20['word'], alpha=.8 )\n",
        "plt.axis('off')\n",
        "plt.show()"
      ],
      "execution_count": 0,
      "outputs": [
        {
          "output_type": "error",
          "ename": "NameError",
          "evalue": "name 'bad' is not defined",
          "traceback": [
            "\u001b[1;31m---------------------------------------------------------------------------\u001b[0m",
            "\u001b[1;31mNameError\u001b[0m                                 Traceback (most recent call last)",
            "\u001b[1;32m<ipython-input-45-69ea4d14b740>\u001b[0m in \u001b[0;36m<module>\u001b[1;34m\u001b[0m\n\u001b[0;32m      3\u001b[0m \u001b[1;34m\"\"\" Add a doc_tokens list to account for stop words\"\"\"\u001b[0m\u001b[1;33m\u001b[0m\u001b[1;33m\u001b[0m\u001b[0m\n\u001b[0;32m      4\u001b[0m \u001b[1;31m# tokenizer.pipe tokenizes a stream of text, looking at each token\u001b[0m\u001b[1;33m\u001b[0m\u001b[1;33m\u001b[0m\u001b[1;33m\u001b[0m\u001b[0m\n\u001b[1;32m----> 5\u001b[1;33m \u001b[1;32mfor\u001b[0m \u001b[0mdoc\u001b[0m \u001b[1;32min\u001b[0m \u001b[0mtokenizer\u001b[0m\u001b[1;33m.\u001b[0m\u001b[0mpipe\u001b[0m\u001b[1;33m(\u001b[0m\u001b[0mbad\u001b[0m\u001b[1;33m[\u001b[0m\u001b[1;34m'full_review_text'\u001b[0m\u001b[1;33m]\u001b[0m\u001b[1;33m,\u001b[0m \u001b[0mbatch_size\u001b[0m\u001b[1;33m=\u001b[0m\u001b[1;36m500\u001b[0m\u001b[1;33m)\u001b[0m\u001b[1;33m:\u001b[0m\u001b[1;33m\u001b[0m\u001b[1;33m\u001b[0m\u001b[0m\n\u001b[0m\u001b[0;32m      6\u001b[0m \u001b[1;33m\u001b[0m\u001b[0m\n\u001b[0;32m      7\u001b[0m     \u001b[1;31m# will be a list of valid tokens\u001b[0m\u001b[1;33m\u001b[0m\u001b[1;33m\u001b[0m\u001b[1;33m\u001b[0m\u001b[0m\n",
            "\u001b[1;31mNameError\u001b[0m: name 'bad' is not defined"
          ]
        }
      ]
    },
    {
      "cell_type": "code",
      "metadata": {
        "id": "zoLN0rWZlB2g",
        "colab_type": "code",
        "colab": {},
        "outputId": "060465d2-ad59-44cf-cdcd-8cf9cc85fd8a"
      },
      "source": [
        "bad_word_count.head()"
      ],
      "execution_count": 0,
      "outputs": [
        {
          "output_type": "error",
          "ename": "NameError",
          "evalue": "name 'bad_word_count' is not defined",
          "traceback": [
            "\u001b[1;31m---------------------------------------------------------------------------\u001b[0m",
            "\u001b[1;31mNameError\u001b[0m                                 Traceback (most recent call last)",
            "\u001b[1;32m<ipython-input-46-76dfc30a8e38>\u001b[0m in \u001b[0;36m<module>\u001b[1;34m\u001b[0m\n\u001b[1;32m----> 1\u001b[1;33m \u001b[0mbad_word_count\u001b[0m\u001b[1;33m.\u001b[0m\u001b[0mhead\u001b[0m\u001b[1;33m(\u001b[0m\u001b[1;33m)\u001b[0m\u001b[1;33m\u001b[0m\u001b[1;33m\u001b[0m\u001b[0m\n\u001b[0m",
            "\u001b[1;31mNameError\u001b[0m: name 'bad_word_count' is not defined"
          ]
        }
      ]
    },
    {
      "cell_type": "code",
      "metadata": {
        "id": "em9ifTb2lB2k",
        "colab_type": "code",
        "colab": {}
      },
      "source": [
        ""
      ],
      "execution_count": 0,
      "outputs": []
    },
    {
      "cell_type": "code",
      "metadata": {
        "id": "pI3cPK--lB3O",
        "colab_type": "code",
        "colab": {}
      },
      "source": [
        "\n",
        "\n"
      ],
      "execution_count": 0,
      "outputs": []
    },
    {
      "cell_type": "code",
      "metadata": {
        "id": "I8oReHxAlB3V",
        "colab_type": "code",
        "colab": {}
      },
      "source": [
        ""
      ],
      "execution_count": 0,
      "outputs": []
    },
    {
      "cell_type": "code",
      "metadata": {
        "id": "ALxMijdDlB3a",
        "colab_type": "code",
        "colab": {}
      },
      "source": [
        ""
      ],
      "execution_count": 0,
      "outputs": []
    },
    {
      "cell_type": "code",
      "metadata": {
        "id": "ao-uc5dhlB3g",
        "colab_type": "code",
        "colab": {}
      },
      "source": [
        ""
      ],
      "execution_count": 0,
      "outputs": []
    },
    {
      "cell_type": "code",
      "metadata": {
        "id": "p6bubZ8plB3p",
        "colab_type": "code",
        "colab": {}
      },
      "source": [
        ""
      ],
      "execution_count": 0,
      "outputs": []
    },
    {
      "cell_type": "code",
      "metadata": {
        "id": "GYHFhUQwlB3s",
        "colab_type": "code",
        "colab": {}
      },
      "source": [
        ""
      ],
      "execution_count": 0,
      "outputs": []
    },
    {
      "cell_type": "code",
      "metadata": {
        "id": "8lBLrA3wlB32",
        "colab_type": "code",
        "colab": {}
      },
      "source": [
        ""
      ],
      "execution_count": 0,
      "outputs": []
    },
    {
      "cell_type": "code",
      "metadata": {
        "id": "Mit_vZoclB38",
        "colab_type": "code",
        "colab": {}
      },
      "source": [
        ""
      ],
      "execution_count": 0,
      "outputs": []
    },
    {
      "cell_type": "code",
      "metadata": {
        "id": "L8pcu3eDlB4E",
        "colab_type": "code",
        "colab": {}
      },
      "source": [
        ""
      ],
      "execution_count": 0,
      "outputs": []
    },
    {
      "cell_type": "markdown",
      "metadata": {
        "colab_type": "text",
        "id": "1dCb1q8XphcP",
        "toc-hr-collapsed": true
      },
      "source": [
        "## Stretch Goals\n",
        "\n",
        "* Analyze another corpus of documents - such as Indeed.com job listings ;).\n",
        "* Play with the Spacy API to\n",
        " - Extract Named Entities\n",
        " - Extracting 'noun chunks'\n",
        " - Attempt Document Classification with just Spacy\n",
        " - *Note:* This [course](https://course.spacy.io/) will be of interesting in helping you with these stretch goals. \n",
        "* Try to build a plotly dash app with your text data \n",
        "\n"
      ]
    }
  ]
}