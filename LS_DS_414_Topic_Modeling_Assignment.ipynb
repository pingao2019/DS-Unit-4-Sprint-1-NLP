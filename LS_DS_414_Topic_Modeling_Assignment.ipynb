{
  "nbformat": 4,
  "nbformat_minor": 0,
  "metadata": {
    "kernelspec": {
      "display_name": "U4-S1-NLP (Python3)",
      "language": "python",
      "name": "u4-s1-nlp"
    },
    "language_info": {
      "codemirror_mode": {
        "name": "ipython",
        "version": 3
      },
      "file_extension": ".py",
      "mimetype": "text/x-python",
      "name": "python",
      "nbconvert_exporter": "python",
      "pygments_lexer": "ipython3",
      "version": "3.7.6"
    },
    "colab": {
      "name": "LS_DS_414_Topic_Modeling_Assignment.ipynb",
      "provenance": [],
      "include_colab_link": true
    }
  },
  "cells": [
    {
      "cell_type": "markdown",
      "metadata": {
        "id": "view-in-github",
        "colab_type": "text"
      },
      "source": [
        "<a href=\"https://colab.research.google.com/github/pingao2019/DS-Unit-4-Sprint-1-NLP/blob/master/LS_DS_414_Topic_Modeling_Assignment.ipynb\" target=\"_parent\"><img src=\"https://colab.research.google.com/assets/colab-badge.svg\" alt=\"Open In Colab\"/></a>"
      ]
    },
    {
      "cell_type": "markdown",
      "metadata": {
        "id": "UHgE2yIpyqtP",
        "colab_type": "text"
      },
      "source": [
        "<img align=\"left\" src=\"https://lever-client-logos.s3.amazonaws.com/864372b1-534c-480e-acd5-9711f850815c-1524247202159.png\" width=200>\n",
        "<br></br>\n",
        "<br></br>\n",
        "\n",
        "# Topic Modeling\n",
        "## *Data Science Unit 4 Sprint 1 Assignment 4*\n",
        "\n",
        "Analyze a corpus of Amazon reviews from Unit 4 Sprint 1 Module 1's lecture using topic modeling: \n",
        "\n",
        "- Fit a Gensim LDA topic model on Amazon Reviews\n",
        "- Select appropriate number of topics\n",
        "- Create some dope visualization of the topics\n",
        "- Write a few bullets on your findings in markdown at the end\n",
        "- **Note**: You don't *have* to use generators for this assignment"
      ]
    },
    {
      "cell_type": "code",
      "metadata": {
        "id": "rK-iM1MEyqtT",
        "colab_type": "code",
        "colab": {}
      },
      "source": [
        "import pandas as pd\n",
        "df = pd.read_csv('./data/Datafiniti_Amazon_Consumer_Reviews_of_Amazon_Products_May19.csv')"
      ],
      "execution_count": 0,
      "outputs": []
    },
    {
      "cell_type": "code",
      "metadata": {
        "id": "KnZbKfeOyqtn",
        "colab_type": "code",
        "colab": {},
        "outputId": "990b64e8-ffd3-43ba-91a9-86c47b70cc98"
      },
      "source": [
        "# Much cleaner\n",
        "df['brand'] = df['brand'].apply(lambda x: x.lower())\n",
        "df['brand'].value_counts()"
      ],
      "execution_count": 0,
      "outputs": [
        {
          "output_type": "execute_result",
          "data": {
            "text/plain": [
              "amazon          16153\n",
              "amazonbasics    12179\n",
              "Name: brand, dtype: int64"
            ]
          },
          "metadata": {
            "tags": []
          },
          "execution_count": 2
        }
      ]
    },
    {
      "cell_type": "code",
      "metadata": {
        "id": "As__kkSAyqt6",
        "colab_type": "code",
        "colab": {},
        "outputId": "e3f71b86-bac3-45ec-d21e-d3cca2e41053"
      },
      "source": [
        "df.shape"
      ],
      "execution_count": 0,
      "outputs": [
        {
          "output_type": "execute_result",
          "data": {
            "text/plain": [
              "(28332, 24)"
            ]
          },
          "metadata": {
            "tags": []
          },
          "execution_count": 3
        }
      ]
    },
    {
      "cell_type": "code",
      "metadata": {
        "id": "93DYbsxuyquI",
        "colab_type": "code",
        "colab": {},
        "outputId": "b1c8a56c-9ee2-41bd-cad3-32f86a35ef15"
      },
      "source": [
        "pd.set_option('display.max_colwidth', -1)\n",
        "df.head(2)"
      ],
      "execution_count": 0,
      "outputs": [
        {
          "output_type": "stream",
          "text": [
            "C:\\Users\\abc\\Anaconda3\\lib\\site-packages\\ipykernel_launcher.py:1: FutureWarning: Passing a negative integer is deprecated in version 1.0 and will not be supported in future version. Instead, use None to not limit the column width.\n",
            "  \"\"\"Entry point for launching an IPython kernel.\n"
          ],
          "name": "stderr"
        },
        {
          "output_type": "execute_result",
          "data": {
            "text/html": [
              "<div>\n",
              "<style scoped>\n",
              "    .dataframe tbody tr th:only-of-type {\n",
              "        vertical-align: middle;\n",
              "    }\n",
              "\n",
              "    .dataframe tbody tr th {\n",
              "        vertical-align: top;\n",
              "    }\n",
              "\n",
              "    .dataframe thead th {\n",
              "        text-align: right;\n",
              "    }\n",
              "</style>\n",
              "<table border=\"1\" class=\"dataframe\">\n",
              "  <thead>\n",
              "    <tr style=\"text-align: right;\">\n",
              "      <th></th>\n",
              "      <th>id</th>\n",
              "      <th>dateAdded</th>\n",
              "      <th>dateUpdated</th>\n",
              "      <th>name</th>\n",
              "      <th>asins</th>\n",
              "      <th>brand</th>\n",
              "      <th>categories</th>\n",
              "      <th>primaryCategories</th>\n",
              "      <th>imageURLs</th>\n",
              "      <th>keys</th>\n",
              "      <th>...</th>\n",
              "      <th>reviews.didPurchase</th>\n",
              "      <th>reviews.doRecommend</th>\n",
              "      <th>reviews.id</th>\n",
              "      <th>reviews.numHelpful</th>\n",
              "      <th>reviews.rating</th>\n",
              "      <th>reviews.sourceURLs</th>\n",
              "      <th>reviews.text</th>\n",
              "      <th>reviews.title</th>\n",
              "      <th>reviews.username</th>\n",
              "      <th>sourceURLs</th>\n",
              "    </tr>\n",
              "  </thead>\n",
              "  <tbody>\n",
              "    <tr>\n",
              "      <th>0</th>\n",
              "      <td>AVpgNzjwLJeJML43Kpxn</td>\n",
              "      <td>2015-10-30T08:59:32Z</td>\n",
              "      <td>2019-04-25T09:08:16Z</td>\n",
              "      <td>AmazonBasics AAA Performance Alkaline Batteries (36 Count)</td>\n",
              "      <td>B00QWO9P0O,B00LH3DMUO</td>\n",
              "      <td>amazonbasics</td>\n",
              "      <td>AA,AAA,Health,Electronics,Health &amp; Household,Camcorder Batteries,Camera &amp; Photo,Batteries,Household Batteries,Robot Check,Accessories,Camera Batteries,Health and Beauty,Household Supplies,Batteries &amp; Chargers,Health, Household &amp; Baby Care,Health Personal Care</td>\n",
              "      <td>Health &amp; Beauty</td>\n",
              "      <td>https://images-na.ssl-images-amazon.com/images/I/81qmNyJo%2BkL._SL1500_.jpg,https://images-na.ssl-images-amazon.com/images/I/81ZTa1BrkzL._SL1500_.jpg,http://ecx.images-amazon.com/images/I/41pSoRu7UlL._SS40_.jpg,https://www.upccodesearch.com/images/barcode/0841710106442.png,https://images-na.ssl-images-amazon.com/images/I/81qmNyJo%252525252BkL._SL1500_.jpg,https://images-na.ssl-images-amazon.com/images/I/51DfBuqy4qL._SL1189_.jpg,https://images-na.ssl-images-amazon.com/images/I/51TshsEJTIL.jpg,https://images-na.ssl-images-amazon.com/images/I/81qmNyJo%2525252525252BkL._SL1500_.jpg,https://images-na.ssl-images-amazon.com/images/I/81qmNyJo%25252BkL._SL1500_.jpg,https://images-na.ssl-images-amazon.com/images/I/81qmNyJo%2525252BkL._SL1500_.jpg,https://images-na.ssl-images-amazon.com/images/I/51g3uIwzOIL._SL1050_.jpg,http://ecx.images-amazon.com/images/I/613LUdOc1eL._SS40_.jpg</td>\n",
              "      <td>amazonbasics/hl002619,amazonbasicsaaaperformancealkalinebatteries36count/b00lh3dmuo,0841710106442,841710106442,amazonbasicsaaaperformancealkalinebatteries36count/b00qwo9p0o</td>\n",
              "      <td>...</td>\n",
              "      <td>NaN</td>\n",
              "      <td>NaN</td>\n",
              "      <td>NaN</td>\n",
              "      <td>NaN</td>\n",
              "      <td>3</td>\n",
              "      <td>https://www.amazon.com/product-reviews/B00QWO9P0O/</td>\n",
              "      <td>I order 3 of them and one of the item is bad quality. Is missing backup spring so I have to put a pcs of aluminum to make the battery work.</td>\n",
              "      <td>... 3 of them and one of the item is bad quality. Is missing backup spring so I have ...</td>\n",
              "      <td>Byger yang</td>\n",
              "      <td>https://www.barcodable.com/upc/841710106442,https://www.amazon.com/AmazonBasics-Performance-Alkaline-Batteries-Count/dp/B00LH3DMUO/,https://www.amazon.com/AmazonBasics-Performance-Alkaline-Batteries-Count/dp/B00LH3DMUO,https://www.amazon.com/AmazonBasics-Performance-Alkaline-Batteries-36-Pack/dp/B00LH3DMUO/,http://www.amazon.com/AmazonBasics-Performance-Alkaline-Batteries-36-Pack/dp/B00LH3DMUO</td>\n",
              "    </tr>\n",
              "    <tr>\n",
              "      <th>1</th>\n",
              "      <td>AVpgNzjwLJeJML43Kpxn</td>\n",
              "      <td>2015-10-30T08:59:32Z</td>\n",
              "      <td>2019-04-25T09:08:16Z</td>\n",
              "      <td>AmazonBasics AAA Performance Alkaline Batteries (36 Count)</td>\n",
              "      <td>B00QWO9P0O,B00LH3DMUO</td>\n",
              "      <td>amazonbasics</td>\n",
              "      <td>AA,AAA,Health,Electronics,Health &amp; Household,Camcorder Batteries,Camera &amp; Photo,Batteries,Household Batteries,Robot Check,Accessories,Camera Batteries,Health and Beauty,Household Supplies,Batteries &amp; Chargers,Health, Household &amp; Baby Care,Health Personal Care</td>\n",
              "      <td>Health &amp; Beauty</td>\n",
              "      <td>https://images-na.ssl-images-amazon.com/images/I/81qmNyJo%2BkL._SL1500_.jpg,https://images-na.ssl-images-amazon.com/images/I/81ZTa1BrkzL._SL1500_.jpg,http://ecx.images-amazon.com/images/I/41pSoRu7UlL._SS40_.jpg,https://www.upccodesearch.com/images/barcode/0841710106442.png,https://images-na.ssl-images-amazon.com/images/I/81qmNyJo%252525252BkL._SL1500_.jpg,https://images-na.ssl-images-amazon.com/images/I/51DfBuqy4qL._SL1189_.jpg,https://images-na.ssl-images-amazon.com/images/I/51TshsEJTIL.jpg,https://images-na.ssl-images-amazon.com/images/I/81qmNyJo%2525252525252BkL._SL1500_.jpg,https://images-na.ssl-images-amazon.com/images/I/81qmNyJo%25252BkL._SL1500_.jpg,https://images-na.ssl-images-amazon.com/images/I/81qmNyJo%2525252BkL._SL1500_.jpg,https://images-na.ssl-images-amazon.com/images/I/51g3uIwzOIL._SL1050_.jpg,http://ecx.images-amazon.com/images/I/613LUdOc1eL._SS40_.jpg</td>\n",
              "      <td>amazonbasics/hl002619,amazonbasicsaaaperformancealkalinebatteries36count/b00lh3dmuo,0841710106442,841710106442,amazonbasicsaaaperformancealkalinebatteries36count/b00qwo9p0o</td>\n",
              "      <td>...</td>\n",
              "      <td>NaN</td>\n",
              "      <td>NaN</td>\n",
              "      <td>NaN</td>\n",
              "      <td>NaN</td>\n",
              "      <td>4</td>\n",
              "      <td>https://www.amazon.com/product-reviews/B00QWO9P0O/</td>\n",
              "      <td>Bulk is always the less expensive way to go for products like these</td>\n",
              "      <td>... always the less expensive way to go for products like</td>\n",
              "      <td>ByMG</td>\n",
              "      <td>https://www.barcodable.com/upc/841710106442,https://www.amazon.com/AmazonBasics-Performance-Alkaline-Batteries-Count/dp/B00LH3DMUO/,https://www.amazon.com/AmazonBasics-Performance-Alkaline-Batteries-Count/dp/B00LH3DMUO,https://www.amazon.com/AmazonBasics-Performance-Alkaline-Batteries-36-Pack/dp/B00LH3DMUO/,http://www.amazon.com/AmazonBasics-Performance-Alkaline-Batteries-36-Pack/dp/B00LH3DMUO</td>\n",
              "    </tr>\n",
              "  </tbody>\n",
              "</table>\n",
              "<p>2 rows × 24 columns</p>\n",
              "</div>"
            ],
            "text/plain": [
              "                     id             dateAdded           dateUpdated  \\\n",
              "0  AVpgNzjwLJeJML43Kpxn  2015-10-30T08:59:32Z  2019-04-25T09:08:16Z   \n",
              "1  AVpgNzjwLJeJML43Kpxn  2015-10-30T08:59:32Z  2019-04-25T09:08:16Z   \n",
              "\n",
              "                                                         name  \\\n",
              "0  AmazonBasics AAA Performance Alkaline Batteries (36 Count)   \n",
              "1  AmazonBasics AAA Performance Alkaline Batteries (36 Count)   \n",
              "\n",
              "                   asins         brand  \\\n",
              "0  B00QWO9P0O,B00LH3DMUO  amazonbasics   \n",
              "1  B00QWO9P0O,B00LH3DMUO  amazonbasics   \n",
              "\n",
              "                                                                                                                                                                                                                                                            categories  \\\n",
              "0  AA,AAA,Health,Electronics,Health & Household,Camcorder Batteries,Camera & Photo,Batteries,Household Batteries,Robot Check,Accessories,Camera Batteries,Health and Beauty,Household Supplies,Batteries & Chargers,Health, Household & Baby Care,Health Personal Care   \n",
              "1  AA,AAA,Health,Electronics,Health & Household,Camcorder Batteries,Camera & Photo,Batteries,Household Batteries,Robot Check,Accessories,Camera Batteries,Health and Beauty,Household Supplies,Batteries & Chargers,Health, Household & Baby Care,Health Personal Care   \n",
              "\n",
              "  primaryCategories  \\\n",
              "0  Health & Beauty    \n",
              "1  Health & Beauty    \n",
              "\n",
              "                                                                                                                                                                                                                                                                                                                                                                                                                                                                                                                                                                                                                                                                                                                                                                                                                                                                                                           imageURLs  \\\n",
              "0  https://images-na.ssl-images-amazon.com/images/I/81qmNyJo%2BkL._SL1500_.jpg,https://images-na.ssl-images-amazon.com/images/I/81ZTa1BrkzL._SL1500_.jpg,http://ecx.images-amazon.com/images/I/41pSoRu7UlL._SS40_.jpg,https://www.upccodesearch.com/images/barcode/0841710106442.png,https://images-na.ssl-images-amazon.com/images/I/81qmNyJo%252525252BkL._SL1500_.jpg,https://images-na.ssl-images-amazon.com/images/I/51DfBuqy4qL._SL1189_.jpg,https://images-na.ssl-images-amazon.com/images/I/51TshsEJTIL.jpg,https://images-na.ssl-images-amazon.com/images/I/81qmNyJo%2525252525252BkL._SL1500_.jpg,https://images-na.ssl-images-amazon.com/images/I/81qmNyJo%25252BkL._SL1500_.jpg,https://images-na.ssl-images-amazon.com/images/I/81qmNyJo%2525252BkL._SL1500_.jpg,https://images-na.ssl-images-amazon.com/images/I/51g3uIwzOIL._SL1050_.jpg,http://ecx.images-amazon.com/images/I/613LUdOc1eL._SS40_.jpg   \n",
              "1  https://images-na.ssl-images-amazon.com/images/I/81qmNyJo%2BkL._SL1500_.jpg,https://images-na.ssl-images-amazon.com/images/I/81ZTa1BrkzL._SL1500_.jpg,http://ecx.images-amazon.com/images/I/41pSoRu7UlL._SS40_.jpg,https://www.upccodesearch.com/images/barcode/0841710106442.png,https://images-na.ssl-images-amazon.com/images/I/81qmNyJo%252525252BkL._SL1500_.jpg,https://images-na.ssl-images-amazon.com/images/I/51DfBuqy4qL._SL1189_.jpg,https://images-na.ssl-images-amazon.com/images/I/51TshsEJTIL.jpg,https://images-na.ssl-images-amazon.com/images/I/81qmNyJo%2525252525252BkL._SL1500_.jpg,https://images-na.ssl-images-amazon.com/images/I/81qmNyJo%25252BkL._SL1500_.jpg,https://images-na.ssl-images-amazon.com/images/I/81qmNyJo%2525252BkL._SL1500_.jpg,https://images-na.ssl-images-amazon.com/images/I/51g3uIwzOIL._SL1050_.jpg,http://ecx.images-amazon.com/images/I/613LUdOc1eL._SS40_.jpg   \n",
              "\n",
              "                                                                                                                                                                           keys  \\\n",
              "0  amazonbasics/hl002619,amazonbasicsaaaperformancealkalinebatteries36count/b00lh3dmuo,0841710106442,841710106442,amazonbasicsaaaperformancealkalinebatteries36count/b00qwo9p0o   \n",
              "1  amazonbasics/hl002619,amazonbasicsaaaperformancealkalinebatteries36count/b00lh3dmuo,0841710106442,841710106442,amazonbasicsaaaperformancealkalinebatteries36count/b00qwo9p0o   \n",
              "\n",
              "   ... reviews.didPurchase reviews.doRecommend reviews.id reviews.numHelpful  \\\n",
              "0  ...  NaN                 NaN                NaN        NaN                  \n",
              "1  ...  NaN                 NaN                NaN        NaN                  \n",
              "\n",
              "  reviews.rating                                  reviews.sourceURLs  \\\n",
              "0  3              https://www.amazon.com/product-reviews/B00QWO9P0O/   \n",
              "1  4              https://www.amazon.com/product-reviews/B00QWO9P0O/   \n",
              "\n",
              "                                                                                                                                  reviews.text  \\\n",
              "0  I order 3 of them and one of the item is bad quality. Is missing backup spring so I have to put a pcs of aluminum to make the battery work.   \n",
              "1  Bulk is always the less expensive way to go for products like these                                                                           \n",
              "\n",
              "                                                                              reviews.title  \\\n",
              "0  ... 3 of them and one of the item is bad quality. Is missing backup spring so I have ...   \n",
              "1  ... always the less expensive way to go for products like                                  \n",
              "\n",
              "   reviews.username  \\\n",
              "0  Byger yang         \n",
              "1  ByMG               \n",
              "\n",
              "                                                                                                                                                                                                                                                                                                                                                                                                     sourceURLs  \n",
              "0  https://www.barcodable.com/upc/841710106442,https://www.amazon.com/AmazonBasics-Performance-Alkaline-Batteries-Count/dp/B00LH3DMUO/,https://www.amazon.com/AmazonBasics-Performance-Alkaline-Batteries-Count/dp/B00LH3DMUO,https://www.amazon.com/AmazonBasics-Performance-Alkaline-Batteries-36-Pack/dp/B00LH3DMUO/,http://www.amazon.com/AmazonBasics-Performance-Alkaline-Batteries-36-Pack/dp/B00LH3DMUO  \n",
              "1  https://www.barcodable.com/upc/841710106442,https://www.amazon.com/AmazonBasics-Performance-Alkaline-Batteries-Count/dp/B00LH3DMUO/,https://www.amazon.com/AmazonBasics-Performance-Alkaline-Batteries-Count/dp/B00LH3DMUO,https://www.amazon.com/AmazonBasics-Performance-Alkaline-Batteries-36-Pack/dp/B00LH3DMUO/,http://www.amazon.com/AmazonBasics-Performance-Alkaline-Batteries-36-Pack/dp/B00LH3DMUO  \n",
              "\n",
              "[2 rows x 24 columns]"
            ]
          },
          "metadata": {
            "tags": []
          },
          "execution_count": 5
        }
      ]
    },
    {
      "cell_type": "code",
      "metadata": {
        "id": "YSyZRVzryquT",
        "colab_type": "code",
        "colab": {}
      },
      "source": [
        "# For teaching compute time\n",
        "df = df.sample(5000)"
      ],
      "execution_count": 0,
      "outputs": []
    },
    {
      "cell_type": "code",
      "metadata": {
        "id": "4LMTkWBVyqui",
        "colab_type": "code",
        "colab": {}
      },
      "source": [
        "#df['review'] = df['review'].apply(lambda x: x.replace(\"<br />\", \"\"))"
      ],
      "execution_count": 0,
      "outputs": []
    },
    {
      "cell_type": "code",
      "metadata": {
        "id": "L6axD82vyquv",
        "colab_type": "code",
        "colab": {}
      },
      "source": [
        "import spacy\n",
        "from spacy.tokenizer import Tokenizer\n",
        "nlp = spacy.load(\"en_core_web_lg\")\n",
        "tokenizer = Tokenizer(nlp.vocab)\n",
        "# Tokenizer Pipe\n",
        "\n",
        "tokens = []\n",
        "\n",
        "\"\"\" Make them tokens \"\"\"\n",
        "for doc in tokenizer.pipe(df['reviews.text'], batch_size=500):\n",
        "    doc_tokens = [token.text for token in doc]\n",
        "    tokens.append(doc_tokens)\n",
        "\n",
        "df['tokens'] = tokens"
      ],
      "execution_count": 0,
      "outputs": []
    },
    {
      "cell_type": "code",
      "metadata": {
        "id": "p15cMfivyqu9",
        "colab_type": "code",
        "colab": {},
        "outputId": "0176c1ed-9ee5-4122-b171-a946c37ad076"
      },
      "source": [
        "df['tokens'].head()"
      ],
      "execution_count": 0,
      "outputs": [
        {
          "output_type": "execute_result",
          "data": {
            "text/plain": [
              "0    [I, order, 3, of, them, and, one, of, the, item, is, bad, quality., Is, missing, backup, spring, so, I, have, to, put, a, pcs, of, aluminum, to, make, the, battery, work.]\n",
              "1    [Bulk, is, always, the, less, expensive, way, to, go, for, products, like, these]                                                                                          \n",
              "2    [Well, they, are, not, Duracell, but, for, the, price, i, am, happy.]                                                                                                      \n",
              "3    [Seem, to, work, as, well, as, name, brand, batteries, at, a, much, better, price]                                                                                         \n",
              "4    [These, batteries, are, very, long, lasting, the, price, is, great.]                                                                                                       \n",
              "Name: tokens, dtype: object"
            ]
          },
          "metadata": {
            "tags": []
          },
          "execution_count": 8
        }
      ]
    },
    {
      "cell_type": "code",
      "metadata": {
        "id": "zQkS76pKyqvL",
        "colab_type": "code",
        "colab": {}
      },
      "source": [
        ""
      ],
      "execution_count": 0,
      "outputs": []
    },
    {
      "cell_type": "code",
      "metadata": {
        "id": "HVSQQCpdyqvd",
        "colab_type": "code",
        "colab": {}
      },
      "source": [
        "#(tokens) == df.shape[0]"
      ],
      "execution_count": 0,
      "outputs": []
    },
    {
      "cell_type": "code",
      "metadata": {
        "id": "dzUPoHfvyqvq",
        "colab_type": "code",
        "colab": {}
      },
      "source": [
        "## Using Lemmas as our tokens\n",
        "\n",
        "tokens = []\n",
        "\n",
        "for doc in nlp.pipe(df['reviews.text']):\n",
        "    \n",
        "    doc_tokens = []\n",
        "    \n",
        "    for token in doc:\n",
        "        if ((token.is_stop != True) and (token.pos_ != 'PRON')) and (token.is_punct !=True):\n",
        "            doc_tokens.append(token.lemma_.strip())\n",
        "            \n",
        "    tokens.append(doc_tokens)"
      ],
      "execution_count": 0,
      "outputs": []
    },
    {
      "cell_type": "code",
      "metadata": {
        "id": "D1c-Xf7Xyqv3",
        "colab_type": "code",
        "colab": {}
      },
      "source": [
        ""
      ],
      "execution_count": 0,
      "outputs": []
    },
    {
      "cell_type": "code",
      "metadata": {
        "id": "u-moaPwPyqwH",
        "colab_type": "code",
        "colab": {},
        "outputId": "ad81b87e-38b3-41f5-ecb3-13b0b8da79dc"
      },
      "source": [
        "tokens[0]"
      ],
      "execution_count": 0,
      "outputs": [
        {
          "output_type": "execute_result",
          "data": {
            "text/plain": [
              "['order',\n",
              " '3',\n",
              " 'item',\n",
              " 'bad',\n",
              " 'quality',\n",
              " 'miss',\n",
              " 'backup',\n",
              " 'spring',\n",
              " 'pc',\n",
              " 'aluminum',\n",
              " 'battery',\n",
              " 'work']"
            ]
          },
          "metadata": {
            "tags": []
          },
          "execution_count": 10
        }
      ]
    },
    {
      "cell_type": "code",
      "metadata": {
        "id": "JoUgJeL0yqwT",
        "colab_type": "code",
        "colab": {}
      },
      "source": [
        ""
      ],
      "execution_count": 0,
      "outputs": []
    },
    {
      "cell_type": "code",
      "metadata": {
        "id": "Fx9rCl6byqwj",
        "colab_type": "code",
        "colab": {}
      },
      "source": [
        "#Gensim LDA Topic Modeling\n",
        "\n",
        "import gensim\n",
        "\n",
        "from gensim import corpora\n",
        "from gensim.models.ldamulticore import LdaMulticore\n",
        "\n",
        "\n",
        "id2word = corpora.Dictionary(tokens) #A list of list of tokens "
      ],
      "execution_count": 0,
      "outputs": []
    },
    {
      "cell_type": "code",
      "metadata": {
        "id": "1tqpKITSyqww",
        "colab_type": "code",
        "colab": {},
        "outputId": "f75898ce-0aad-4103-cfac-ea6516c6d22f"
      },
      "source": [
        "len(id2word.keys())"
      ],
      "execution_count": 0,
      "outputs": [
        {
          "output_type": "execute_result",
          "data": {
            "text/plain": [
              "9705"
            ]
          },
          "metadata": {
            "tags": []
          },
          "execution_count": 12
        }
      ]
    },
    {
      "cell_type": "code",
      "metadata": {
        "id": "ljRD0gCLyqw8",
        "colab_type": "code",
        "colab": {},
        "outputId": "64202955-19a6-4ac8-c2ce-c1c2e04fbd1f"
      },
      "source": [
        "id2word.filter_extremes(no_below=5, no_above=.95)\n",
        "len(id2word.keys())"
      ],
      "execution_count": 0,
      "outputs": [
        {
          "output_type": "execute_result",
          "data": {
            "text/plain": [
              "3082"
            ]
          },
          "metadata": {
            "tags": []
          },
          "execution_count": 13
        }
      ]
    },
    {
      "cell_type": "code",
      "metadata": {
        "id": "kKrR6e_NyqxF",
        "colab_type": "code",
        "colab": {},
        "outputId": "5d987c11-94a2-4527-9648-d6a0883790b7"
      },
      "source": [
        "corpora = [id2word.doc2bow(doc) for doc in tokens]\n",
        "corpora[5]"
      ],
      "execution_count": 0,
      "outputs": [
        {
          "output_type": "execute_result",
          "data": {
            "text/plain": [
              "[(3, 2),\n",
              " (19, 2),\n",
              " (24, 1),\n",
              " (25, 1),\n",
              " (26, 1),\n",
              " (27, 1),\n",
              " (28, 1),\n",
              " (29, 2),\n",
              " (30, 1),\n",
              " (31, 1),\n",
              " (32, 1),\n",
              " (33, 1),\n",
              " (34, 1),\n",
              " (35, 2),\n",
              " (36, 1),\n",
              " (37, 1)]"
            ]
          },
          "metadata": {
            "tags": []
          },
          "execution_count": 14
        }
      ]
    },
    {
      "cell_type": "code",
      "metadata": {
        "id": "TfliH_pgyqxT",
        "colab_type": "code",
        "colab": {},
        "outputId": "e557b60f-3920-4523-ab29-9624d0e2b7de"
      },
      "source": [
        "lda = LdaMulticore(corpus=corpora,\n",
        "                  id2word=id2word,\n",
        "                  num_topics=15, \n",
        "                  passes=50)\n",
        "lda.print_topics()"
      ],
      "execution_count": 0,
      "outputs": [
        {
          "output_type": "execute_result",
          "data": {
            "text/plain": [
              "[(0,\n",
              "  '0.144*\"battery\" + 0.042*\"long\" + 0.037*\"brand\" + 0.020*\"buy\" + 0.018*\"Amazon\" + 0.012*\"life\" + 0.012*\"time\" + 0.012*\"price\" + 0.012*\"like\" + 0.011*\"work\"'),\n",
              " (1,\n",
              "  '0.067*\"Kindle\" + 0.051*\"Fire\" + 0.032*\"new\" + 0.031*\"tablet\" + 0.027*\"8\" + 0.027*\"love\" + 0.026*\"fire\" + 0.022*\"old\" + 0.022*\"buy\" + 0.022*\"reader\"'),\n",
              " (2,\n",
              "  '0.230*\"tablet\" + 0.059*\"great\" + 0.040*\"Amazon\" + 0.032*\"need\" + 0.031*\"good\" + 0.021*\"user\" + 0.016*\"friendly\" + 0.016*\"want\" + 0.015*\"memory\" + 0.014*\"card\"'),\n",
              " (3,\n",
              "  '0.222*\"work\" + 0.080*\"far\" + 0.058*\"good\" + 0.042*\"expect\" + 0.037*\"fine\" + 0.027*\"item\" + 0.023*\"issue\" + 0.020*\"order\" + 0.017*\"time\" + 0.016*\"recommend\"'),\n",
              " (4,\n",
              "  '0.093*\"book\" + 0.073*\"read\" + 0.056*\"game\" + 0.045*\"use\" + 0.043*\"watch\" + 0.037*\"movie\" + 0.026*\"love\" + 0.026*\"play\" + 0.024*\"video\" + 0.024*\"great\"'),\n",
              " (5,\n",
              "  '0.082*\"year\" + 0.076*\"old\" + 0.050*\"love\" + 0.031*\"tablet\" + 0.028*\"buy\" + 0.022*\"2\" + 0.020*\"kid\" + 0.019*\"control\" + 0.017*\"3\" + 0.016*\"time\"'),\n",
              " (6,\n",
              "  '0.046*\"screen\" + 0.027*\"light\" + 0.024*\"size\" + 0.018*\"read\" + 0.017*\"device\" + 0.016*\"like\" + 0.015*\"small\" + 0.013*\"iPad\" + 0.013*\"good\" + 0.012*\"web\"'),\n",
              " (7,\n",
              "  '0.230*\"easy\" + 0.179*\"use\" + 0.054*\"love\" + 0.048*\"great\" + 0.030*\"set\" + 0.020*\"navigate\" + 0.020*\"picture\" + 0.018*\"camera\" + 0.016*\"screen\" + 0.014*\"product\"'),\n",
              " (8,\n",
              "  '0.047*\"charge\" + 0.026*\"day\" + 0.018*\"buy\" + 0.018*\"problem\" + 0.017*\"time\" + 0.017*\"2\" + 0.016*\"week\" + 0.015*\"hour\" + 0.015*\"month\" + 0.015*\"take\"'),\n",
              " (9,\n",
              "  '0.133*\"app\" + 0.026*\"download\" + 0.026*\"store\" + 0.025*\"Amazon\" + 0.024*\"like\" + 0.021*\"Google\" + 0.020*\"lot\" + 0.019*\"available\" + 0.017*\"thing\" + 0.016*\"limit\"'),\n",
              " (10,\n",
              "  '0.139*\"love\" + 0.100*\"buy\" + 0.085*\"gift\" + 0.063*\"purchase\" + 0.058*\"happy\" + 0.049*\"Christmas\" + 0.036*\"perfect\" + 0.027*\"get\" + 0.023*\"recommend\" + 0.021*\"son\"'),\n",
              " (11,\n",
              "  '0.030*\"sound\" + 0.024*\"speaker\" + 0.022*\"Alexa\" + 0.021*\"great\" + 0.019*\"Amazon\" + 0.018*\"music\" + 0.015*\"device\" + 0.014*\"tap\" + 0.013*\"connect\" + 0.013*\"laptop\"'),\n",
              " (12,\n",
              "  '0.206*\"great\" + 0.164*\"price\" + 0.148*\"good\" + 0.046*\"product\" + 0.044*\"battery\" + 0.038*\"quality\" + 0.037*\"value\" + 0.030*\"deal\" + 0.027*\"buy\" + 0.026*\"work\"'),\n",
              " (13,\n",
              "  '0.121*\"kid\" + 0.096*\"tablet\" + 0.053*\"love\" + 0.035*\"great\" + 0.029*\"good\" + 0.028*\"play\" + 0.028*\"case\" + 0.026*\"daughter\" + 0.022*\"game\" + 0.021*\"buy\"'),\n",
              " (14,\n",
              "  '0.177*\"kindle\" + 0.085*\"excellent\" + 0.079*\"fire\" + 0.051*\"amazon\" + 0.043*\"thank\" + 0.042*\"recommend\" + 0.037*\"product\" + 0.036*\"ok\" + 0.032*\"highly\" + 0.025*\"stuff\"')]"
            ]
          },
          "metadata": {
            "tags": []
          },
          "execution_count": 15
        }
      ]
    },
    {
      "cell_type": "code",
      "metadata": {
        "id": "qR1va9YFyqxf",
        "colab_type": "code",
        "colab": {}
      },
      "source": [
        "import re\n",
        "words = [re.findall('\"([^\"]*)\"',t[1]) for t in lda.print_topics()]"
      ],
      "execution_count": 0,
      "outputs": []
    },
    {
      "cell_type": "code",
      "metadata": {
        "id": "zd-itrVAyqxq",
        "colab_type": "code",
        "colab": {},
        "outputId": "20660018-13e6-4643-f9ca-b492420512f7"
      },
      "source": [
        "topics = [' '.join(t[0:5]) for t in words]\n",
        "\n",
        "\n",
        "for id, t in enumerate(topics): \n",
        "    print(f\"------ Topic {id} ------\")\n",
        "    print(t, end=\"\\n\\n\")"
      ],
      "execution_count": 0,
      "outputs": [
        {
          "output_type": "stream",
          "text": [
            "------ Topic 0 ------\n",
            "battery long brand buy Amazon\n",
            "\n",
            "------ Topic 1 ------\n",
            "Kindle Fire new tablet 8\n",
            "\n",
            "------ Topic 2 ------\n",
            "tablet great Amazon need good\n",
            "\n",
            "------ Topic 3 ------\n",
            "work far good expect fine\n",
            "\n",
            "------ Topic 4 ------\n",
            "book read game use watch\n",
            "\n",
            "------ Topic 5 ------\n",
            "year old love tablet buy\n",
            "\n",
            "------ Topic 6 ------\n",
            "screen light size read device\n",
            "\n",
            "------ Topic 7 ------\n",
            "easy use love great set\n",
            "\n",
            "------ Topic 8 ------\n",
            "charge day buy problem time\n",
            "\n",
            "------ Topic 9 ------\n",
            "app download store Amazon like\n",
            "\n",
            "------ Topic 10 ------\n",
            "love buy gift purchase happy\n",
            "\n",
            "------ Topic 11 ------\n",
            "sound speaker Alexa great Amazon\n",
            "\n",
            "------ Topic 12 ------\n",
            "great price good product battery\n",
            "\n",
            "------ Topic 13 ------\n",
            "kid tablet love great good\n",
            "\n",
            "------ Topic 14 ------\n",
            "kindle excellent fire amazon thank\n",
            "\n"
          ],
          "name": "stdout"
        }
      ]
    },
    {
      "cell_type": "markdown",
      "metadata": {
        "id": "s0BLQzFuyqx4",
        "colab_type": "text"
      },
      "source": [
        "Interpret LDA Results¶\n",
        "Topic Term Distribution (how good is our LDA model?) / what are the topics\n",
        "Document Topic Distribution\n",
        "What are the documents about?\n",
        "What are the most common themes(topics)?\n",
        "What topics are associated with positive and negative sentiment?"
      ]
    },
    {
      "cell_type": "code",
      "metadata": {
        "id": "SC1dJaGRyqx7",
        "colab_type": "code",
        "colab": {},
        "outputId": "4ae8e180-4fb1-4d53-bf1f-48044e9a7df1"
      },
      "source": [
        "# Part 1: Topic Distance Visualization\n",
        "\"\"\"\n",
        "Tells us if the topics are distinct, and what terms are most import important to the topic distribution.\n",
        "\"\"\"\n",
        "\n",
        "import pyLDAvis.gensim\n",
        "\n",
        "pyLDAvis.enable_notebook()\n",
        "\n",
        "pyLDAvis.gensim.prepare(lda,corpora,id2word)"
      ],
      "execution_count": 0,
      "outputs": [
        {
          "output_type": "execute_result",
          "data": {
            "text/html": [
              "\n",
              "<link rel=\"stylesheet\" type=\"text/css\" href=\"https://cdn.rawgit.com/bmabey/pyLDAvis/files/ldavis.v1.0.0.css\">\n",
              "\n",
              "\n",
              "<div id=\"ldavis_el1111214671857486803613680313\"></div>\n",
              "<script type=\"text/javascript\">\n",
              "\n",
              "var ldavis_el1111214671857486803613680313_data = {\"mdsDat\": {\"x\": [0.15987160033042072, -0.24327631704038147, 0.06661980401150099, 0.19432214978705578, 0.06030332600440536, -0.06712238403230796, -0.18881780843955362, -0.17598542297071565, 0.006446328876235361, 0.048383447775938164, -0.0017585680535931907, -0.14801581384535922, -0.13629680345692613, 0.2433320527568873, 0.18199440829639327], \"y\": [-0.09355877189932085, 0.022521558506729177, -0.15851451160211896, 0.2374488075159432, -0.12255822662024854, -0.08500353291436165, -0.030314107945700174, 0.08726160567475226, 0.02149868360594878, -0.2004305406301881, -0.18192447710530296, 0.10194807654017163, 0.18567727952852212, 0.10609712828699502, 0.10985102905817878], \"topics\": [1, 2, 3, 4, 5, 6, 7, 8, 9, 10, 11, 12, 13, 14, 15], \"cluster\": [1, 1, 1, 1, 1, 1, 1, 1, 1, 1, 1, 1, 1, 1, 1], \"Freq\": [18.115840911865234, 8.54690933227539, 7.994480609893799, 7.844527244567871, 6.761497974395752, 6.64591121673584, 6.200997352600098, 6.042444229125977, 5.602766990661621, 5.0278496742248535, 4.940544605255127, 4.5775675773620605, 4.4938645362854, 4.443663597106934, 2.761136054992676]}, \"tinfo\": {\"Term\": [\"tablet\", \"battery\", \"work\", \"easy\", \"price\", \"great\", \"use\", \"love\", \"good\", \"kid\", \"app\", \"kindle\", \"year\", \"book\", \"old\", \"buy\", \"read\", \"gift\", \"Kindle\", \"brand\", \"far\", \"game\", \"fire\", \"long\", \"product\", \"purchase\", \"screen\", \"Fire\", \"Amazon\", \"charge\", \"brand\", \"remote\", \"Duracell\", \"pack\", \"AA\", \"controller\", \"leak\", \"aaa\", \"dead\", \"energizer\", \"Basics\", \"flashlight\", \"Energizer\", \"AAA\", \"alkaline\", \"lasting\", \"wrap\", \"Batteries\", \"duracell\", \"shelf\", \"48\", \"cardboard\", \"aa\", \"name\", \"Costco\", \"AmazonBasics\", \"Alkaline\", \"longevity\", \"xbox\", \"fresh\", \"test\", \"bulk\", \"long\", \"battery\", \"last\", \"toy\", \"box\", \"package\", \"candle\", \"rechargeable\", \"mouse\", \"power\", \"life\", \"cheap\", \"die\", \"longer\", \"Amazon\", \"cost\", \"buy\", \"time\", \"store\", \"like\", \"lot\", \"expensive\", \"need\", \"work\", \"price\", \"good\", \"use\", \"well\", \"come\", \"purchase\", \"order\", \"year\", \"parental\", \"age\", \"appropriate\", \"safe\", \"crack\", \"cartoon\", \"restriction\", \"preloade\", \"gig\", \"Hulu\", \"twin\", \"operation\", \"4yr\", \"subscription\", \"specific\", \"secure\", \"Dad\", \"parent\", \"assistance\", \"interactive\", \"customize\", \"profile\", \"direct\", \"broken\", \"tear\", \"vibrant\", \"I.\", \"enlarge\", \"kids\", \"old\", \"grandson\", \"control\", \"9\", \"adult\", \"content\", \"program\", \"3\", \"warranty\", \"log\", \"2\", \"worry\", \"5\", \"6\", \"toddler\", \"4\", \"present\", \"setting\", \"drop\", \"love\", \"child\", \"set\", \"son\", \"daughter\", \"kid\", \"buy\", \"tablet\", \"game\", \"time\", \"get\", \"play\", \"purchase\", \"app\", \"enjoy\", \"great\", \"use\", \"perfect\", \"web\", \"page\", \"eye\", \"Voyage\", \"white\", \"Paperwhite\", \"purse\", \"paperwhite\", \"OS\", \"browsing\", \"browser\", \"paper\", \"interface\", \"activity\", \"voyage\", \"social\", \"lighting\", \"font\", \"face\", \"swipe\", \"image\", \"puzzle\", \"internal\", \"connectivity\", \"impossible\", \"auto\", \"processing\", \"background\", \"release\", \"gear\", \"dark\", \"design\", \"brightness\", \"screen\", \"faster\", \"light\", \"weight\", \"photo\", \"medium\", \"size\", \"fit\", \"iPad\", \"small\", \"cover\", \"resolution\", \"touch\", \"bright\", \"hand\", \"turn\", \"feel\", \"button\", \"device\", \"large\", \"display\", \"read\", \"hold\", \"nice\", \"like\", \"bit\", \"perfect\", \"reading\", \"right\", \"good\", \"price\", \"little\", \"case\", \"compare\", \"surfing\", \"Great\", \"reasonably\", \"App\", \"teen\", \"recipient\", \"restrict\", \"Price\", \"boot\", \"Product\", \"snappy\", \"Deal\", \"exceptional\", \"deal\", \"value\", \"batt\", \"smoothly\", \"AppStore\", \"competitive\", \"improved\", \"Unlimited\", \"thesis\", \"responsiveness\", \"Members\", \"performer\", \"Mickey\", \"east\", \"reward\", \"Value\", \"evaluate\", \"price\", \"beat\", \"shipping\", \"reasonable\", \"inch\", \"quality\", \"great\", \"good\", \"product\", \"Bought\", \"solid\", \"Friday\", \"affordable\", \"backup\", \"delivery\", \"Black\", \"fast\", \"performance\", \"money\", \"battery\", \"awesome\", \"work\", \"buy\", \"high\", \"worth\", \"low\", \"nice\", \"point\", \"overall\", \"life\", \"recommend\", \"amazing\", \"definitely\", \"well\", \"Amazon\", \"charge\", \"stop\", \"port\", \"cable\", \"micro\", \"piece\", \"usb\", \"lag\", \"external\", \"geek\", \"total\", \"samsung\", \"aware\", \"reset\", \"advertising\", \"employee\", \"defective\", \"quit\", \"unlock\", \"eventually\", \"200\", \"squad\", \"Squad\", \"visual\", \"darn\", \"2017\", \"pressure\", \"2015\", \"combine\", \"national\", \"charger\", \"fix\", \"cord\", \"week\", \"plug\", \"minute\", \"return\", \"day\", \"hour\", \"keyboard\", \"disappointed\", \"end\", \"exchange\", \"problem\", \"school\", \"month\", \"take\", \"drive\", \"star\", \"try\", \"1\", \"spend\", \"2\", \"bad\", \"give\", \"go\", \"3\", \"find\", \"issue\", \"time\", \"money\", \"get\", \"buy\", \"new\", \"device\", \"product\", \"purchase\", \"use\", \"store\", \"5\", \"Amazon\", \"upgrade\", \"HD\", \"HD8\", \"hd\", \"2nd\", \"avid\", \"mail\", \"g\", \"1st\", \"generation\", \"adapter\", \"e\", \"maneuver\", \"HDX\", \"Tab\", \"vacation\", \"Nabi\", \"Nexus\", \"pricey\", \"knowledgeable\", \"seven\", \"previous\", \"abuse\", \"struggle\", \"rotate\", \"versatility\", \"lug\", \"Blue\", \"fourth\", \"ABC\", \"Fire\", \"Oasis\", \"own\", \"Kindle\", \"reader\", \"8\", \"pleased\", \"model\", \"7\", \"new\", \"original\", \"brother\", \"version\", \"view\", \"Tablet\", \"Samsung\", \"fire\", \"replace\", \"well\", \"wife\", \"decide\", \"old\", \"yr\", \"tablet\", \"Amazon\", \"love\", \"want\", \"buy\", \"screen\", \"like\", \"purchase\", \"get\", \"big\", \"feature\", \"watch\", \"movie\", \"travel\", \"email\", \"book\", \"trip\", \"library\", \"mother\", \"road\", \"law\", \"news\", \"flight\", \"password\", \"Mother\", \"viewing\", \"transfer\", \"gen\", \"delighted\", \"5th\", \"backlit\", \"copy\", \"newspaper\", \"shopping\", \"cousin\", \"internet\", \"youtube\", \"blank\", \"scroll\", \"login\", \"everyday\", \"Netflix\", \"surf\", \"browse\", \"read\", \"Nook\", \"show\", \"video\", \"check\", \"game\", \"YouTube\", \"reading\", \"online\", \"download\", \"play\", \"music\", \"favorite\", \"use\", \"enjoy\", \"able\", \"access\", \"etc\", \"love\", \"great\", \"purchase\", \"perfect\", \"want\", \"buy\", \"like\", \"niece\", \"nephew\", \"grand\", \"protective\", \"pink\", \"proof\", \"rubber\", \"restart\", \"Mom\", \"locate\", \"Tablets\", \"safety\", \"buying\", \"Free\", \"Mouse\", \"credit\", \"bank\", \"beating\", \"section\", \"n\", \"substitute\", \"logic\", \"accident\", \"def\", \"December\", \"tailor\", \"grader\", \"purple\", \"worthless\", \"Santa\", \"protect\", \"kid\", \"google\", \"special\", \"case\", \"young\", \"Buy\", \"help\", \"daughter\", \"break\", \"IPad\", \"Best\", \"tablet\", \"play\", \"alot\", \"learn\", \"educational\", \"shut\", \"son\", \"love\", \"drop\", \"game\", \"sale\", \"come\", \"thing\", \"child\", \"great\", \"good\", \"buy\", \"time\", \"keep\", \"like\", \"lot\", \"get\", \"Kids\", \"magazine\", \"sd\", \"expectation\", \"expandable\", \"Edition\", \"starter\", \"128\", \"menu\", \"exceed\", \"explore\", \"drawback\", \"ecosystem\", \"entry\", \"bulky\", \"sufficient\", \"confusing\", \"filter\", \"icon\", \"tho\", \"GB\", \"reboot\", \"watching\", \"engage\", \"curve\", \"definite\", \"playback\", \"progress\", \"prime\", \"Facebook\", \"ipad\", \"learning\", \"user\", \"memory\", \"card\", \"entertain\", \"pad\", \"unlimited\", \"tablet\", \"budget\", \"account\", \"android\", \"friendly\", \"gb\", \"member\", \"tool\", \"storage\", \"inexpensive\", \"basic\", \"need\", \"Amazon\", \"iPad\", \"great\", \"look\", \"want\", \"child\", \"good\", \"feature\", \"$\", \"nice\", \"little\", \"expensive\", \"money\", \"cheap\", \"use\", \"Google\", \"limit\", \"space\", \"entertainment\", \"Store\", \"bumper\", \"apple\", \"lol\", \"christmas\", \"penny\", \"letter\", \"net\", \"unable\", \"rugged\", \"rid\", \"document\", \"bc\", \"expansion\", \"goal\", \"yrs\", \"quiet\", \"limitation\", \"kinda\", \"introduce\", \"wi\", \"unwanted\", \"killer\", \"padded\", \"correctly\", \"fi\", \"app\", \"Android\", \"selection\", \"available\", \"con\", \"pro\", \"slow\", \"load\", \"option\", \"durability\", \"mode\", \"oh\", \"download\", \"add\", \"store\", \"ad\", \"run\", \"wish\", \"free\", \"plenty\", \"pretty\", \"yr\", \"lot\", \"thing\", \"access\", \"nice\", \"like\", \"Amazon\", \"little\", \"overall\", \"extra\", \"quickly\", \"get\", \"pay\", \"play\", \"device\", \"time\", \"sound\", \"speaker\", \"Alexa\", \"tap\", \"Echo\", \"Bluetooth\", \"voice\", \"echo\", \"Tap\", \"loud\", \"ride\", \"Grandson\", \"portability\", \"operating\", \"command\", \"backpack\", \"protector\", \"register\", \"dot\", \"block\", \"sleeve\", \"Dot\", \"student\", \"Wi\", \"stereo\", \"Fi\", \"jump\", \"compatible\", \"suck\", \"wake\", \"connect\", \"portable\", \"volume\", \"answer\", \"laptop\", \"ask\", \"smart\", \"room\", \"music\", \"home\", \"system\", \"bluetooth\", \"question\", \"listen\", \"late\", \"pre\", \"button\", \"device\", \"phone\", \"Amazon\", \"wifi\", \"great\", \"want\", \"able\", \"like\", \"need\", \"quality\", \"use\", \"thing\", \"come\", \"easy\", \"navigate\", \"kiddo\", \"teenage\", \"teenager\", \"series\", \"leather\", \"6th\", \"minimum\", \"lite\", \"techie\", \"hi\", \"schedule\", \"yo\", \"input\", \"ultra\", \"bestbuy\", \"shift\", \"random\", \"scratch\", \"belong\", \"dpi\", \"spouse\", \"Ads\", \"VLC\", \"colored\", \"lcd\", \"translation\", \"arrange\", \"girlfriend\", \"picture\", \"clear\", \"use\", \"simple\", \"mom\", \"lightweight\", \"camera\", \"set\", \"wonderful\", \"convenient\", \"super\", \"blue\", \"Kindles\", \"operate\", \"durable\", \"learn\", \"love\", \"night\", \"size\", \"great\", \"step\", \"screen\", \"color\", \"take\", \"make\", \"product\", \"light\", \"fact\", \"daughter\", \"child\", \"fun\", \"fast\", \"nice\", \"time\", \"like\", \"buy\", \"gift\", \"happy\", \"friend\", \"grandchild\", \"serve\", \"savvy\", \"investment\", \"aspect\", \"pin\", \"prize\", \"shade\", \"guard\", \"resolve\", \"bring\", \"overseas\", \"frustrate\", \"substantial\", \"Bestbuy\", \"iphone\", \"tree\", \"shiny\", \"seemingly\", \"imo\", \"peace\", \"laugh\", \"Xmas\", \"challenge\", \"2026\", \"Dropbox\", \"valuable\", \"Christmas\", \"airplane\", \"playing\", \"birthday\", \"bang\", \"absolutely\", \"tech\", \"father\", \"family\", \"purpose\", \"protection\", \"wife\", \"granddaughter\", \"perfect\", \"love\", \"purchase\", \"buck\", \"grandkid\", \"buy\", \"husband\", \"definitely\", \"son\", \"recommend\", \"glad\", \"get\", \"give\", \"right\", \"say\", \"product\", \"great\", \"item\", \"expect\", \"exactly\", \"describe\", \"fine\", \"tough\", \"smooth\", \"speak\", \"associate\", \"fight\", \"platform\", \"pleasantly\", \"perfectly\", \"Son\", \"yesterday\", \"act\", \"cancel\", \"Ray\", \"O\", \"knock\", \"ergonomic\", \"consumption\", \"charm\", \"versus\", \"boyfriend\", \"vac\", \"voyager\", \"garage\", \"69\", \"transition\", \"i.e.\", \"far\", \"work\", \"handy\", \"promise\", \"arrive\", \"sleek\", \"slim\", \"item\", \"issue\", \"today\", \"order\", \"intend\", \"surprised\", \"hope\", \"experience\", \"suppose\", \"nicely\", \"good\", \"problem\", \"recommend\", \"review\", \"highly\", \"need\", \"time\", \"product\", \"complaint\", \"real\", \"better\", \"like\", \"purchase\", \"come\", \"fit\", \"light\", \"look\", \"excellent\", \"thank\", \"ok\", \"stuff\", \"advertise\", \"beginner\", \"edition\", \"outstanding\", \"expand\", \"2016\", \"offline\", \"microsd\", \"delete\", \"kindle\", \"programming\", \"basics\", \"manual\", \"bedroom\", \"raffle\", \"Games\", \"rival\", \"didn\\u201a\\u00c4\\u00f4t\", \"till\", \"packing\", \"t\", \"Life\", \"contemplate\", \"audiophile\", \"grt\", \"reference\", \"hang\", \"pic\", \"trick\", \"highly\", \"amazon\", \"extensive\", \"fire\", \"instruction\", \"SD\", \"satisfied\", \"13\", \"limited\", \"recommend\", \"job\", \"product\", \"party\", \"disappoint\", \"amazing\", \"Play\", \"enjoy\", \"function\", \"fast\", \"table\", \"basic\", \"want\", \"need\", \"find\", \"new\"], \"Freq\": [7447.0, 9390.0, 4464.0, 3345.0, 5028.0, 8914.0, 4896.0, 6211.0, 6751.0, 2875.0, 2386.0, 1619.0, 2235.0, 1828.0, 2512.0, 5684.0, 2052.0, 1219.0, 1700.0, 2136.0, 1222.0, 1953.0, 1231.0, 2636.0, 2365.0, 2557.0, 1692.0, 1162.0, 3176.0, 1018.0, 2135.61328125, 515.75439453125, 508.08935546875, 444.73529052734375, 416.2019958496094, 219.06027221679688, 200.90228271484375, 187.27566528320312, 179.8839569091797, 177.14157104492188, 174.388671875, 171.82925415039062, 166.89895629882812, 162.45436096191406, 161.2465362548828, 148.70870971679688, 134.7163543701172, 112.86246490478516, 105.71625518798828, 91.76910400390625, 84.47134399414062, 78.97114562988281, 78.80484771728516, 74.63999938964844, 72.9482650756836, 282.4613342285156, 56.27952575683594, 55.93426513671875, 50.70684051513672, 47.84832763671875, 231.45921325683594, 147.8223114013672, 2434.914794921875, 8286.380859375, 632.273193359375, 411.0965576171875, 439.42889404296875, 331.8057556152344, 124.0692138671875, 134.13571166992188, 160.54287719726562, 342.3281555175781, 713.483154296875, 623.0875244140625, 198.01951599121094, 244.9816436767578, 1039.247314453125, 291.1531066894531, 1160.523681640625, 705.6834106445312, 413.4091796875, 663.6380615234375, 438.54425048828125, 272.7276916503906, 461.7950439453125, 651.9434204101562, 677.6565551757812, 631.22607421875, 550.72900390625, 346.3106384277344, 346.5922546386719, 381.21490478515625, 284.9771728515625, 2234.487060546875, 418.8541259765625, 339.9067687988281, 126.61247253417969, 108.19588470458984, 51.3205680847168, 38.21588134765625, 32.73524856567383, 32.46092987060547, 27.788793563842773, 27.6081600189209, 27.393634796142578, 22.54620361328125, 21.511777877807617, 87.64163208007812, 20.68975257873535, 20.00757598876953, 19.924407958984375, 193.1692352294922, 16.781396865844727, 16.657432556152344, 16.234989166259766, 138.19952392578125, 15.602195739746094, 15.040002822875977, 15.038362503051758, 14.646810531616211, 14.595025062561035, 13.740219116210938, 13.262444496154785, 2047.6363525390625, 410.9375915527344, 521.8861083984375, 126.47322082519531, 167.14834594726562, 198.69386291503906, 106.93486022949219, 460.54254150390625, 216.5643310546875, 29.27414894104004, 590.1204833984375, 130.5406494140625, 320.7456359863281, 196.49835205078125, 131.12733459472656, 387.1452941894531, 124.91488647460938, 93.96636962890625, 170.1257781982422, 1352.12158203125, 350.0006408691406, 321.67095947265625, 335.2194519042969, 326.27886962890625, 554.4249267578125, 752.1339111328125, 851.6405029296875, 426.0277404785156, 441.3512878417969, 343.4593200683594, 281.9181823730469, 334.88104248046875, 271.2928466796875, 208.23301696777344, 332.5235595703125, 249.2481689453125, 201.6185302734375, 305.6480407714844, 272.17425537109375, 159.7579803466797, 136.34133911132812, 90.34115600585938, 86.21626281738281, 89.28726196289062, 77.77015686035156, 73.96819305419922, 73.26496124267578, 72.64261627197266, 70.91378021240234, 67.10374450683594, 64.11090850830078, 62.40714645385742, 55.15232849121094, 51.33482360839844, 49.63250732421875, 46.49337387084961, 43.286800384521484, 40.084716796875, 35.680450439453125, 34.486392974853516, 34.09169387817383, 31.718168258666992, 31.37151336669922, 30.43798065185547, 29.40377426147461, 26.995126724243164, 26.761558532714844, 57.91022872924805, 154.60877990722656, 56.85416793823242, 1165.0576171875, 135.2049102783203, 682.7921752929688, 161.6818084716797, 118.38838195800781, 91.37850952148438, 600.95458984375, 209.39425659179688, 336.6489562988281, 375.40911865234375, 180.3280792236328, 141.7718505859375, 133.93038940429688, 109.82135772705078, 219.5895538330078, 214.8541717529297, 188.99732971191406, 168.41018676757812, 432.86016845703125, 187.45001220703125, 150.44427490234375, 454.6360168457031, 226.44821166992188, 282.4700012207031, 405.56488037109375, 150.01402282714844, 244.37442016601562, 162.24903869628906, 171.20025634765625, 326.4964904785156, 262.8238525390625, 186.0545654296875, 158.5561981201172, 150.85633850097656, 56.62271499633789, 52.093650817871094, 46.587345123291016, 39.05741882324219, 37.2198371887207, 33.902618408203125, 32.74488067626953, 28.104154586791992, 26.82394790649414, 23.84339714050293, 22.996213912963867, 22.49283790588379, 19.700489044189453, 754.003662109375, 911.591064453125, 13.470227241516113, 12.452638626098633, 11.729094505310059, 11.44300365447998, 11.098101615905762, 10.638275146484375, 10.259140014648438, 10.095638275146484, 10.034046173095703, 9.806387901306152, 9.774715423583984, 9.193071365356445, 9.151873588562012, 8.006410598754883, 7.079833030700684, 4087.303955078125, 416.2918701171875, 99.31855773925781, 111.38520050048828, 135.31341552734375, 949.4999389648438, 5137.82470703125, 3682.008056640625, 1148.4637451171875, 17.279748916625977, 69.20578002929688, 112.48200988769531, 127.50232696533203, 24.57953643798828, 46.177249908447266, 68.01192474365234, 245.75135803222656, 137.00210571289062, 213.42056274414062, 1103.62353515625, 173.21859741210938, 659.357177734375, 669.419677734375, 128.69480895996094, 137.62315368652344, 136.08639526367188, 203.18423461914062, 88.02804565429688, 108.3518295288086, 155.1240997314453, 165.60601806640625, 93.21038055419922, 93.81754302978516, 100.54711151123047, 95.2164306640625, 1016.625244140625, 164.47369384765625, 123.489501953125, 106.91415405273438, 81.2280502319336, 72.73937225341797, 67.77507019042969, 58.09219741821289, 39.67594909667969, 36.46742630004883, 35.930450439453125, 35.13642883300781, 35.060081481933594, 34.21907424926758, 33.876556396484375, 31.701068878173828, 31.648305892944336, 29.41628646850586, 27.388559341430664, 26.233430862426758, 25.712984085083008, 24.923940658569336, 24.91429901123047, 26.214101791381836, 23.48958969116211, 22.929126739501953, 22.168779373168945, 21.36233901977539, 20.883005142211914, 20.36553192138672, 192.0780487060547, 80.41902923583984, 70.74362182617188, 343.97943115234375, 134.1922607421875, 114.71743774414062, 268.390625, 557.6318969726562, 330.143798828125, 153.7664337158203, 90.36331939697266, 185.72750854492188, 50.62520217895508, 375.48919677734375, 141.03921508789062, 321.538330078125, 316.9586486816406, 62.063270568847656, 150.86276245117188, 302.5224914550781, 144.46795654296875, 162.5591583251953, 360.6424560546875, 178.1087646484375, 199.53237915039062, 269.0999450683594, 217.67205810546875, 245.3529510498047, 193.47010803222656, 364.47027587890625, 205.62838745117188, 290.0196533203125, 396.2528076171875, 216.93765258789062, 235.02305603027344, 267.048828125, 269.5061340332031, 313.77838134765625, 203.3295135498047, 168.51022338867188, 187.4235382080078, 338.9889831542969, 220.2318572998047, 133.29684448242188, 310.01971435546875, 70.0079345703125, 58.58393859863281, 58.14813995361328, 51.204315185546875, 41.76491165161133, 108.62457275390625, 36.77980422973633, 300.3778991699219, 30.057907104492188, 29.796857833862305, 29.525054931640625, 27.5162353515625, 26.530908584594727, 23.573848724365234, 22.950149536132812, 21.9244384765625, 20.70566177368164, 186.0197296142578, 18.060104370117188, 17.581701278686523, 15.425701141357422, 15.200506210327148, 14.697738647460938, 13.78689193725586, 14.03731632232666, 13.020956993103027, 1076.0032958984375, 105.3030014038086, 107.32282257080078, 1405.23876953125, 460.7140197753906, 577.4810791015625, 227.77040100097656, 237.5865936279297, 361.062255859375, 671.5935668945312, 127.50409698486328, 63.783592224121094, 246.48069763183594, 98.9509048461914, 115.23756408691406, 91.3743667602539, 540.215576171875, 293.6266174316406, 397.95013427734375, 197.9692840576172, 146.0746612548828, 463.6903991699219, 128.8914031982422, 663.1034545898438, 425.15313720703125, 566.8189086914062, 270.6124572753906, 462.7945251464844, 290.3941650390625, 317.8595275878906, 303.6402282714844, 216.59390258789062, 169.3585968017578, 168.952880859375, 844.1112060546875, 733.1445922851562, 300.8351135253906, 264.7362365722656, 1821.79638671875, 187.0897674560547, 163.5885009765625, 161.85499572753906, 67.22093200683594, 83.70420837402344, 64.36771392822266, 39.50083923339844, 34.6248893737793, 27.474401473999023, 27.190969467163086, 52.368289947509766, 21.94192886352539, 20.453887939453125, 17.04960060119629, 14.702009201049805, 14.318854331970215, 13.964448928833008, 64.37543487548828, 12.170514106750488, 455.4837951660156, 64.68677520751953, 11.073392868041992, 11.02585506439209, 11.009054183959961, 105.64313507080078, 212.25930786132812, 141.4526824951172, 93.5083999633789, 1435.7705078125, 67.23963928222656, 222.1954803466797, 474.2208557128906, 182.10076904296875, 1107.34912109375, 75.30541229248047, 255.7749481201172, 136.04556274414062, 378.6845703125, 508.9425048828125, 216.47738647460938, 127.428955078125, 887.9495239257812, 287.81689453125, 221.70199584960938, 176.2450408935547, 147.2718505859375, 517.6385498046875, 462.9084167480469, 219.96554565429688, 167.50003051757812, 163.9139404296875, 173.14305114746094, 163.66357421875, 204.06199645996094, 176.86343383789062, 169.2227783203125, 126.62116241455078, 59.41218185424805, 55.524356842041016, 43.13808822631836, 37.53104019165039, 26.53492546081543, 23.02532196044922, 20.719432830810547, 19.57353401184082, 19.109619140625, 17.237266540527344, 15.98835277557373, 37.25358581542969, 16.18224334716797, 15.138951301574707, 14.63858413696289, 14.472001075744629, 14.239357948303223, 14.025983810424805, 13.44495964050293, 13.412822723388672, 12.421229362487793, 11.92593765258789, 11.6060209274292, 11.41625690460205, 11.283140182495117, 11.249359130859375, 108.5305404663086, 2320.266845703125, 125.41622924804688, 69.2464599609375, 528.96728515625, 172.4600372314453, 132.92091369628906, 197.29527282714844, 500.4605712890625, 196.9504852294922, 29.28663444519043, 42.17298126220703, 1840.02197265625, 533.498291015625, 51.390296936035156, 215.58204650878906, 118.1003189086914, 42.919517517089844, 300.3807373046875, 1008.51611328125, 137.7284393310547, 419.2295227050781, 126.69546508789062, 259.4436950683594, 230.38685607910156, 216.2767333984375, 665.9660034179688, 549.2530517578125, 401.7820739746094, 248.48057556152344, 122.73402404785156, 208.8553924560547, 131.66127014160156, 130.86276245117188, 110.40412902832031, 97.06179809570312, 94.42063903808594, 76.45420837402344, 70.28630065917969, 66.35992431640625, 60.074462890625, 52.88850021362305, 50.81632614135742, 39.29956817626953, 31.748790740966797, 31.462614059448242, 30.345600128173828, 29.85725975036621, 28.27704620361328, 24.322607040405273, 22.008617401123047, 21.85386848449707, 21.843259811401367, 21.761737823486328, 158.21604919433594, 19.681243896484375, 18.69179916381836, 18.46814727783203, 12.869555473327637, 12.52678108215332, 11.80088996887207, 11.784092903137207, 200.47360229492188, 75.18350219726562, 207.8372344970703, 179.581298828125, 369.4573974609375, 265.497802734375, 253.36160278320312, 120.84748840332031, 88.30245208740234, 60.502357482910156, 4091.605224609375, 66.61978912353516, 202.1904296875, 126.58999633789062, 292.5018005371094, 80.86823272705078, 126.48688507080078, 100.4923095703125, 223.10899353027344, 140.58624267578125, 199.36354064941406, 561.8271484375, 704.3760375976562, 219.7793731689453, 1041.69775390625, 250.79014587402344, 286.6273498535156, 240.8316192626953, 548.4064331054688, 190.02223205566406, 152.83006286621094, 203.8310546875, 180.81785583496094, 126.29297637939453, 134.40591430664062, 126.29315185546875, 126.56964874267578, 328.0531005859375, 259.9469909667969, 193.43499755859375, 108.48747253417969, 95.04255676269531, 84.22622680664062, 68.38634490966797, 63.01940155029297, 59.103492736816406, 32.27862548828125, 31.870548248291016, 29.758100509643555, 29.65656852722168, 27.560077667236328, 25.943134307861328, 25.743694305419922, 24.67786979675293, 24.673980712890625, 21.763643264770508, 20.904300689697266, 20.11651039123535, 19.94757843017578, 19.780349731445312, 19.42974853515625, 19.177188873291016, 17.162660598754883, 16.437240600585938, 15.956042289733887, 15.748612403869629, 15.443351745605469, 2114.32421875, 146.22425842285156, 68.29126739501953, 303.0245666503906, 80.81449127197266, 71.5125732421875, 229.10406494140625, 216.3348846435547, 227.95115661621094, 44.294742584228516, 83.68632507324219, 35.940704345703125, 409.6014709472656, 204.19061279296875, 409.2646789550781, 116.34561920166016, 236.13148498535156, 147.9504852294922, 248.38392639160156, 97.14550018310547, 206.4168701171875, 116.70391845703125, 327.01751708984375, 268.5355224609375, 162.6468048095703, 254.04356384277344, 379.1000061035156, 391.4511413574219, 212.31643676757812, 126.81416320800781, 108.26243591308594, 118.50926971435547, 167.34083557128906, 116.9229507446289, 132.0618133544922, 127.67321014404297, 119.20625305175781, 470.5936584472656, 368.42767333984375, 340.1101379394531, 223.7972869873047, 193.50326538085938, 90.6078109741211, 89.49607849121094, 87.103271484375, 67.9253158569336, 64.1871337890625, 63.255367279052734, 61.17200469970703, 60.186641693115234, 54.064022064208984, 51.73247146606445, 47.132389068603516, 39.82279586791992, 36.6692008972168, 34.998111724853516, 34.92057418823242, 34.237003326416016, 31.989633560180664, 31.523433685302734, 30.610292434692383, 30.11886215209961, 29.665786743164062, 27.08917236328125, 26.512592315673828, 25.823627471923828, 25.668922424316406, 210.02854919433594, 196.8543243408203, 63.93107604980469, 47.05139923095703, 200.9301300048828, 169.4830322265625, 60.749080657958984, 94.86762237548828, 277.7983703613281, 191.9643096923828, 106.99588012695312, 45.63500213623047, 77.4921875, 118.3180923461914, 61.01047897338867, 67.45426177978516, 114.05970764160156, 239.69346618652344, 123.49652862548828, 304.05615234375, 101.73678588867188, 323.2703552246094, 162.86758422851562, 119.35350036621094, 182.7593994140625, 142.27444458007812, 129.12908935546875, 157.64895629882812, 95.92131042480469, 92.5016098022461, 3344.57666015625, 297.4420471191406, 30.023311614990234, 23.17061424255371, 19.24907875061035, 17.85126495361328, 16.30463409423828, 14.071296691894531, 10.859992980957031, 10.757608413696289, 10.45643138885498, 10.401480674743652, 10.292606353759766, 9.983419418334961, 9.518342971801758, 8.726370811462402, 8.227058410644531, 7.682791233062744, 7.5919575691223145, 7.245113372802734, 6.305106163024902, 5.894216537475586, 5.7945661544799805, 5.640158176422119, 5.610404968261719, 5.569872856140137, 5.059640884399414, 4.952782154083252, 4.651164531707764, 22.169443130493164, 283.5867919921875, 196.6843719482422, 2596.366455078125, 179.7976837158203, 155.63665771484375, 98.109130859375, 254.53111267089844, 431.42669677734375, 95.38826751708984, 93.1980209350586, 121.95899200439453, 45.61566925048828, 21.26719093322754, 75.58084869384766, 113.83841705322266, 143.25352478027344, 779.2041015625, 64.29613494873047, 190.53028869628906, 690.6773071289062, 34.64098358154297, 236.0790557861328, 86.26576232910156, 104.99579620361328, 98.35745239257812, 201.69241333007812, 128.6757049560547, 59.28968048095703, 120.67066955566406, 112.36425018310547, 66.54933166503906, 90.34617614746094, 97.45897674560547, 108.66533660888672, 92.42919921875, 86.81832885742188, 1218.41748046875, 833.1725463867188, 222.3723907470703, 108.29745483398438, 67.0087661743164, 52.532081604003906, 52.35029983520508, 31.235925674438477, 19.321043014526367, 15.429781913757324, 14.302458763122559, 14.184004783630371, 13.512584686279297, 121.58808135986328, 11.952875137329102, 10.700814247131348, 10.178643226623535, 9.979390144348145, 25.619308471679688, 9.534101486206055, 9.508320808410645, 8.585762023925781, 8.080198287963867, 7.791463375091553, 6.995920658111572, 28.185422897338867, 28.320049285888672, 6.419712066650391, 6.10360860824585, 6.0760908126831055, 701.8515014648438, 13.114730834960938, 105.89888763427734, 176.24417114257812, 40.265045166015625, 228.0292510986328, 98.15607452392578, 47.279727935791016, 185.11264038085938, 111.21964263916016, 67.83729553222656, 256.077880859375, 246.95559692382812, 514.9852905273438, 1986.644287109375, 892.513916015625, 68.31407165527344, 104.76927185058594, 1420.5167236328125, 101.43536376953125, 187.67649841308594, 302.7299499511719, 330.89056396484375, 102.85415649414062, 380.2203369140625, 129.037841796875, 121.11334991455078, 100.73789978027344, 186.72743225097656, 249.5860595703125, 108.566162109375, 591.7821655273438, 184.10865783691406, 152.38790893554688, 516.8155517578125, 58.12920379638672, 52.60504150390625, 40.543174743652344, 40.17540740966797, 29.52972412109375, 28.949037551879883, 26.368896484375, 175.0117645263672, 21.474777221679688, 20.504674911499023, 19.26533317565918, 18.3737850189209, 17.95808219909668, 16.694442749023438, 15.802672386169434, 15.16456127166748, 14.902863502502441, 14.722003936767578, 14.020491600036621, 13.912124633789062, 13.876473426818848, 13.81314468383789, 13.597975730895996, 13.089996337890625, 12.938109397888184, 12.192888259887695, 1133.00390625, 3130.298583984375, 102.44959259033203, 36.842491149902344, 132.77549743652344, 30.578933715820312, 27.85614585876465, 375.006591796875, 320.4205627441406, 47.09839630126953, 287.951171875, 32.13887405395508, 71.20506286621094, 90.41301727294922, 119.61847686767578, 56.39957046508789, 49.21930694580078, 816.202880859375, 166.08621215820312, 219.2940216064453, 119.7170639038086, 101.53424835205078, 215.59933471679688, 234.3153076171875, 201.16873168945312, 78.83171844482422, 58.275325775146484, 74.83700561523438, 130.03909301757812, 114.80550384521484, 94.4542236328125, 66.70489501953125, 73.7894058227539, 67.55658721923828, 741.992431640625, 376.7339172363281, 316.6946716308594, 218.9090576171875, 135.46578979492188, 130.28924560546875, 80.08246612548828, 61.29167175292969, 58.540428161621094, 29.07101058959961, 28.671072006225586, 28.439109802246094, 26.775421142578125, 1553.0262451171875, 19.38313102722168, 18.679933547973633, 17.459060668945312, 12.121838569641113, 10.736806869506836, 10.727685928344727, 9.030000686645508, 9.01687240600586, 37.71551513671875, 7.9985432624816895, 7.1050825119018555, 6.992377758026123, 6.641941070556641, 6.574121475219727, 6.425028324127197, 6.293154239654541, 27.61360740661621, 33.648475646972656, 24.320411682128906, 277.4479675292969, 449.64703369140625, 20.65268325805664, 690.6219482421875, 61.48551940917969, 68.38072204589844, 123.50550079345703, 18.203960418701172, 71.61405944824219, 363.7798767089844, 84.39398193359375, 327.46844482421875, 25.34956169128418, 49.797325134277344, 74.37213134765625, 44.11213684082031, 84.10466766357422, 49.03881072998047, 64.92015075683594, 40.46327209472656, 51.423851013183594, 63.096858978271484, 66.72451782226562, 46.11054992675781, 44.69000244140625], \"Total\": [7447.0, 9390.0, 4464.0, 3345.0, 5028.0, 8914.0, 4896.0, 6211.0, 6751.0, 2875.0, 2386.0, 1619.0, 2235.0, 1828.0, 2512.0, 5684.0, 2052.0, 1219.0, 1700.0, 2136.0, 1222.0, 1953.0, 1231.0, 2636.0, 2365.0, 2557.0, 1692.0, 1162.0, 3176.0, 1018.0, 2136.478271484375, 516.6193237304688, 508.9543151855469, 445.6002502441406, 417.06695556640625, 219.92527770996094, 201.7672882080078, 188.1406707763672, 180.74896240234375, 178.00657653808594, 175.25367736816406, 172.6942596435547, 167.7639617919922, 163.31936645507812, 162.11154174804688, 149.57371520996094, 135.58135986328125, 113.72744750976562, 106.58123779296875, 92.63408660888672, 85.3363265991211, 79.83612823486328, 79.66983032226562, 75.5049819946289, 73.81324768066406, 285.8526611328125, 57.144508361816406, 56.79924774169922, 51.57182312011719, 48.71331024169922, 236.74110412597656, 151.845947265625, 2636.275634765625, 9390.802734375, 708.754150390625, 465.7897644042969, 500.61309814453125, 372.84014892578125, 129.74476623535156, 143.21189880371094, 176.73997497558594, 434.52874755859375, 1062.8602294921875, 1010.572265625, 239.58535766601562, 337.7177429199219, 3176.065673828125, 457.12725830078125, 5684.29296875, 2428.889404296875, 1047.3599853515625, 2854.307861328125, 1301.0089111328125, 472.19732666015625, 1847.1103515625, 4464.5869140625, 5028.52392578125, 6751.62548828125, 4896.36083984375, 1077.4102783203125, 1098.972412109375, 2557.1083984375, 596.8630981445312, 2235.37451171875, 419.7414855957031, 340.79412841796875, 127.4998550415039, 109.08326721191406, 52.20795440673828, 39.103267669677734, 33.62263488769531, 33.34831619262695, 28.676177978515625, 28.495546340942383, 28.28101921081543, 23.433589935302734, 22.39916229248047, 91.27581787109375, 21.577138900756836, 20.894960403442383, 20.811792373657227, 201.90599060058594, 17.668781280517578, 17.544816970825195, 17.12237548828125, 145.77975463867188, 16.489585876464844, 15.927387237548828, 15.925750732421875, 15.534196853637695, 15.482412338256836, 14.627616882324219, 14.149831771850586, 2512.156494140625, 485.488037109375, 643.4940795898438, 146.85223388671875, 198.1961212158203, 251.3695068359375, 132.67320251464844, 689.8372802734375, 301.13641357421875, 32.74770736694336, 951.6827392578125, 177.24783325195312, 507.6790771484375, 294.6883239746094, 187.6285858154297, 684.4872436523438, 181.1402587890625, 139.56524658203125, 338.41632080078125, 6211.5380859375, 934.7052612304688, 922.5818481445312, 1022.9475708007812, 1030.074462890625, 2875.52099609375, 5684.29296875, 7447.0966796875, 1953.3778076171875, 2428.889404296875, 1879.5999755859375, 1541.0267333984375, 2557.1083984375, 2386.444091796875, 818.2020263671875, 8914.66015625, 4896.36083984375, 1130.5516357421875, 306.5315856933594, 273.05780029296875, 160.6422119140625, 137.22494506835938, 91.2247314453125, 87.09983825683594, 90.2598648071289, 78.65373229980469, 74.85176849365234, 74.1485366821289, 73.52619171142578, 71.79735565185547, 67.98731994628906, 64.9944839477539, 63.29072570800781, 56.03590774536133, 52.21864700317383, 50.51608657836914, 47.376953125, 44.170379638671875, 40.96833801269531, 36.564029693603516, 35.370025634765625, 34.97527313232422, 32.60174560546875, 32.25509262084961, 31.321557998657227, 30.287351608276367, 27.878705978393555, 27.6451358795166, 60.175010681152344, 164.8296661376953, 61.04237365722656, 1692.2972412109375, 159.37925720214844, 1011.9342041015625, 202.47116088867188, 142.9546661376953, 109.35100555419922, 1076.14404296875, 302.2801818847656, 557.2545166015625, 660.6533203125, 275.24603271484375, 205.6417999267578, 192.87351989746094, 148.5619659423828, 405.4068603515625, 403.9837646484375, 334.6138916015625, 283.2856140136719, 1407.065673828125, 355.4535827636719, 254.2713165283203, 2052.211181640625, 599.1539916992188, 1226.912109375, 2854.307861328125, 306.012939453125, 1130.5516357421875, 418.84979248046875, 509.59295654296875, 6751.62548828125, 5028.52392578125, 984.5673828125, 851.7960815429688, 386.40191650390625, 57.50167465209961, 52.97260284423828, 47.4662971496582, 39.936370849609375, 38.098793029785156, 34.78157043457031, 33.62384033203125, 28.983104705810547, 27.702905654907227, 24.722347259521484, 23.875173568725586, 23.37255096435547, 20.57944107055664, 790.3799438476562, 970.6710205078125, 14.349176406860352, 13.33159351348877, 12.608046531677246, 12.321953773498535, 11.977052688598633, 11.517230987548828, 11.138090133666992, 10.974589347839355, 10.913000106811523, 10.685338020324707, 10.653667449951172, 10.072021484375, 10.030826568603516, 8.885359764099121, 7.958782196044922, 5028.52392578125, 493.9541015625, 115.61405181884766, 131.2488250732422, 160.6277618408203, 1323.2039794921875, 8914.66015625, 6751.62548828125, 2365.16552734375, 20.220762252807617, 105.619140625, 190.5628662109375, 234.91436767578125, 31.912336349487305, 77.30622863769531, 132.65097045898438, 797.08740234375, 359.75811767578125, 743.6924438476562, 9390.802734375, 549.110107421875, 4464.5869140625, 5684.29296875, 388.2412414550781, 473.2825927734375, 492.4222412109375, 1226.912109375, 227.17926025390625, 385.1894836425781, 1062.8602294921875, 1289.687255859375, 356.8018493652344, 473.6462097167969, 1077.4102783203125, 3176.065673828125, 1018.2597045898438, 165.35159301757812, 124.36737823486328, 107.79203033447266, 82.1589584350586, 73.61724853515625, 68.65294647216797, 58.99599838256836, 40.554019927978516, 37.34530258178711, 36.808326721191406, 36.014305114746094, 35.937957763671875, 35.09695053100586, 34.75601577758789, 32.578948974609375, 32.52618408203125, 30.294164657592773, 28.266437530517578, 27.111309051513672, 26.590864181518555, 25.80181884765625, 25.792177200317383, 27.172969818115234, 24.367467880249023, 23.807004928588867, 23.046659469604492, 22.240217208862305, 21.760883331298828, 21.243412017822266, 204.35740661621094, 85.94861602783203, 77.41399383544922, 405.5117492675781, 153.945556640625, 132.5006103515625, 337.0350341796875, 755.5791015625, 437.2235107421875, 199.3681640625, 111.00535583496094, 257.1865234375, 57.614810943603516, 641.5201416015625, 198.5640411376953, 555.4793090820312, 578.48876953125, 74.49491882324219, 249.63726806640625, 634.9764404296875, 241.88958740234375, 285.9994812011719, 951.6827392578125, 370.3381652832031, 444.9116516113281, 832.0767211914062, 689.8372802734375, 885.3067626953125, 581.37109375, 2428.889404296875, 743.6924438476562, 1879.5999755859375, 5684.29296875, 1039.15478515625, 1407.065673828125, 2365.16552734375, 2557.1083984375, 4896.36083984375, 1047.3599853515625, 507.6790771484375, 3176.065673828125, 339.8777770996094, 221.1183624267578, 134.183349609375, 312.9945068359375, 70.8944091796875, 59.470420837402344, 59.03462219238281, 52.090797424316406, 42.65139389038086, 111.11196899414062, 37.66628646850586, 308.0532531738281, 30.944387435913086, 30.683338165283203, 30.412202835083008, 28.4027156829834, 27.417388916015625, 24.460329055786133, 23.83662986755371, 22.8109188079834, 21.59214210510254, 194.19512939453125, 18.94658660888672, 18.468185424804688, 16.312183380126953, 16.08698844909668, 15.584221839904785, 14.67337417602539, 14.962656021118164, 13.907441139221191, 1162.7823486328125, 114.14161682128906, 116.55667877197266, 1700.6683349609375, 565.9808959960938, 726.7853393554688, 275.38043212890625, 292.0763244628906, 477.53741455078125, 1039.15478515625, 161.36605834960938, 74.7687759399414, 366.12896728515625, 126.94664764404297, 157.53591918945312, 126.60145568847656, 1231.656982421875, 593.4706420898438, 1077.4102783203125, 454.8734436035156, 280.68719482421875, 2512.156494140625, 246.42152404785156, 7447.0966796875, 3176.065673828125, 6211.5380859375, 1294.41162109375, 5684.29296875, 1692.2972412109375, 2854.307861328125, 2557.1083984375, 1879.5999755859375, 750.516845703125, 755.7605590820312, 844.997802734375, 734.0311889648438, 301.7217102050781, 265.6228332519531, 1828.184326171875, 187.97691345214844, 164.47793579101562, 162.7416229248047, 68.1075439453125, 84.84689331054688, 65.25432586669922, 40.387451171875, 35.51150131225586, 28.361011505126953, 28.077579498291016, 54.2263069152832, 22.828540802001953, 21.34050178527832, 17.93621063232422, 15.58862018585205, 15.205467224121094, 14.851061820983887, 68.67156982421875, 13.05712604522705, 489.9219970703125, 69.58016204833984, 11.960004806518555, 11.912467002868652, 11.895668029785156, 114.50940704345703, 239.96319580078125, 168.46592712402344, 111.98033142089844, 2052.211181640625, 80.4229965209961, 292.04998779296875, 666.4937133789062, 241.08987426757812, 1953.3778076171875, 95.51634216308594, 418.84979248046875, 225.89883422851562, 855.4116821289062, 1541.0267333984375, 495.094482421875, 216.673583984375, 4896.36083984375, 818.2020263671875, 588.145751953125, 452.4945373535156, 371.4778137207031, 6211.5380859375, 8914.66015625, 2557.1083984375, 1130.5516357421875, 1294.41162109375, 5684.29296875, 2854.307861328125, 204.94825744628906, 177.74969482421875, 170.10903930664062, 127.50740814208984, 60.298431396484375, 56.4124755859375, 44.02433776855469, 38.42029571533203, 27.421173095703125, 23.911577224731445, 21.605680465698242, 20.459781646728516, 19.995866775512695, 18.12351417541504, 16.87459945678711, 39.34380340576172, 17.104690551757812, 16.02519989013672, 15.524834632873535, 15.35824966430664, 15.125606536865234, 14.912232398986816, 14.331208229064941, 14.299072265625, 13.307486534118652, 12.812196731567383, 12.492269515991211, 12.302505493164062, 12.169387817382812, 12.13560676574707, 120.90532684326172, 2875.52099609375, 168.2520751953125, 88.0916976928711, 851.7960815429688, 256.0562744140625, 211.07960510253906, 339.3077392578125, 1030.074462890625, 340.51318359375, 36.03548812866211, 57.090118408203125, 7447.0966796875, 1541.0267333984375, 77.10567474365234, 509.407470703125, 247.94720458984375, 61.216331481933594, 1022.9475708007812, 6211.5380859375, 338.41632080078125, 1953.3778076171875, 332.99334716796875, 1098.972412109375, 1002.759765625, 934.7052612304688, 8914.66015625, 6751.62548828125, 5684.29296875, 2428.889404296875, 419.90533447265625, 2854.307861328125, 1301.0089111328125, 1879.5999755859375, 111.29108428955078, 97.9487533569336, 95.3075942993164, 77.3411636352539, 71.17325592041016, 67.24687957763672, 60.96142578125, 53.77546310424805, 51.70328903198242, 40.18653106689453, 32.6357536315918, 32.349578857421875, 31.232561111450195, 30.744220733642578, 29.16400909423828, 25.20956802368164, 22.895578384399414, 22.740829467773438, 22.730220794677734, 22.648698806762695, 165.0364990234375, 20.568204879760742, 19.578760147094727, 19.3551082611084, 13.756515502929688, 13.413744926452637, 12.687851905822754, 12.67105484008789, 216.30023193359375, 81.12858581542969, 226.44410705566406, 197.1402587890625, 411.6049499511719, 326.4277038574219, 317.870849609375, 144.9432373046875, 103.6760482788086, 69.17919921875, 7447.0966796875, 77.56195068359375, 269.3833312988281, 160.74734497070312, 416.9715881347656, 102.82369232177734, 178.03738403320312, 137.20181274414062, 382.7393798828125, 223.44451904296875, 375.1611633300781, 1847.1103515625, 3176.065673828125, 557.2545166015625, 8914.66015625, 898.9761962890625, 1294.41162109375, 934.7052612304688, 6751.62548828125, 755.7605590820312, 461.9455261230469, 1226.912109375, 984.5673828125, 472.19732666015625, 743.6924438476562, 1010.572265625, 4896.36083984375, 328.9371337890625, 260.8312072753906, 194.31906127929688, 109.37152099609375, 95.92660522460938, 85.11027526855469, 69.27039337158203, 63.90345764160156, 59.987548828125, 33.162681579589844, 32.75460433959961, 30.642759323120117, 30.540620803833008, 28.444129943847656, 26.827186584472656, 26.627748489379883, 25.561922073364258, 25.558032989501953, 22.647695541381836, 21.788354873657227, 21.00056266784668, 20.831632614135742, 20.66440200805664, 20.31380271911621, 20.061241149902344, 18.04671287536621, 17.3212947845459, 16.84009552001953, 16.632665634155273, 16.327404022216797, 2386.444091796875, 160.94659423828125, 74.33822631835938, 345.4806823730469, 91.30901336669922, 85.30911254882812, 320.0282287597656, 301.3658142089844, 334.4743957519531, 52.242122650146484, 114.67877197265625, 41.621673583984375, 855.4116821289062, 370.3368225097656, 1047.3599853515625, 206.1998291015625, 568.84423828125, 297.3963623046875, 625.7733764648438, 171.7960205078125, 540.4798583984375, 246.42152404785156, 1301.0089111328125, 1002.759765625, 452.4945373535156, 1226.912109375, 2854.307861328125, 3176.065673828125, 984.5673828125, 385.1894836425781, 239.465087890625, 328.5296936035156, 1879.5999755859375, 480.4078674316406, 1541.0267333984375, 1407.065673828125, 2428.889404296875, 471.4701232910156, 369.30413818359375, 340.9866027832031, 224.67379760742188, 194.37977600097656, 91.48429870605469, 90.37256622314453, 87.9797592163086, 68.80180358886719, 65.0636215209961, 64.13186645507812, 62.04850387573242, 61.063140869140625, 54.940521240234375, 52.608970642089844, 48.008888244628906, 40.69929504394531, 37.54570007324219, 35.874610900878906, 35.79707336425781, 35.113502502441406, 32.86613082885742, 32.399932861328125, 31.486787796020508, 30.995357513427734, 30.542282104492188, 27.965669631958008, 27.389089584350586, 26.700124740600586, 26.54541778564453, 219.37506103515625, 218.25396728515625, 68.82908630371094, 50.9534912109375, 255.759033203125, 226.1510772705078, 69.47944641113281, 122.09221649169922, 495.094482421875, 319.83721923828125, 176.95639038085938, 52.707828521728516, 116.38084411621094, 223.54637145996094, 81.4361572265625, 96.13447570800781, 283.2856140136719, 1407.065673828125, 389.4752197265625, 3176.065673828125, 249.53298950195312, 8914.66015625, 1294.41162109375, 588.145751953125, 2854.307861328125, 1847.1103515625, 1323.2039794921875, 4896.36083984375, 1002.759765625, 1098.972412109375, 3345.46484375, 298.3270263671875, 30.908302307128906, 24.055604934692383, 20.134069442749023, 18.736255645751953, 17.189626693725586, 14.956287384033203, 11.744982719421387, 11.642597198486328, 11.34142017364502, 11.286470413208008, 11.177595138549805, 10.868408203125, 10.403334617614746, 9.611361503601074, 9.112048149108887, 8.567781448364258, 8.476946830749512, 8.13010311126709, 7.190099716186523, 6.779207229614258, 6.6795549392700195, 6.525146961212158, 6.495395660400391, 6.454862594604492, 5.944631576538086, 5.837771892547607, 5.536165237426758, 27.25660514831543, 395.6346130371094, 299.11279296875, 4896.36083984375, 282.77984619140625, 254.5971221923828, 153.6641387939453, 457.1263732910156, 922.5818481445312, 164.0664520263672, 170.96694946289062, 248.23512268066406, 82.36627197265625, 32.0657958984375, 193.23240661621094, 355.41302490234375, 509.407470703125, 6211.5380859375, 171.59397888183594, 1076.14404296875, 8914.66015625, 75.74015808105469, 1692.2972412109375, 363.49493408203125, 578.48876953125, 512.682373046875, 2365.16552734375, 1011.9342041015625, 216.07313537597656, 1030.074462890625, 934.7052612304688, 285.5709228515625, 797.08740234375, 1226.912109375, 2428.889404296875, 2854.307861328125, 5684.29296875, 1219.3016357421875, 834.056640625, 223.25653076171875, 109.18158721923828, 67.89289855957031, 53.41621780395508, 53.234439849853516, 32.12006378173828, 20.205183029174805, 16.313919067382812, 15.18659782409668, 15.068143844604492, 14.396723747253418, 130.36199951171875, 12.837013244628906, 11.584953308105469, 11.062783241271973, 10.863529205322266, 27.891876220703125, 10.41823959350586, 10.39245891571045, 9.469901084899902, 8.964336395263672, 8.6756010055542, 7.880058288574219, 31.908531188964844, 32.18727493286133, 7.303851127624512, 6.9877471923828125, 6.960231304168701, 857.590087890625, 15.167337417602539, 128.80731201171875, 217.7975616455078, 47.783756256103516, 287.7620544433594, 126.77655029296875, 58.80500411987305, 262.7110290527344, 151.20480346679688, 94.45636749267578, 454.8734436035156, 443.5459899902344, 1130.5516357421875, 6211.5380859375, 2557.1083984375, 105.1098403930664, 183.75881958007812, 5684.29296875, 183.2251739501953, 473.6462097167969, 1022.9475708007812, 1289.687255859375, 211.59115600585938, 1879.5999755859375, 444.9116516113281, 509.59295654296875, 333.3866271972656, 2365.16552734375, 8914.66015625, 650.79736328125, 592.65771484375, 184.98422241210938, 153.2634735107422, 523.6048583984375, 59.00476837158203, 53.48060607910156, 41.41873550415039, 41.05097198486328, 30.405288696289062, 29.824602127075195, 27.24445915222168, 181.07675170898438, 22.350341796875, 21.380239486694336, 20.140897750854492, 19.24934959411621, 18.83364486694336, 17.57000732421875, 16.67823600769043, 16.04012680053711, 15.778428077697754, 15.597566604614258, 14.896055221557617, 14.787689208984375, 14.752037048339844, 14.688709259033203, 14.473539352416992, 13.965563774108887, 13.813674926757812, 13.068452835083008, 1222.5472412109375, 4464.5869140625, 130.61508178710938, 43.12062454223633, 179.79042053222656, 35.3370475769043, 32.62197494506836, 650.79736328125, 581.37109375, 63.76585388183594, 596.8630981445312, 40.71470642089844, 113.23580932617188, 155.2759552001953, 227.21490478515625, 90.26414489746094, 76.69114685058594, 6751.62548828125, 641.5201416015625, 1289.687255859375, 430.537353515625, 379.7901306152344, 1847.1103515625, 2428.889404296875, 2365.16552734375, 276.31793212890625, 141.8852996826172, 349.36480712890625, 2854.307861328125, 2557.1083984375, 1098.972412109375, 302.2801818847656, 1011.9342041015625, 898.9761962890625, 742.869140625, 377.6106262207031, 317.5713806152344, 219.7857666015625, 136.34249877929688, 131.16595458984375, 80.95918273925781, 62.16843795776367, 59.417144775390625, 29.94772720336914, 29.547788619995117, 29.315826416015625, 27.652137756347656, 1619.7613525390625, 20.25984764099121, 19.55664825439453, 18.335777282714844, 12.998554229736328, 11.61352252960205, 11.604401588439941, 9.906716346740723, 9.89358901977539, 41.47166442871094, 8.875259399414062, 7.9817986488342285, 7.869093894958496, 7.518657684326172, 7.450839519500732, 7.301743984222412, 7.169869899749756, 32.230690002441406, 39.57729721069336, 28.699623107910156, 379.7901306152344, 687.1603393554688, 25.28273582458496, 1231.656982421875, 87.81459045410156, 99.30618286132812, 196.39407348632812, 22.220111846923828, 125.87995910644531, 1289.687255859375, 248.63485717773438, 2365.16552734375, 35.35873031616211, 139.57492065429688, 356.8018493652344, 124.1789321899414, 818.2020263671875, 168.38998413085938, 797.08740234375, 124.97921752929688, 375.1611633300781, 1294.41162109375, 1847.1103515625, 885.3067626953125, 1039.15478515625], \"Category\": [\"Default\", \"Default\", \"Default\", \"Default\", \"Default\", \"Default\", \"Default\", \"Default\", \"Default\", \"Default\", \"Default\", \"Default\", \"Default\", \"Default\", \"Default\", \"Default\", \"Default\", \"Default\", \"Default\", \"Default\", \"Default\", \"Default\", \"Default\", \"Default\", \"Default\", \"Default\", \"Default\", \"Default\", \"Default\", \"Default\", \"Topic1\", \"Topic1\", \"Topic1\", \"Topic1\", \"Topic1\", \"Topic1\", \"Topic1\", \"Topic1\", \"Topic1\", \"Topic1\", \"Topic1\", \"Topic1\", \"Topic1\", \"Topic1\", \"Topic1\", \"Topic1\", \"Topic1\", \"Topic1\", \"Topic1\", \"Topic1\", \"Topic1\", \"Topic1\", \"Topic1\", \"Topic1\", \"Topic1\", \"Topic1\", \"Topic1\", \"Topic1\", \"Topic1\", \"Topic1\", \"Topic1\", \"Topic1\", \"Topic1\", \"Topic1\", \"Topic1\", \"Topic1\", \"Topic1\", \"Topic1\", \"Topic1\", \"Topic1\", \"Topic1\", \"Topic1\", \"Topic1\", \"Topic1\", \"Topic1\", \"Topic1\", \"Topic1\", \"Topic1\", \"Topic1\", \"Topic1\", \"Topic1\", \"Topic1\", \"Topic1\", \"Topic1\", \"Topic1\", \"Topic1\", \"Topic1\", \"Topic1\", \"Topic1\", \"Topic1\", \"Topic1\", \"Topic1\", \"Topic1\", \"Topic2\", \"Topic2\", \"Topic2\", \"Topic2\", \"Topic2\", \"Topic2\", \"Topic2\", \"Topic2\", \"Topic2\", \"Topic2\", \"Topic2\", \"Topic2\", \"Topic2\", \"Topic2\", \"Topic2\", \"Topic2\", \"Topic2\", \"Topic2\", \"Topic2\", \"Topic2\", \"Topic2\", \"Topic2\", \"Topic2\", \"Topic2\", \"Topic2\", \"Topic2\", \"Topic2\", \"Topic2\", \"Topic2\", \"Topic2\", \"Topic2\", \"Topic2\", \"Topic2\", \"Topic2\", \"Topic2\", \"Topic2\", \"Topic2\", \"Topic2\", \"Topic2\", \"Topic2\", \"Topic2\", \"Topic2\", \"Topic2\", \"Topic2\", \"Topic2\", \"Topic2\", \"Topic2\", \"Topic2\", \"Topic2\", \"Topic2\", \"Topic2\", \"Topic2\", \"Topic2\", \"Topic2\", \"Topic2\", \"Topic2\", \"Topic2\", \"Topic2\", \"Topic2\", \"Topic2\", \"Topic2\", \"Topic2\", \"Topic2\", \"Topic2\", \"Topic2\", \"Topic2\", \"Topic2\", \"Topic3\", \"Topic3\", \"Topic3\", \"Topic3\", \"Topic3\", \"Topic3\", \"Topic3\", \"Topic3\", \"Topic3\", \"Topic3\", \"Topic3\", \"Topic3\", \"Topic3\", \"Topic3\", \"Topic3\", \"Topic3\", \"Topic3\", \"Topic3\", \"Topic3\", \"Topic3\", \"Topic3\", \"Topic3\", \"Topic3\", \"Topic3\", \"Topic3\", \"Topic3\", \"Topic3\", \"Topic3\", \"Topic3\", \"Topic3\", \"Topic3\", \"Topic3\", \"Topic3\", \"Topic3\", \"Topic3\", \"Topic3\", \"Topic3\", \"Topic3\", \"Topic3\", \"Topic3\", \"Topic3\", \"Topic3\", \"Topic3\", \"Topic3\", \"Topic3\", \"Topic3\", \"Topic3\", \"Topic3\", \"Topic3\", \"Topic3\", \"Topic3\", \"Topic3\", \"Topic3\", \"Topic3\", \"Topic3\", \"Topic3\", \"Topic3\", \"Topic3\", \"Topic3\", \"Topic3\", \"Topic3\", \"Topic3\", \"Topic3\", \"Topic3\", \"Topic3\", \"Topic3\", \"Topic3\", \"Topic4\", \"Topic4\", \"Topic4\", \"Topic4\", \"Topic4\", \"Topic4\", \"Topic4\", \"Topic4\", \"Topic4\", \"Topic4\", \"Topic4\", \"Topic4\", \"Topic4\", \"Topic4\", \"Topic4\", \"Topic4\", \"Topic4\", \"Topic4\", \"Topic4\", \"Topic4\", \"Topic4\", \"Topic4\", \"Topic4\", \"Topic4\", \"Topic4\", \"Topic4\", \"Topic4\", \"Topic4\", \"Topic4\", \"Topic4\", \"Topic4\", \"Topic4\", \"Topic4\", \"Topic4\", \"Topic4\", \"Topic4\", \"Topic4\", \"Topic4\", \"Topic4\", \"Topic4\", \"Topic4\", \"Topic4\", \"Topic4\", \"Topic4\", \"Topic4\", \"Topic4\", \"Topic4\", \"Topic4\", \"Topic4\", \"Topic4\", \"Topic4\", \"Topic4\", \"Topic4\", \"Topic4\", \"Topic4\", \"Topic4\", \"Topic4\", \"Topic4\", \"Topic4\", \"Topic4\", \"Topic4\", \"Topic4\", \"Topic4\", \"Topic4\", \"Topic4\", \"Topic5\", \"Topic5\", \"Topic5\", \"Topic5\", \"Topic5\", \"Topic5\", \"Topic5\", \"Topic5\", \"Topic5\", \"Topic5\", \"Topic5\", \"Topic5\", \"Topic5\", \"Topic5\", \"Topic5\", \"Topic5\", \"Topic5\", \"Topic5\", \"Topic5\", \"Topic5\", \"Topic5\", \"Topic5\", \"Topic5\", \"Topic5\", \"Topic5\", \"Topic5\", \"Topic5\", \"Topic5\", \"Topic5\", \"Topic5\", \"Topic5\", \"Topic5\", \"Topic5\", \"Topic5\", \"Topic5\", \"Topic5\", \"Topic5\", \"Topic5\", \"Topic5\", \"Topic5\", \"Topic5\", \"Topic5\", \"Topic5\", \"Topic5\", \"Topic5\", \"Topic5\", \"Topic5\", \"Topic5\", \"Topic5\", \"Topic5\", \"Topic5\", \"Topic5\", \"Topic5\", \"Topic5\", \"Topic5\", \"Topic5\", \"Topic5\", \"Topic5\", \"Topic5\", \"Topic5\", \"Topic5\", \"Topic5\", \"Topic5\", \"Topic5\", \"Topic5\", \"Topic5\", \"Topic5\", \"Topic5\", \"Topic5\", \"Topic5\", \"Topic5\", \"Topic6\", \"Topic6\", \"Topic6\", \"Topic6\", \"Topic6\", \"Topic6\", \"Topic6\", \"Topic6\", \"Topic6\", \"Topic6\", \"Topic6\", \"Topic6\", \"Topic6\", \"Topic6\", \"Topic6\", \"Topic6\", \"Topic6\", \"Topic6\", \"Topic6\", \"Topic6\", \"Topic6\", \"Topic6\", \"Topic6\", \"Topic6\", \"Topic6\", \"Topic6\", \"Topic6\", \"Topic6\", \"Topic6\", \"Topic6\", \"Topic6\", \"Topic6\", \"Topic6\", \"Topic6\", \"Topic6\", \"Topic6\", \"Topic6\", \"Topic6\", \"Topic6\", \"Topic6\", \"Topic6\", \"Topic6\", \"Topic6\", \"Topic6\", \"Topic6\", \"Topic6\", \"Topic6\", \"Topic6\", \"Topic6\", \"Topic6\", \"Topic6\", \"Topic6\", \"Topic6\", \"Topic6\", \"Topic6\", \"Topic6\", \"Topic6\", \"Topic6\", \"Topic6\", \"Topic6\", \"Topic6\", \"Topic6\", \"Topic6\", \"Topic6\", \"Topic7\", \"Topic7\", \"Topic7\", \"Topic7\", \"Topic7\", \"Topic7\", \"Topic7\", \"Topic7\", \"Topic7\", \"Topic7\", \"Topic7\", \"Topic7\", \"Topic7\", \"Topic7\", \"Topic7\", \"Topic7\", \"Topic7\", \"Topic7\", \"Topic7\", \"Topic7\", \"Topic7\", \"Topic7\", \"Topic7\", \"Topic7\", \"Topic7\", \"Topic7\", \"Topic7\", \"Topic7\", \"Topic7\", \"Topic7\", \"Topic7\", \"Topic7\", \"Topic7\", \"Topic7\", \"Topic7\", \"Topic7\", \"Topic7\", \"Topic7\", \"Topic7\", \"Topic7\", \"Topic7\", \"Topic7\", \"Topic7\", \"Topic7\", \"Topic7\", \"Topic7\", \"Topic7\", \"Topic7\", \"Topic7\", \"Topic7\", \"Topic7\", \"Topic7\", \"Topic7\", \"Topic7\", \"Topic7\", \"Topic7\", \"Topic7\", \"Topic7\", \"Topic8\", \"Topic8\", \"Topic8\", \"Topic8\", \"Topic8\", \"Topic8\", \"Topic8\", \"Topic8\", \"Topic8\", \"Topic8\", \"Topic8\", \"Topic8\", \"Topic8\", \"Topic8\", \"Topic8\", \"Topic8\", \"Topic8\", \"Topic8\", \"Topic8\", \"Topic8\", \"Topic8\", \"Topic8\", \"Topic8\", \"Topic8\", \"Topic8\", \"Topic8\", \"Topic8\", \"Topic8\", \"Topic8\", \"Topic8\", \"Topic8\", \"Topic8\", \"Topic8\", \"Topic8\", \"Topic8\", \"Topic8\", \"Topic8\", \"Topic8\", \"Topic8\", \"Topic8\", \"Topic8\", \"Topic8\", \"Topic8\", \"Topic8\", \"Topic8\", \"Topic8\", \"Topic8\", \"Topic8\", \"Topic8\", \"Topic8\", \"Topic8\", \"Topic8\", \"Topic8\", \"Topic8\", \"Topic8\", \"Topic8\", \"Topic8\", \"Topic8\", \"Topic8\", \"Topic8\", \"Topic8\", \"Topic8\", \"Topic8\", \"Topic8\", \"Topic9\", \"Topic9\", \"Topic9\", \"Topic9\", \"Topic9\", \"Topic9\", \"Topic9\", \"Topic9\", \"Topic9\", \"Topic9\", \"Topic9\", \"Topic9\", \"Topic9\", \"Topic9\", \"Topic9\", \"Topic9\", \"Topic9\", \"Topic9\", \"Topic9\", \"Topic9\", \"Topic9\", \"Topic9\", \"Topic9\", \"Topic9\", \"Topic9\", \"Topic9\", \"Topic9\", \"Topic9\", \"Topic9\", \"Topic9\", \"Topic9\", \"Topic9\", \"Topic9\", \"Topic9\", \"Topic9\", \"Topic9\", \"Topic9\", \"Topic9\", \"Topic9\", \"Topic9\", \"Topic9\", \"Topic9\", \"Topic9\", \"Topic9\", \"Topic9\", \"Topic9\", \"Topic9\", \"Topic9\", \"Topic9\", \"Topic9\", \"Topic9\", \"Topic9\", \"Topic9\", \"Topic9\", \"Topic9\", \"Topic9\", \"Topic9\", \"Topic9\", \"Topic9\", \"Topic9\", \"Topic9\", \"Topic9\", \"Topic9\", \"Topic9\", \"Topic9\", \"Topic10\", \"Topic10\", \"Topic10\", \"Topic10\", \"Topic10\", \"Topic10\", \"Topic10\", \"Topic10\", \"Topic10\", \"Topic10\", \"Topic10\", \"Topic10\", \"Topic10\", \"Topic10\", \"Topic10\", \"Topic10\", \"Topic10\", \"Topic10\", \"Topic10\", \"Topic10\", \"Topic10\", \"Topic10\", \"Topic10\", \"Topic10\", \"Topic10\", \"Topic10\", \"Topic10\", \"Topic10\", \"Topic10\", \"Topic10\", \"Topic10\", \"Topic10\", \"Topic10\", \"Topic10\", \"Topic10\", \"Topic10\", \"Topic10\", \"Topic10\", \"Topic10\", \"Topic10\", \"Topic10\", \"Topic10\", \"Topic10\", \"Topic10\", \"Topic10\", \"Topic10\", \"Topic10\", \"Topic10\", \"Topic10\", \"Topic10\", \"Topic10\", \"Topic10\", \"Topic10\", \"Topic10\", \"Topic10\", \"Topic10\", \"Topic10\", \"Topic10\", \"Topic10\", \"Topic10\", \"Topic10\", \"Topic10\", \"Topic10\", \"Topic10\", \"Topic10\", \"Topic10\", \"Topic10\", \"Topic11\", \"Topic11\", \"Topic11\", \"Topic11\", \"Topic11\", \"Topic11\", \"Topic11\", \"Topic11\", \"Topic11\", \"Topic11\", \"Topic11\", \"Topic11\", \"Topic11\", \"Topic11\", \"Topic11\", \"Topic11\", \"Topic11\", \"Topic11\", \"Topic11\", \"Topic11\", \"Topic11\", \"Topic11\", \"Topic11\", \"Topic11\", \"Topic11\", \"Topic11\", \"Topic11\", \"Topic11\", \"Topic11\", \"Topic11\", \"Topic11\", \"Topic11\", \"Topic11\", \"Topic11\", \"Topic11\", \"Topic11\", \"Topic11\", \"Topic11\", \"Topic11\", \"Topic11\", \"Topic11\", \"Topic11\", \"Topic11\", \"Topic11\", \"Topic11\", \"Topic11\", \"Topic11\", \"Topic11\", \"Topic11\", \"Topic11\", \"Topic11\", \"Topic11\", \"Topic11\", \"Topic11\", \"Topic11\", \"Topic11\", \"Topic11\", \"Topic11\", \"Topic11\", \"Topic11\", \"Topic12\", \"Topic12\", \"Topic12\", \"Topic12\", \"Topic12\", \"Topic12\", \"Topic12\", \"Topic12\", \"Topic12\", \"Topic12\", \"Topic12\", \"Topic12\", \"Topic12\", \"Topic12\", \"Topic12\", \"Topic12\", \"Topic12\", \"Topic12\", \"Topic12\", \"Topic12\", \"Topic12\", \"Topic12\", \"Topic12\", \"Topic12\", \"Topic12\", \"Topic12\", \"Topic12\", \"Topic12\", \"Topic12\", \"Topic12\", \"Topic12\", \"Topic12\", \"Topic12\", \"Topic12\", \"Topic12\", \"Topic12\", \"Topic12\", \"Topic12\", \"Topic12\", \"Topic12\", \"Topic12\", \"Topic12\", \"Topic12\", \"Topic12\", \"Topic12\", \"Topic12\", \"Topic12\", \"Topic12\", \"Topic12\", \"Topic12\", \"Topic12\", \"Topic12\", \"Topic12\", \"Topic12\", \"Topic12\", \"Topic12\", \"Topic12\", \"Topic12\", \"Topic12\", \"Topic12\", \"Topic12\", \"Topic12\", \"Topic12\", \"Topic12\", \"Topic12\", \"Topic12\", \"Topic13\", \"Topic13\", \"Topic13\", \"Topic13\", \"Topic13\", \"Topic13\", \"Topic13\", \"Topic13\", \"Topic13\", \"Topic13\", \"Topic13\", \"Topic13\", \"Topic13\", \"Topic13\", \"Topic13\", \"Topic13\", \"Topic13\", \"Topic13\", \"Topic13\", \"Topic13\", \"Topic13\", \"Topic13\", \"Topic13\", \"Topic13\", \"Topic13\", \"Topic13\", \"Topic13\", \"Topic13\", \"Topic13\", \"Topic13\", \"Topic13\", \"Topic13\", \"Topic13\", \"Topic13\", \"Topic13\", \"Topic13\", \"Topic13\", \"Topic13\", \"Topic13\", \"Topic13\", \"Topic13\", \"Topic13\", \"Topic13\", \"Topic13\", \"Topic13\", \"Topic13\", \"Topic13\", \"Topic13\", \"Topic13\", \"Topic13\", \"Topic13\", \"Topic13\", \"Topic13\", \"Topic13\", \"Topic13\", \"Topic13\", \"Topic13\", \"Topic13\", \"Topic13\", \"Topic13\", \"Topic13\", \"Topic14\", \"Topic14\", \"Topic14\", \"Topic14\", \"Topic14\", \"Topic14\", \"Topic14\", \"Topic14\", \"Topic14\", \"Topic14\", \"Topic14\", \"Topic14\", \"Topic14\", \"Topic14\", \"Topic14\", \"Topic14\", \"Topic14\", \"Topic14\", \"Topic14\", \"Topic14\", \"Topic14\", \"Topic14\", \"Topic14\", \"Topic14\", \"Topic14\", \"Topic14\", \"Topic14\", \"Topic14\", \"Topic14\", \"Topic14\", \"Topic14\", \"Topic14\", \"Topic14\", \"Topic14\", \"Topic14\", \"Topic14\", \"Topic14\", \"Topic14\", \"Topic14\", \"Topic14\", \"Topic14\", \"Topic14\", \"Topic14\", \"Topic14\", \"Topic14\", \"Topic14\", \"Topic14\", \"Topic14\", \"Topic14\", \"Topic14\", \"Topic14\", \"Topic14\", \"Topic14\", \"Topic14\", \"Topic14\", \"Topic14\", \"Topic14\", \"Topic14\", \"Topic14\", \"Topic14\", \"Topic14\", \"Topic14\", \"Topic14\", \"Topic14\", \"Topic15\", \"Topic15\", \"Topic15\", \"Topic15\", \"Topic15\", \"Topic15\", \"Topic15\", \"Topic15\", \"Topic15\", \"Topic15\", \"Topic15\", \"Topic15\", \"Topic15\", \"Topic15\", \"Topic15\", \"Topic15\", \"Topic15\", \"Topic15\", \"Topic15\", \"Topic15\", \"Topic15\", \"Topic15\", \"Topic15\", \"Topic15\", \"Topic15\", \"Topic15\", \"Topic15\", \"Topic15\", \"Topic15\", \"Topic15\", \"Topic15\", \"Topic15\", \"Topic15\", \"Topic15\", \"Topic15\", \"Topic15\", \"Topic15\", \"Topic15\", \"Topic15\", \"Topic15\", \"Topic15\", \"Topic15\", \"Topic15\", \"Topic15\", \"Topic15\", \"Topic15\", \"Topic15\", \"Topic15\", \"Topic15\", \"Topic15\", \"Topic15\", \"Topic15\", \"Topic15\", \"Topic15\", \"Topic15\", \"Topic15\", \"Topic15\", \"Topic15\"], \"logprob\": [30.0, 29.0, 28.0, 27.0, 26.0, 25.0, 24.0, 23.0, 22.0, 21.0, 20.0, 19.0, 18.0, 17.0, 16.0, 15.0, 14.0, 13.0, 12.0, 11.0, 10.0, 9.0, 8.0, 7.0, 6.0, 5.0, 4.0, 3.0, 2.0, 1.0, -3.29259991645813, -4.713500022888184, -4.728499889373779, -4.861700057983398, -4.927999973297119, -5.569799900054932, -5.656300067901611, -5.726600170135498, -5.7667999267578125, -5.782199859619141, -5.797900199890137, -5.812600135803223, -5.841800212860107, -5.868800163269043, -5.876200199127197, -5.957200050354004, -6.056000232696533, -6.232999801635742, -6.298399925231934, -6.439899921417236, -6.52269983291626, -6.590099811553955, -6.592199802398682, -6.646500110626221, -6.669400215148926, -5.3155999183654785, -6.928800106048584, -6.934999942779541, -7.033100128173828, -7.091100215911865, -5.514699935913086, -5.963099956512451, -3.1614999771118164, -1.9368000030517578, -4.509799957275391, -4.940299987792969, -4.873700141906738, -5.154600143432617, -6.138299942016602, -6.060299873352051, -5.8805999755859375, -5.1234002113342285, -4.388999938964844, -4.524499893188477, -5.67080020904541, -5.458000183105469, -4.012899875640869, -5.285299777984619, -3.9024999141693115, -4.400000095367432, -4.934700012207031, -4.461400032043457, -4.875699996948242, -5.3506999015808105, -4.823999881744385, -4.4791998863220215, -4.440499782562256, -4.511499881744385, -4.647900104522705, -5.111800193786621, -5.111000061035156, -5.0157999992370605, -5.306700229644775, -2.4962000846862793, -4.170400142669678, -4.379300117492676, -5.366799831390381, -5.52400016784668, -6.269800186157227, -6.564700126647949, -6.7195000648498535, -6.72790002822876, -6.883299827575684, -6.889800071716309, -6.897600173950195, -7.092400074005127, -7.1392998695373535, -5.7347002029418945, -7.178299903869629, -7.2118000984191895, -7.216000080108643, -4.944399833679199, -7.387700080871582, -7.395100116729736, -7.42080020904541, -5.279200077056885, -7.4604997634887695, -7.497200012207031, -7.497300148010254, -7.52370023727417, -7.527299880981445, -7.587600231170654, -7.623000144958496, -2.5834999084472656, -4.189499855041504, -3.950500011444092, -5.3678998947143555, -5.089099884033203, -4.916200160980225, -5.535699844360352, -4.075500011444092, -4.829999923706055, -6.831200122833252, -3.8276000022888184, -5.33620023727417, -4.437300205230713, -4.927299976348877, -5.3317999839782715, -4.249100208282471, -5.380300045013428, -5.664999961853027, -5.071400165557861, -2.998500108718872, -4.349999904632568, -4.4344000816345215, -4.393099784851074, -4.420199871063232, -3.890000104904175, -3.5850000381469727, -3.4607999324798584, -4.15339994430542, -4.118100166320801, -4.368899822235107, -4.566299915313721, -4.394199848175049, -4.604700088500977, -4.86929988861084, -4.401199817657471, -4.689499855041504, -4.901599884033203, -4.418700218200684, -4.5346999168396, -5.067500114440918, -5.22599983215332, -5.637499809265137, -5.684299945831299, -5.6493000984191895, -5.787399768829346, -5.837500095367432, -5.8470001220703125, -5.855599880218506, -5.879700183868408, -5.934899806976318, -5.980500221252441, -6.007400035858154, -6.13100004196167, -6.202700138092041, -6.236499786376953, -6.301799774169922, -6.373300075531006, -6.450099945068359, -6.566500186920166, -6.600599765777588, -6.612100124359131, -6.684199810028076, -6.695199966430664, -6.725399971008301, -6.760000228881836, -6.8454999923706055, -6.854100227355957, -6.082200050354004, -5.100200176239014, -6.100599765777588, -3.0806000232696533, -5.234300136566162, -3.6149001121520996, -5.055500030517578, -5.367099761962891, -5.626100063323975, -3.7425999641418457, -4.796899795532227, -4.3221001625061035, -4.213099956512451, -4.946300029754639, -5.1869001388549805, -5.243800163269043, -5.442299842834473, -4.7494001388549805, -4.771200180053711, -4.899400234222412, -5.014699935913086, -4.070700168609619, -4.907599925994873, -5.127500057220459, -4.021599769592285, -4.718599796295166, -4.497499942779541, -4.135799884796143, -5.13040018081665, -4.642399787902832, -5.052000045776367, -4.998300075531006, -4.352700233459473, -4.5696001052856445, -4.91510009765625, -5.074999809265137, -5.124800205230713, -6.0858001708984375, -6.169099807739258, -6.280900001525879, -6.457099914550781, -6.505300045013428, -6.598700046539307, -6.633399963378906, -6.786300182342529, -6.832900047302246, -6.950699806213379, -6.9868998527526855, -7.008999824523926, -7.141499996185303, -3.496799945831299, -3.306999921798706, -7.521699905395508, -7.600200176239014, -7.660099983215332, -7.684800148010254, -7.715400218963623, -7.757699966430664, -7.794000148773193, -7.810100078582764, -7.816199779510498, -7.839099884033203, -7.842400074005127, -7.90369987487793, -7.908199787139893, -8.041899681091309, -8.164899826049805, -1.80649995803833, -4.090799808502197, -5.523799896240234, -5.409200191497803, -5.214600086212158, -3.266200065612793, -1.5778000354766846, -1.9110000133514404, -3.0759999752044678, -7.272600173950195, -5.8850998878479, -5.399400234222412, -5.27400016784668, -6.920300006866455, -6.289700031280518, -5.902500152587891, -4.6178998947143555, -5.202199935913086, -4.758900165557861, -3.115799903869629, -4.967599868774414, -3.6308999061584473, -3.615799903869629, -5.264699935913086, -5.197700023651123, -5.208899974822998, -4.80810022354126, -5.644499778747559, -5.436800003051758, -5.078000068664551, -5.012599945068359, -5.587299823760986, -5.5808000564575195, -5.511600017547607, -5.565999984741211, -3.0494000911712646, -4.8709001541137695, -5.15749979019165, -5.301599979400635, -5.576300144195557, -5.686699867248535, -5.757400035858154, -5.911600112915039, -6.292900085449219, -6.377200126647949, -6.392000198364258, -6.414400100708008, -6.416500091552734, -6.440800189971924, -6.450900077819824, -6.517300128936768, -6.518899917602539, -6.592100143432617, -6.66349983215332, -6.706600189208984, -6.726600170135498, -6.757800102233887, -6.758200168609619, -6.707300186157227, -6.8171000480651855, -6.84119987487793, -6.874899864196777, -6.9120001792907715, -6.934700012207031, -6.959799766540527, -4.715700149536133, -5.586400032043457, -5.7144999504089355, -4.132999897003174, -5.0742998123168945, -5.231100082397461, -4.381199836730957, -3.649899959564209, -4.174099922180176, -4.938199996948242, -5.469799995422363, -4.749300003051758, -6.049200057983398, -4.045400142669678, -5.024600028991699, -4.200500011444092, -4.214799880981445, -5.8454999923706055, -4.957200050354004, -4.261499881744385, -5.0005998611450195, -4.882599830627441, -4.085700035095215, -4.791200160980225, -4.677599906921387, -4.378499984741211, -4.59060001373291, -4.470900058746338, -4.708499908447266, -4.075200080871582, -4.647500038146973, -4.303699970245361, -3.9916000366210938, -4.593999862670898, -4.513899803161621, -4.386199951171875, -4.376999855041504, -4.224899768829346, -4.65880012512207, -4.84660005569458, -4.740200042724609, -4.13040018081665, -4.561699867248535, -5.063799858093262, -4.219699859619141, -5.707799911499023, -5.885900020599365, -5.893400192260742, -6.020500183105469, -6.224299907684326, -5.268499851226807, -6.351399898529053, -4.251299858093262, -6.553199768066406, -6.561999797821045, -6.571100234985352, -6.641600131988525, -6.678100109100342, -6.796199798583984, -6.822999954223633, -6.868800163269043, -6.926000118255615, -4.730500221252441, -7.062699794769287, -7.0894999504089355, -7.220300197601318, -7.235000133514404, -7.268700122833252, -7.332600116729736, -7.314599990844727, -7.389800071716309, -2.975399971008301, -5.299499988555908, -5.2804999351501465, -2.708400011062622, -3.8236000537872314, -3.5977001190185547, -4.5279998779296875, -4.485799789428711, -4.067299842834473, -3.446700096130371, -5.1082000732421875, -5.800899982452393, -4.449100017547607, -5.361700057983398, -5.209400177001953, -5.441400051116943, -3.664400100708008, -4.274099826812744, -3.9700000286102295, -4.668300151824951, -4.9721999168396, -3.8171000480651855, -5.097400188446045, -3.459399938583374, -3.903899908065796, -3.616300106048584, -4.3557000160217285, -3.8190999031066895, -4.285099983215332, -4.194799900054932, -4.240499973297119, -4.5782999992370605, -4.8242998123168945, -4.826700210571289, -3.1487998962402344, -3.2897000312805176, -4.180500030517578, -4.308300018310547, -2.379499912261963, -4.6554999351501465, -4.789700031280518, -4.8003997802734375, -5.679100036621094, -5.459799766540527, -5.722499847412109, -6.2108001708984375, -6.34250020980835, -6.573800086975098, -6.584199905395508, -5.928800106048584, -6.798699855804443, -6.868899822235107, -7.050899982452393, -7.199100017547607, -7.225500106811523, -7.2505998611450195, -5.722300052642822, -7.3881001472473145, -3.765700101852417, -5.71750020980835, -7.482500076293945, -7.486800193786621, -7.488399982452393, -5.2270002365112305, -4.529300212860107, -4.935100078582764, -5.348999977111816, -2.6175999641418457, -5.678800106048584, -4.483500003814697, -3.725399971008301, -4.682499885559082, -2.8773999214172363, -5.565499782562256, -4.342800140380859, -4.974100112915039, -3.9504001140594482, -3.6547000408172607, -4.5096001625061035, -5.0395002365112305, -3.0982000827789307, -4.224800109863281, -4.4857001304626465, -4.715199947357178, -4.894800186157227, -3.6377999782562256, -3.749500036239624, -4.493599891662598, -4.76609992980957, -4.787700176239014, -4.732999801635742, -4.789299964904785, -4.542699813842773, -4.685800075531006, -4.730000019073486, -5.019999980926514, -5.776700019836426, -5.844399929046631, -6.096799850463867, -6.236000061035156, -6.582699775695801, -6.724599838256836, -6.830100059509277, -6.88700008392334, -6.910999774932861, -7.014100074768066, -7.089300155639648, -6.2434000968933105, -7.077300071716309, -7.143899917602539, -7.177499771118164, -7.189000129699707, -7.2052001953125, -7.220300197601318, -7.262599945068359, -7.264999866485596, -7.341800212860107, -7.382500171661377, -7.409599781036377, -7.42609977722168, -7.437900066375732, -7.440899848937988, -5.174099922180176, -2.1117000579833984, -5.0295000076293945, -5.623499870300293, -3.5901999473571777, -4.710999965667725, -4.971399784088135, -4.576499938964844, -3.6456000804901123, -4.578199863433838, -6.484000205993652, -6.1194000244140625, -2.343600034713745, -3.581700086593628, -5.9217000007629395, -4.487800121307373, -5.089600086212158, -6.101799964904785, -4.156099796295166, -2.9449000358581543, -4.9359002113342285, -3.8227999210357666, -5.019400119781494, -4.302599906921387, -4.42140007019043, -4.484600067138672, -3.3598999977111816, -3.5525999069213867, -3.865299940109253, -4.345799922943115, -5.051199913024902, -4.519499778747559, -4.980899810791016, -4.986999988555908, -5.081500053405762, -5.210299968719482, -5.2378997802734375, -5.44890022277832, -5.5329999923706055, -5.5904998779296875, -5.690000057220459, -5.817399978637695, -5.857399940490723, -6.1143999099731445, -6.3277997970581055, -6.3368000984191895, -6.373000144958496, -6.389200210571289, -6.443600177764893, -6.594200134277344, -6.694200038909912, -6.701200008392334, -6.701700210571289, -6.70550012588501, -4.721700191497803, -6.806000232696533, -6.857500076293945, -6.86959981918335, -7.230800151824951, -7.257800102233887, -7.317399978637695, -7.318900108337402, -4.484899997711182, -5.465700149536133, -4.44890022277832, -4.59499979019165, -3.8736000061035156, -4.203999996185303, -4.250800132751465, -4.991099834442139, -5.304900169372559, -5.6828999519348145, -1.4688999652862549, -5.586599826812744, -4.476399898529053, -4.944699764251709, -4.1072001457214355, -5.3927998542785645, -4.945499897003174, -5.17549991607666, -4.377999782562256, -4.839799880981445, -4.490499973297119, -3.454400062561035, -3.228300094604492, -4.39300012588501, -2.8369998931884766, -4.261000156402588, -4.127399921417236, -4.301499843597412, -3.478600025177002, -4.53849983215332, -4.75629997253418, -4.468299865722656, -4.588099956512451, -4.947000026702881, -4.884799957275391, -4.947000026702881, -4.944799900054932, -3.884200096130371, -4.1168999671936035, -4.412399768829346, -4.990699768066406, -5.123000144958496, -5.243899822235107, -5.452199935913086, -5.533899784088135, -5.598100185394287, -6.203000068664551, -6.215700149536133, -6.284299850463867, -6.287700176239014, -6.361000061035156, -6.42140007019043, -6.429200172424316, -6.471399784088135, -6.47160005569458, -6.597099781036377, -6.637400150299072, -6.67579984664917, -6.684199810028076, -6.692699909210205, -6.710599899291992, -6.723599910736084, -6.83459997177124, -6.877799987792969, -6.90749979019165, -6.920599937438965, -6.940199851989746, -2.020900011062622, -4.692200183868408, -5.45359992980957, -3.9635000228881836, -5.285200119018555, -5.40749979019165, -4.243199825286865, -4.30049991607666, -4.248199939727783, -5.886499881744385, -5.25029993057251, -6.0954999923706055, -3.6621999740600586, -4.35830020904541, -3.6630001068115234, -4.92080020904541, -4.2129998207092285, -4.680500030517578, -4.162399768829346, -5.101099967956543, -4.347499847412109, -4.917699813842773, -3.8873000144958496, -4.084400177001953, -4.5858001708984375, -4.139900207519531, -3.7395999431610107, -3.7074999809265137, -4.319300174713135, -4.83459997177124, -4.992800235748291, -4.902400016784668, -4.557300090789795, -4.915800094604492, -4.794099807739258, -4.827899932861328, -4.896500110626221, -3.5058000087738037, -3.7506000995635986, -3.8306000232696533, -4.249100208282471, -4.394499778747559, -5.153299808502197, -5.165599822998047, -5.192699909210205, -5.441400051116943, -5.498000144958496, -5.512700080871582, -5.546199798583984, -5.562399864196777, -5.6697001457214355, -5.713799953460693, -5.8069000244140625, -5.975399971008301, -6.0578999519348145, -6.104499816894531, -6.106800079345703, -6.126500129699707, -6.194399833679199, -6.209099769592285, -6.238500118255615, -6.254700183868408, -6.269800186157227, -6.3607001304626465, -6.382199764251709, -6.4085001945495605, -6.414599895477295, -4.312600135803223, -4.377399921417236, -5.501999855041504, -5.808599948883057, -4.356900215148926, -4.527100086212158, -5.553100109100342, -5.107399940490723, -4.032899856567383, -4.402500152587891, -4.986999988555908, -5.839200019836426, -5.309700012207031, -4.886499881744385, -5.548799991607666, -5.448400020599365, -4.923099994659424, -4.180500030517578, -4.843599796295166, -3.9426000118255615, -5.037499904632568, -3.8814001083374023, -4.56689977645874, -4.877799987792969, -4.451700210571289, -4.702099800109863, -4.798999786376953, -4.5995001792907715, -5.09630012512207, -5.132599830627441, -1.468400001525879, -3.8882999420166016, -6.181600093841553, -6.4405999183654785, -6.626100063323975, -6.701499938964844, -6.792099952697754, -6.9394001960754395, -7.198400020599365, -7.207900047302246, -7.236299991607666, -7.241600036621094, -7.252099990844727, -7.282599925994873, -7.3302998542785645, -7.417200088500977, -7.476099967956543, -7.54449987411499, -7.556399822235107, -7.6031999588012695, -7.742199897766113, -7.809599876403809, -7.826600074768066, -7.853600025177002, -7.85890007019043, -7.866199970245361, -7.962200164794922, -7.98360013961792, -8.04640007019043, -6.484799861907959, -3.936000108718872, -4.3018999099731445, -1.7216999530792236, -4.39169979095459, -4.535999774932861, -4.997499942779541, -4.044099807739258, -3.516400098800659, -5.025599956512451, -5.048799991607666, -4.779799938201904, -5.763299942016602, -6.526400089263916, -5.258299827575684, -4.848800182342529, -4.618899822235107, -2.925299882888794, -5.420000076293945, -4.333700180053711, -3.0459001064300537, -6.03849983215332, -4.1194000244140625, -5.126100063323975, -4.929599761962891, -4.994900226593018, -4.276800155639648, -4.726200103759766, -5.501100063323975, -4.790500164031982, -4.861800193786621, -5.3856000900268555, -5.079899787902832, -5.0040998458862305, -4.895299911499023, -5.05709981918335, -5.119699954986572, -2.4598000049591064, -2.8397998809814453, -4.160699844360352, -4.880199909210205, -5.360300064086914, -5.603700160980225, -5.607100009918213, -6.123499870300293, -6.603899955749512, -6.828800201416016, -6.904600143432617, -6.913000106811523, -6.96150016784668, -4.764400005340576, -7.084099769592285, -7.194799900054932, -7.244800090789795, -7.264599800109863, -6.321700096130371, -7.310200214385986, -7.312900066375732, -7.414999961853027, -7.4756999015808105, -7.51200008392334, -7.619800090789795, -6.22629976272583, -6.221499919891357, -7.705699920654297, -7.756199836730957, -7.760700225830078, -3.011399984359741, -6.991300106048584, -4.902599811553955, -4.393199920654297, -5.86959981918335, -4.1356000900268555, -4.978499889373779, -5.709000110626221, -4.344099998474121, -4.853600025177002, -5.3480000495910645, -4.019599914550781, -4.0559000968933105, -3.3208999633789062, -1.970900058746338, -2.7709999084472656, -5.341000080108643, -4.913300037384033, -2.306299924850464, -4.945700168609619, -4.330399990081787, -3.8522000312805176, -3.7632999420166016, -4.93179988861084, -3.624300003051758, -4.704999923706055, -4.768400192260742, -4.952600002288818, -4.335400104522705, -4.045300006866455, -4.877699851989746, -3.1707000732421875, -4.3383002281188965, -4.527400016784668, -3.3062000274658203, -5.491199970245361, -5.591000080108643, -5.851500034332275, -5.860599994659424, -6.168399810791016, -6.188300132751465, -6.281700134277344, -4.388999938964844, -6.486999988555908, -6.533199787139893, -6.5954999923706055, -6.642899990081787, -6.665800094604492, -6.738800048828125, -6.793700218200684, -6.83489990234375, -6.85230016708374, -6.864500045776367, -6.913300037384033, -6.92110013961792, -6.923600196838379, -6.928199768066406, -6.943900108337402, -6.98199987411499, -6.99370002746582, -7.052999973297119, -2.521199941635132, -1.5049999952316284, -4.924499988555908, -5.947199821472168, -4.665200233459473, -6.133500099182129, -6.226799964904785, -3.6268999576568604, -3.7841999530792236, -5.701600074768066, -3.8910999298095703, -6.083799839019775, -5.288300037384033, -5.049499988555908, -4.769499778747559, -5.521399974822998, -5.657599925994873, -2.8492000102996826, -4.441299915313721, -4.163400173187256, -4.768700122833252, -4.9334001541137695, -4.1803998947143555, -4.0971999168396, -4.24970006942749, -5.186500072479248, -5.488699913024902, -5.238500118255615, -4.685999870300293, -4.8105998039245605, -5.00570011138916, -5.353600025177002, -5.252600193023682, -5.34089994430542, -2.4686999320983887, -3.1465001106262207, -3.3201000690460205, -3.6893999576568604, -4.169300079345703, -4.208199977874756, -4.694900035858154, -4.962399959564209, -5.008299827575684, -5.7083001136779785, -5.722099781036377, -5.730199813842773, -5.790500164031982, -1.7300000190734863, -6.11359977722168, -6.150599956512451, -6.218100070953369, -6.583000183105469, -6.7042999267578125, -6.7052001953125, -6.877500057220459, -6.878900051116943, -5.44789981842041, -6.998700141906738, -7.117199897766113, -7.133200168609619, -7.184599876403809, -7.194900035858154, -7.217800140380859, -7.238500118255615, -5.759699821472168, -5.561999797821045, -5.88670015335083, -3.452399969100952, -2.9695000648498535, -6.05019998550415, -2.5404000282287598, -4.959199905395508, -4.85290002822876, -4.26170015335083, -6.176400184631348, -4.806700229644775, -3.18149995803833, -4.642499923706055, -3.286600112915039, -5.845200061798096, -5.170000076293945, -4.768899917602539, -5.291299819946289, -4.645899772644043, -5.185400009155273, -4.904799938201904, -5.377600193023682, -5.137899875640869, -4.933300018310547, -4.877399921417236, -5.247000217437744, -5.278299808502197], \"loglift\": [30.0, 29.0, 28.0, 27.0, 26.0, 25.0, 24.0, 23.0, 22.0, 21.0, 20.0, 19.0, 18.0, 17.0, 16.0, 15.0, 14.0, 13.0, 12.0, 11.0, 10.0, 9.0, 8.0, 7.0, 6.0, 5.0, 4.0, 3.0, 2.0, 1.0, 1.7079999446868896, 1.7066999673843384, 1.7066999673843384, 1.7064000368118286, 1.7063000202178955, 1.7043999433517456, 1.7041000127792358, 1.7037999629974365, 1.7036000490188599, 1.7035000324249268, 1.7034000158309937, 1.7034000158309937, 1.7031999826431274, 1.7030999660491943, 1.7029999494552612, 1.7026000022888184, 1.7020000219345093, 1.700700044631958, 1.7001999616622925, 1.6990000009536743, 1.698199987411499, 1.6974999904632568, 1.6974999904632568, 1.6969000101089478, 1.6965999603271484, 1.6964000463485718, 1.6930999755859375, 1.6929999589920044, 1.691499948501587, 1.690500020980835, 1.6857999563217163, 1.68149995803833, 1.6289000511169434, 1.583299994468689, 1.5942000150680542, 1.5835000276565552, 1.5779999494552612, 1.5917999744415283, 1.663699984550476, 1.642899990081787, 1.6123000383377075, 1.4699000120162964, 1.3098000288009644, 1.2247999906539917, 1.517799973487854, 1.3874000310897827, 0.5911999940872192, 1.2573000192642212, 0.11949999630451202, 0.4724000096321106, 0.7788000106811523, 0.24950000643730164, 0.6208999752998352, 1.159500002861023, 0.3221000134944916, -0.21559999883174896, -0.29589998722076416, -0.6614999771118164, -0.4765999913215637, 0.5734000205993652, 0.5544000267982483, -0.1949000060558319, 0.9690999984741211, 2.459199905395508, 2.4574999809265137, 2.4570000171661377, 2.4526000022888184, 2.4514000415802, 2.442500114440918, 2.4365999698638916, 2.4328999519348145, 2.4326000213623047, 2.4282000064849854, 2.427999973297119, 2.4277000427246094, 2.4210000038146973, 2.4191999435424805, 2.4189999103546143, 2.41759991645813, 2.4161999225616455, 2.4159998893737793, 2.4154000282287598, 2.408099889755249, 2.4077000617980957, 2.406399965286255, 2.4061999320983887, 2.4042999744415283, 2.4022998809814453, 2.4022998809814453, 2.4007999897003174, 2.400599956512451, 2.3970000743865967, 2.3947999477386475, 2.2551000118255615, 2.2929000854492188, 2.2500998973846436, 2.3101999759674072, 2.2892000675201416, 2.224400043487549, 2.2439000606536865, 2.055500030517578, 2.1298999786376953, 2.3475000858306885, 1.9816999435424805, 2.153700113296509, 2.0004000663757324, 2.05430006980896, 2.101300001144409, 1.8897000551223755, 2.0880000591278076, 2.063999891281128, 1.7719000577926636, 0.9348999857902527, 1.4773000478744507, 1.406000018119812, 1.3438999652862549, 1.309999942779541, 0.8134999871253967, 0.43709999322891235, 0.29120001196861267, 0.9368000030517578, 0.7542999982833862, 0.7598999738693237, 0.7609999775886536, 0.42669999599456787, 0.28519999980926514, 1.0910999774932861, -0.8291000127792358, -0.5181999802589417, 0.7354999780654907, 2.5234999656677246, 2.523200035095215, 2.520900011062622, 2.5199999809265137, 2.516700029373169, 2.516200065612793, 2.5155999660491943, 2.5151000022888184, 2.5144999027252197, 2.514400005340576, 2.5143001079559326, 2.5139999389648438, 2.5132999420166016, 2.512700080871582, 2.512399911880493, 2.510499954223633, 2.5092999935150146, 2.5088000297546387, 2.5076000690460205, 2.506200075149536, 2.5046000480651855, 2.502000093460083, 2.5011000633239746, 2.5007998943328857, 2.4988999366760254, 2.4986000061035156, 2.49780011177063, 2.496799945831299, 2.4941999912261963, 2.4939000606536865, 2.488100051879883, 2.462399959564209, 2.4553000926971436, 2.15310001373291, 2.3619000911712646, 2.132999897003174, 2.301500082015991, 2.337899923324585, 2.34689998626709, 1.9437999725341797, 2.1593000888824463, 2.02239990234375, 1.9611999988555908, 2.1034998893737793, 2.1545000076293945, 2.1617000102996826, 2.224299907684326, 1.9133000373840332, 1.8949999809265137, 1.955199956893921, 2.0064001083374023, 1.347599983215332, 1.8865000009536743, 2.0016000270843506, 1.0191999673843384, 1.5534000396728516, 1.0577000379562378, 0.5751000046730042, 1.8135000467300415, 0.994700014591217, 1.5779999494552612, 1.4356000423431396, -0.5026999711990356, -0.42500001192092896, 0.8603000044822693, 0.8452000021934509, 1.5858999490737915, 2.5299999713897705, 2.528599977493286, 2.526700019836426, 2.523099899291992, 2.5220000743865967, 2.5197999477386475, 2.518899917602539, 2.5146000385284424, 2.5130999088287354, 2.509200096130371, 2.5078001022338867, 2.506999969482422, 2.501699924468994, 2.498199939727783, 2.482599973678589, 2.482100009918213, 2.4772000312805176, 2.473099946975708, 2.471400022506714, 2.469099998474121, 2.4660000801086426, 2.463200092315674, 2.461899995803833, 2.461400032043457, 2.4595000743865967, 2.459199905395508, 2.4539999961853027, 2.4535999298095703, 2.441200017929077, 2.428299903869629, 2.338099956512451, 2.374300003051758, 2.393399953842163, 2.3812999725341797, 2.3738999366760254, 2.2135000228881836, 1.9943000078201294, 1.9390000104904175, 1.8229000568389893, 2.388200044631958, 2.1226000785827637, 2.018199920654297, 1.9342999458312988, 2.2843000888824463, 2.030100107192993, 1.8773000240325928, 1.3687000274658203, 1.5799000263214111, 1.2970000505447388, 0.4041999876499176, 1.3916000127792358, 0.6327000260353088, 0.40630000829696655, 1.4412000179290771, 1.3101999759674072, 1.2592999935150146, 0.7472000122070312, 1.5973000526428223, 1.2769999504089355, 0.6208999752998352, 0.4927999973297119, 1.2029999494552612, 0.9261999726295471, 0.1737000048160553, -0.961899995803833, 2.6923000812530518, 2.6886000633239746, 2.686800003051758, 2.685699939727783, 2.682499885559082, 2.6819000244140625, 2.6810998916625977, 2.678499937057495, 2.671999931335449, 2.670099973678589, 2.669800043106079, 2.6691999435424805, 2.6691999435424805, 2.668600082397461, 2.668299913406372, 2.666599988937378, 2.666599988937378, 2.6644999980926514, 2.662400007247925, 2.6610000133514404, 2.660399913787842, 2.6593000888824463, 2.6593000888824463, 2.6579999923706055, 2.6572000980377197, 2.656399965286255, 2.655100107192993, 2.653700113296509, 2.6526999473571777, 2.651700019836426, 2.631999969482422, 2.6273999214172363, 2.603800058364868, 2.529400110244751, 2.5566000938415527, 2.549799919128418, 2.466200113296509, 2.3901000022888184, 2.4130001068115234, 2.4342000484466553, 2.4881999492645264, 2.3684000968933105, 2.5645999908447266, 2.1582999229431152, 2.351900100708008, 2.147200107574463, 2.0922999382019043, 2.5113000869750977, 2.1902999877929688, 1.9524999856948853, 2.178499937057495, 2.128999948501587, 1.7236000299453735, 1.961899995803833, 1.8919999599456787, 1.5650999546051025, 1.5405000448226929, 1.4106999635696411, 1.5937000513076782, 0.7972000241279602, 1.408400058746338, 0.8251000046730042, 0.030500000342726707, 1.1274000406265259, 0.9042999744415283, 0.5127999782562256, 0.4438999891281128, -0.053599998354911804, 1.0547000169754028, 1.5910999774932861, -0.13609999418258667, 2.7084999084472656, 2.707200050354004, 2.7044999599456787, 2.7016000747680664, 2.6986000537872314, 2.6960999965667725, 2.696000099182129, 2.694000005722046, 2.690200090408325, 2.688499927520752, 2.6874001026153564, 2.6858999729156494, 2.6821000576019287, 2.6819000244140625, 2.6816000938415527, 2.679500102996826, 2.678299903869629, 2.674299955368042, 2.67330002784729, 2.6714999675750732, 2.6691999435424805, 2.6682000160217285, 2.6631999015808105, 2.6619999408721924, 2.6552999019622803, 2.6545000076293945, 2.652600049972534, 2.648900032043457, 2.6473000049591064, 2.6452999114990234, 2.6335999965667725, 2.6305999755859375, 2.6285998821258545, 2.520400047302246, 2.5053999423980713, 2.4811999797821045, 2.521399974822998, 2.504699945449829, 2.4316000938415527, 2.2746999263763428, 2.475600004196167, 2.552299976348877, 2.315500020980835, 2.4619998931884766, 2.3984999656677246, 2.3850998878479004, 1.8869999647140503, 2.007499933242798, 1.7151999473571777, 1.8792999982833862, 2.058000087738037, 1.0214999914169312, 2.0631000995635986, 0.29249998927116394, 0.7002000212669373, 0.31700000166893005, 1.1460000276565552, 0.2029999941587448, 0.9485999941825867, 0.5162000060081482, 0.5803999900817871, 0.5504000186920166, 1.2223999500274658, 1.2130999565124512, 2.779400110244751, 2.7792999744415283, 2.7774999141693115, 2.777100086212158, 2.7769999504089355, 2.775700092315674, 2.7750000953674316, 2.7750000953674316, 2.767400026321411, 2.766900062561035, 2.7667999267578125, 2.7583000659942627, 2.755199909210205, 2.748699903488159, 2.7483999729156494, 2.7455999851226807, 2.740799903869629, 2.73799991607666, 2.72979998588562, 2.72189998626709, 2.720400094985962, 2.718899965286255, 2.71589994430542, 2.710099935531616, 2.7076001167297363, 2.7074999809265137, 2.703399896621704, 2.7030999660491943, 2.703000068664551, 2.699899911880493, 2.6577999591827393, 2.6057000160217285, 2.6001999378204346, 2.4231998920440674, 2.6013998985290527, 2.5071001052856445, 2.4400999546051025, 2.4999001026153564, 2.212899923324585, 2.5427000522613525, 2.2871999740600586, 2.273400068283081, 1.9656000137329102, 1.6726000308990479, 1.9531999826431274, 2.2495999336242676, 1.073099970817566, 1.735700011253357, 1.804800033569336, 1.8375999927520752, 1.855299949645996, 0.2955999970436096, -0.17749999463558197, 0.3273000121116638, 0.8709999918937683, 0.7139999866485596, -0.7109000086784363, -0.07829999923706055, 2.802000045776367, 2.8013999462127686, 2.801100015640259, 2.7994000911712646, 2.791599988937378, 2.7904999256134033, 2.7860000133514404, 2.782900094985962, 2.7734999656677246, 2.7685999870300293, 2.7644999027252197, 2.7620999813079834, 2.760999917984009, 2.756200075149536, 2.7523999214172363, 2.751800060272217, 2.7509000301361084, 2.749500036239624, 2.7476000785827637, 2.7469000816345215, 2.746000051498413, 2.7451000213623047, 2.742500066757202, 2.7423999309539795, 2.7374000549316406, 2.7346999645233154, 2.732800006866455, 2.731600046157837, 2.7307000160217285, 2.7304999828338623, 2.6984000205993652, 2.5917999744415283, 2.512500047683716, 2.565700054168701, 2.329900026321411, 2.411099910736084, 2.343899965286255, 2.26419997215271, 2.0845000743865967, 2.2588999271392822, 2.5989999771118164, 2.503499984741211, 1.4083000421524048, 1.7455999851226807, 2.400599956512451, 1.9464999437332153, 2.06469988822937, 2.4512999057769775, 1.5809999704360962, 0.9883999824523926, 1.9074000120162964, 1.2675000429153442, 1.840000033378601, 1.3628000020980835, 1.3356000185012817, 1.3427000045776367, 0.21209999918937683, 0.29739999771118164, 0.15680000185966492, 0.5264999866485596, 1.5764000415802002, 0.19140000641345978, 0.5156999826431274, 0.14169999957084656, 2.8738999366760254, 2.87280011177063, 2.8726000785827637, 2.8703999519348145, 2.8694000244140625, 2.8685998916625977, 2.867300033569336, 2.865299940109253, 2.8645999431610107, 2.859600067138672, 2.8543999195098877, 2.854099988937378, 2.853100061416626, 2.85260009765625, 2.8510000705718994, 2.846100091934204, 2.842400074005127, 2.842099905014038, 2.842099905014038, 2.8420000076293945, 2.8396999835968018, 2.8378000259399414, 2.8355000019073486, 2.8350000381469727, 2.8152999877929688, 2.813499927520752, 2.8094000816345215, 2.809299945831299, 2.8059000968933105, 2.805799961090088, 2.7962000370025635, 2.788599967956543, 2.773900032043457, 2.675299882888794, 2.655100107192993, 2.7000999450683594, 2.721400022506714, 2.7479000091552734, 2.2829999923706055, 2.72979998588562, 2.5950000286102295, 2.6429998874664307, 2.527400016784668, 2.641700029373169, 2.54010009765625, 2.570499897003174, 2.3422000408172607, 2.418600082397461, 2.2497000694274902, 1.6916999816894531, 1.3758000135421753, 1.9515000581741333, 0.7350999712944031, 1.605299949645996, 1.3743000030517578, 1.5257999897003174, 0.37139999866485596, 1.5012999773025513, 1.7757999897003174, 1.086899995803833, 1.1871999502182007, 1.563099980354309, 1.1711000204086304, 0.8022000193595886, -0.7735000252723694, 2.987499952316284, 2.986799955368042, 2.985599994659424, 2.982100009918213, 2.9809000492095947, 2.9797000885009766, 2.977299928665161, 2.9762001037597656, 2.9753000736236572, 2.963200092315674, 2.9628000259399414, 2.960900068283081, 2.9607999324798584, 2.9586000442504883, 2.956700086593628, 2.956399917602539, 2.9549999237060547, 2.9549999237060547, 2.9504001140594482, 2.9488000869750977, 2.947200059890747, 2.9467999935150146, 2.946500062942505, 2.94569993019104, 2.9451000690460205, 2.940000057220459, 2.9377999305725098, 2.936300039291382, 2.9356000423431396, 2.934499979019165, 2.8691000938415527, 2.894200086593628, 2.9052999019622803, 2.859100103378296, 2.8680999279022217, 2.813800096511841, 2.655900001525879, 2.6586999893188477, 2.6066999435424805, 2.825200080871582, 2.675100088119507, 2.843400001525879, 2.2537999153137207, 2.3947999477386475, 2.05049991607666, 2.4179000854492188, 2.1110000610351562, 2.2920000553131104, 2.066200017929077, 2.420099973678589, 2.027600049972534, 2.242799997329712, 1.6093000173568726, 1.6726000308990479, 1.9670000076293945, 1.4154000282287598, 0.9714000225067139, 0.8966000080108643, 1.4560999870300293, 1.8791999816894531, 2.1963000297546387, 1.9704999923706055, 0.571399986743927, 1.5771000385284424, 0.5332000255584717, 0.590399980545044, -0.02419999986886978, 3.0058000087738037, 3.0053000450134277, 3.0051000118255615, 3.0037999153137207, 3.003200054168701, 2.9981000423431396, 2.9979000091552734, 2.9976999759674072, 2.9948999881744385, 2.9941000938415527, 2.9939000606536865, 2.993499994277954, 2.9932000637054443, 2.9916000366210938, 2.9909000396728516, 2.989300012588501, 2.9858999252319336, 2.984100103378296, 2.9830000400543213, 2.9828999042510986, 2.9823999404907227, 2.9807000160217285, 2.980299949645996, 2.9795000553131104, 2.9790000915527344, 2.978600025177002, 2.9758999347686768, 2.9751999378204346, 2.974299907684326, 2.974100112915039, 2.964200019836426, 2.9045000076293945, 2.9339001178741455, 2.927999973297119, 2.766400098800659, 2.7191998958587646, 2.8733999729156494, 2.7553999423980713, 2.429800033569336, 2.4972000122070312, 2.5046000480651855, 2.863600015640259, 2.6010000705718994, 2.371500015258789, 2.718899965286255, 2.65339994430542, 2.0980000495910645, 1.2378000020980835, 1.8590999841690063, 0.6614999771118164, 2.1105000972747803, -0.3093000054359436, 0.9348000288009644, 1.4127999544143677, 0.25929999351501465, 0.4440999925136566, 0.6807000041007996, -0.42820000648498535, 0.6607000231742859, 0.532800018787384, 3.083699941635132, 3.0810000896453857, 3.055000066757202, 3.0464999675750732, 3.039099931716919, 3.035599946975708, 3.031100034713745, 3.0230000019073486, 3.00570011138916, 3.0048999786376953, 3.0027999877929688, 3.0023000240325928, 3.001499891281128, 2.9990999698638916, 2.9951000213623047, 2.9874000549316406, 2.981800079345703, 2.9749999046325684, 2.9737000465393066, 2.9688000679016113, 2.952699899673462, 2.9440999031066895, 2.9419000148773193, 2.9382998943328857, 2.9375, 2.936500072479248, 2.922800064086914, 2.919600009918213, 2.9098000526428223, 2.8773999214172363, 2.750999927520752, 2.664799928665161, 2.4495999813079834, 2.631200075149536, 2.5917999744415283, 2.6352999210357666, 2.498500108718872, 2.323899984359741, 2.5416998863220215, 2.477299928665161, 2.373300075531006, 2.4930999279022217, 2.6733999252319336, 2.1452999114990234, 1.9455000162124634, 1.8154000043869019, 1.0081000328063965, 2.102400064468384, 1.3526999950408936, 0.526199996471405, 2.3017001152038574, 1.114300012588501, 1.6456999778747559, 1.377500057220459, 1.4329999685287476, 0.6220999956130981, 1.0217000246047974, 1.7907999753952026, 0.9397000074386597, 0.965499997138977, 1.627500057220459, 0.9067000150680542, 0.5511999726295471, -0.02290000021457672, -0.34610000252723694, -1.097599983215332, 3.1017000675201416, 3.1013998985290527, 3.0985000133514404, 3.0943000316619873, 3.0892999172210693, 3.0857999324798584, 3.085700035095215, 3.07450008392334, 3.0576999187469482, 3.0467000007629395, 3.0425000190734863, 3.0420000553131104, 3.039099931716919, 3.0327999591827393, 3.031100034713745, 3.023099899291992, 3.019200086593628, 3.0176000595092773, 3.0174999237060547, 3.0137999057769775, 3.0134999752044678, 3.0044000148773193, 2.9986000061035156, 2.994999885559082, 2.9834001064300537, 2.9783999919891357, 2.9744999408721924, 2.973400115966797, 2.9672000408172607, 2.966599941253662, 2.902100086212158, 2.9570000171661377, 2.906599998474121, 2.8907999992370605, 2.931299924850464, 2.869800090789795, 2.84660005569458, 2.8842999935150146, 2.7523999214172363, 2.795300006866455, 2.771399974822998, 2.527899980545044, 2.516900062561035, 2.3160998821258545, 1.962499976158142, 2.0499000549316406, 2.671600103378296, 2.540600061416626, 1.7158000469207764, 2.511199951171875, 2.1767001152038574, 1.8848999738693237, 1.7421000003814697, 2.3810999393463135, 1.5044000148773193, 1.8646999597549438, 1.6655999422073364, 1.9056999683380127, 0.5634999871253967, -0.4731999933719635, 1.3115999698638916, 3.1122000217437744, 3.1089000701904297, 3.1080000400543213, 3.100600004196167, 3.0987000465393066, 3.0971999168395996, 3.0922999382019043, 3.092099905014038, 3.0845000743865967, 3.083899974822998, 3.0810000896453857, 3.0796000957489014, 3.073699951171875, 3.071899890899658, 3.069200038909912, 3.0671000480651855, 3.0660998821258545, 3.0625998973846436, 3.059799909591675, 3.0576000213623047, 3.0566000938415527, 3.0559000968933105, 3.053100109100342, 3.0527000427246094, 3.052500009536743, 3.0522000789642334, 3.051300048828125, 3.0488998889923096, 3.0481998920440674, 3.044300079345703, 3.037600040435791, 2.7585999965667725, 2.870800018310547, 2.9563000202178955, 2.8106000423431396, 2.969099998474121, 2.9558000564575195, 2.5624001026153564, 2.517899990081787, 2.810699939727783, 2.3847999572753906, 2.87719988822937, 2.6498000621795654, 2.5729000568389893, 2.472100019454956, 2.643399953842163, 2.6702001094818115, 1.0008000135421753, 1.7624000310897827, 1.3418999910354614, 1.833799958229065, 1.7944999933242798, 0.9656999707221985, 0.7752000093460083, 0.6492000222206116, 1.8595000505447388, 2.223900079727173, 1.5729000568389893, 0.024900000542402267, 0.010300000198185444, 0.6596999764442444, 1.6025999784469604, 0.4952999949455261, 0.5253999829292297, 3.5882999897003174, 3.5871999263763428, 3.5868000984191895, 3.5855000019073486, 3.5831000804901123, 3.5827999114990234, 3.5785999298095703, 3.5752999782562256, 3.574700117111206, 3.559799909591675, 3.5594000816345215, 3.5592000484466553, 3.557300090789795, 3.547499895095825, 3.545300006866455, 3.5436999797821045, 3.5404999256134033, 3.519700050354004, 3.510999917984009, 3.510999917984009, 3.4969000816345215, 3.4967000484466553, 3.4946000576019287, 3.4855000972747803, 3.4732000827789307, 3.471400022506714, 3.4655001163482666, 3.4642999172210693, 3.4616000652313232, 3.4591000080108643, 3.4349000453948975, 3.4272000789642334, 3.4240000247955322, 3.2755000591278076, 3.1654000282287598, 3.3873000144958496, 3.010999917984009, 3.233099937438965, 3.216399908065796, 3.125699996948242, 3.390199899673462, 3.0255000591278076, 2.323899984359741, 2.509000062942505, 1.6123000383377075, 3.256700038909912, 2.5589001178741455, 2.021399974822998, 2.554500102996826, 1.3144999742507935, 2.3559000492095947, 1.0816999673843384, 2.4618000984191895, 1.6023000478744507, 0.5684000253677368, 0.2687000036239624, 0.6345999836921692, 0.4431000053882599]}, \"token.table\": {\"Topic\": [3, 5, 6, 9, 10, 2, 5, 9, 1, 15, 6, 2, 5, 5, 5, 15, 5, 13, 6, 1, 2, 5, 1, 2, 5, 1, 2, 2, 3, 5, 7, 1, 2, 5, 14, 12, 2, 3, 5, 6, 2, 6, 1, 2, 1, 1, 6, 12, 11, 1, 1, 3, 4, 5, 6, 7, 9, 10, 11, 15, 1, 8, 3, 10, 4, 4, 1, 1, 8, 11, 13, 4, 6, 8, 6, 11, 1, 4, 8, 11, 13, 2, 13, 1, 2, 4, 8, 11, 13, 1, 11, 9, 1, 6, 9, 11, 6, 9, 8, 4, 6, 8, 7, 9, 15, 10, 11, 4, 6, 6, 6, 2, 2, 5, 8, 9, 3, 6, 7, 9, 12, 15, 4, 4, 8, 7, 8, 6, 7, 8, 6, 3, 7, 14, 3, 6, 11, 3, 3, 15, 4, 4, 14, 7, 15, 3, 6, 9, 8, 14, 5, 10, 6, 2, 6, 12, 8, 11, 4, 12, 4, 3, 11, 2, 13, 2, 3, 7, 1, 1, 2, 3, 6, 7, 8, 11, 8, 12, 13, 6, 2, 3, 7, 10, 8, 2, 8, 9, 14, 3, 3, 5, 10, 6, 3, 9, 10, 11, 2, 12, 15, 5, 1, 4, 8, 11, 12, 13, 2, 10, 13, 1, 5, 7, 8, 2, 3, 4, 8, 11, 12, 15, 1, 8, 9, 10, 11, 15, 7, 8, 9, 11, 13, 2, 10, 10, 2, 12, 1, 14, 2, 4, 11, 13, 2, 14, 15, 3, 1, 6, 10, 6, 5, 1, 2, 3, 4, 8, 9, 11, 12, 13, 15, 3, 7, 11, 1, 4, 10, 1, 3, 5, 10, 3, 13, 8, 1, 9, 15, 15, 4, 1, 4, 10, 1, 4, 8, 15, 15, 12, 12, 1, 3, 6, 7, 8, 11, 14, 1, 3, 6, 7, 8, 9, 10, 11, 12, 13, 2, 13, 1, 2, 3, 6, 7, 8, 11, 7, 11, 2, 3, 8, 11, 12, 1, 11, 3, 6, 7, 4, 1, 5, 12, 14, 1, 2, 3, 7, 8, 3, 6, 12, 1, 3, 7, 13, 2, 6, 11, 3, 7, 3, 3, 1, 3, 13, 1, 9, 1, 3, 9, 10, 3, 11, 1, 2, 4, 5, 6, 7, 8, 10, 11, 12, 13, 14, 8, 5, 1, 3, 9, 12, 14, 1, 5, 9, 10, 1, 2, 2, 3, 5, 6, 8, 11, 5, 13, 5, 11, 5, 8, 14, 1, 3, 4, 8, 9, 11, 14, 15, 1, 5, 7, 2, 5, 8, 9, 10, 12, 10, 3, 9, 12, 14, 3, 6, 8, 12, 12, 5, 1, 2, 6, 8, 10, 11, 14, 15, 11, 1, 3, 14, 11, 4, 1, 2, 3, 4, 8, 10, 13, 14, 3, 10, 9, 6, 11, 3, 14, 15, 2, 3, 1, 2, 11, 1, 1, 3, 6, 10, 12, 7, 5, 11, 10, 1, 3, 5, 8, 9, 10, 7, 2, 3, 8, 2, 8, 14, 9, 2, 3, 6, 5, 2, 7, 8, 12, 1, 2, 5, 6, 11, 1, 1, 4, 1, 2, 5, 6, 10, 8, 5, 9, 1, 2, 3, 4, 10, 13, 15, 7, 4, 14, 14, 3, 14, 1, 2, 3, 5, 7, 8, 9, 10, 11, 14, 15, 1, 6, 14, 2, 1, 6, 11, 15, 1, 5, 3, 4, 6, 12, 10, 11, 2, 7, 8, 10, 12, 9, 5, 11, 2, 3, 8, 1, 10, 2, 8, 11, 12, 1, 6, 9, 4, 12, 11, 9, 15, 2, 8, 7, 5, 1, 2, 5, 11, 1, 9, 2, 6, 7, 9, 11, 15, 2, 9, 12, 10, 9, 14, 1, 2, 3, 5, 7, 8, 10, 11, 4, 5, 5, 7, 14, 9, 15, 4, 5, 8, 15, 9, 10, 14, 9, 1, 3, 9, 11, 14, 1, 3, 6, 9, 14, 9, 1, 15, 5, 1, 3, 5, 10, 11, 3, 3, 2, 3, 6, 8, 10, 11, 12, 5, 7, 11, 13, 1, 5, 14, 1, 3, 4, 6, 9, 10, 12, 15, 1, 3, 7, 10, 13, 2, 7, 11, 2, 3, 6, 9, 10, 11, 12, 1, 2, 3, 5, 6, 9, 11, 10, 14, 9, 1, 2, 3, 5, 6, 9, 11, 15, 1, 14, 6, 15, 3, 6, 7, 11, 14, 3, 5, 1, 7, 3, 6, 1, 2, 7, 8, 9, 10, 11, 1, 13, 2, 9, 13, 2, 7, 11, 12, 13, 6, 11, 12, 15, 6, 2, 7, 8, 14, 9, 10, 3, 5, 7, 6, 11, 1, 2, 3, 5, 6, 7, 8, 9, 10, 11, 12, 13, 13, 2, 7, 12, 2, 5, 6, 9, 11, 13, 1, 2, 3, 6, 11, 13, 1, 2, 5, 6, 7, 8, 9, 10, 11, 10, 1, 3, 4, 5, 8, 9, 10, 14, 3, 8, 8, 8, 13, 2, 8, 12, 13, 2, 8, 13, 2, 12, 1, 2, 3, 4, 7, 8, 9, 11, 12, 13, 14, 15, 13, 1, 3, 10, 11, 12, 1, 2, 7, 11, 14, 12, 15, 13, 3, 6, 2, 6, 8, 11, 15, 12, 1, 3, 4, 5, 14, 14, 15, 1, 2, 3, 5, 11, 12, 14, 1, 5, 7, 11, 14, 5, 8, 10, 14, 1, 2, 5, 12, 6, 7, 13, 14, 3, 9, 9, 3, 13, 3, 4, 4, 11, 1, 9, 14, 12, 3, 12, 15, 2, 14, 2, 3, 3, 6, 7, 10, 13, 3, 9, 11, 3, 13, 2, 3, 5, 14, 1, 5, 8, 10, 13, 14, 1, 4, 5, 12, 15, 11, 1, 2, 5, 8, 9, 11, 12, 1, 5, 2, 8, 12, 2, 10, 10, 3, 15, 14, 6, 5, 5, 11, 1, 3, 6, 11, 12, 1, 5, 1, 3, 6, 11, 13, 7, 12, 1, 2, 6, 8, 12, 7, 9, 12, 10, 7, 1, 3, 4, 5, 6, 11, 12, 1, 3, 5, 6, 12, 14, 3, 3, 7, 12, 1, 2, 3, 6, 7, 8, 9, 10, 11, 12, 13, 14, 15, 10, 10, 2, 3, 15, 7, 11, 12, 1, 2, 3, 7, 8, 9, 10, 11, 12, 13, 7, 10, 8, 2, 9, 8, 7, 10, 1, 7, 11, 1, 5, 6, 1, 1, 3, 5, 6, 7, 9, 10, 11, 13, 14, 1, 2, 3, 6, 7, 8, 9, 10, 11, 2, 6, 7, 8, 12, 13, 1, 3, 4, 5, 9, 6, 9, 6, 1, 2, 3, 5, 6, 7, 8, 10, 11, 12, 13, 6, 15, 3, 10, 1, 9, 11, 13, 9, 10, 15, 9, 5, 15, 12, 2, 5, 3, 10, 3, 5, 6, 2, 7, 12, 1, 3, 4, 5, 9, 1, 2, 5, 7, 1, 5, 7, 7, 7, 11, 8, 1, 5, 12, 1, 3, 6, 7, 9, 10, 11, 13, 14, 15, 8, 10, 1, 2, 5, 6, 11, 15, 7, 7, 1, 3, 4, 6, 9, 10, 11, 12, 1, 8, 14, 8, 1, 6, 7, 11, 12, 15, 10, 14, 15, 2, 6, 1, 3, 5, 6, 7, 10, 1, 2, 11, 12, 11, 2, 3, 10, 11, 1, 11, 14, 6, 11, 15, 15, 2, 3, 4, 5, 8, 10, 13, 3, 6, 1, 1, 11, 14, 15, 5, 9, 11, 10, 3, 3, 3, 2, 10, 11, 2, 1, 7, 15, 7, 1, 4, 5, 6, 8, 10, 11, 13, 10, 2, 3, 6, 7, 13, 11, 14, 1, 4, 5, 14, 15, 4, 3, 6, 9, 10, 11, 12, 13, 3, 5, 1, 15, 5, 7, 9, 12, 15, 5, 13, 8, 14, 2, 7, 8, 10, 11, 9, 3, 13, 14, 1, 6, 1, 7, 9, 10, 5, 11, 1, 3, 4, 6, 5, 11, 6, 11, 1, 3, 5, 11, 7, 11, 2, 2, 8, 14, 5, 1, 3, 8, 10, 11, 12, 6, 11, 1, 3, 4, 6, 9, 11, 13, 3, 5, 10, 5, 7, 8, 12, 14, 3, 1, 4, 5, 10, 12, 13, 14, 15, 2, 3, 5, 2, 6, 15, 9, 8, 14, 8, 8, 11, 2, 13, 8, 11, 1, 2, 3, 5, 6, 7, 8, 11, 13, 14, 8, 1, 3, 13, 3, 3, 1, 4, 5, 11, 2, 11, 1, 3, 10, 14, 10, 5, 15, 12, 3, 6, 7, 11, 3, 6, 3, 7, 1, 3, 10, 12, 14, 1, 4, 4, 9, 1, 11, 4, 2, 3, 4, 6, 9, 10, 13, 14, 15, 15, 11, 3, 1, 1, 2, 5, 6, 5, 3, 9, 12, 13, 4, 8, 4, 2, 3, 5, 11, 15, 1, 2, 3, 5, 6, 8, 14, 4, 10, 11, 1, 3, 5, 6, 7, 13, 14, 15, 7, 1, 10, 11, 6, 8, 10, 1, 5, 10, 11, 2, 8, 3, 5, 6, 8, 11, 14, 5, 3, 14, 15, 13, 1, 2, 3, 5, 10, 11, 13, 12, 2, 5, 12, 3, 6, 12, 7, 9, 8, 2, 13, 6, 10, 12, 13, 1, 2, 10, 11, 12, 2, 3, 11, 6, 13, 1, 12, 13, 1, 4, 6, 7, 1, 2, 5, 6, 7, 1, 7, 8, 3, 5, 8, 12, 15, 1, 3, 6, 7, 9, 12, 5, 14, 11, 5, 14, 3, 9, 10, 1, 3, 6, 9, 11, 12, 2, 11, 14, 4, 4, 3, 1, 4, 9, 14, 2, 7, 8, 12, 13, 11, 10, 14, 11, 1, 3, 8, 2, 1, 3, 5, 7, 8, 12, 5, 1, 2, 3, 5, 8, 9, 3, 6, 8, 12, 11, 5, 1, 9, 10, 1, 5, 8, 10, 6, 11, 15, 1, 2, 13, 8, 11, 9, 1, 3, 4, 9, 12, 1, 8, 14, 3, 7, 4, 1, 6, 14, 3, 2, 3, 9, 11, 15, 2, 3, 5, 7, 15, 2, 6, 8, 9, 8, 3, 5, 6, 7, 11, 12, 11, 2, 3, 13, 12, 4, 12, 12, 1, 3, 15, 4, 1, 2, 3, 5, 6, 7, 8, 10, 11, 13, 9, 11, 15, 1, 2, 3, 5, 6, 7, 8, 10, 11, 12, 14, 1, 14, 1, 2, 3, 12, 8, 9, 5, 3, 7, 8, 11, 12, 14, 1, 8, 2, 7, 14, 12, 7, 13, 1, 15, 7, 1, 5, 6, 10, 11, 14, 2, 3, 5, 11, 2, 12, 10, 9, 12, 5, 10, 6, 5, 1, 2, 5, 7, 9, 10, 11, 12, 2, 9, 14, 6, 13, 1, 4, 6, 3, 6, 10, 11, 14, 2, 7, 8, 9, 2, 6, 7, 5, 11, 3, 11, 3, 14, 11, 2, 3, 5, 6, 7, 8, 9, 10, 11, 13, 15, 2, 8, 7, 9, 3, 1, 5, 3, 6, 12, 1, 3, 4, 6, 10, 11, 15, 3, 10, 6, 13, 7, 9, 10, 11, 1, 3, 6, 10, 11, 12, 4, 7, 8, 12, 1, 4, 5, 11, 14, 1, 2, 10, 11, 15, 1, 2, 3, 4, 5, 8, 10, 13, 8, 1, 1, 2, 14, 12, 2, 8, 7, 11, 6, 10, 10], \"Freq\": [0.22513477504253387, 0.19482816755771637, 0.1298854500055313, 0.33120787143707275, 0.11689689755439758, 0.4010094106197357, 0.5953129529953003, 0.9855796098709106, 0.13501282036304474, 0.8100769519805908, 0.9847275018692017, 0.619954526424408, 0.3793281018733978, 0.9777794480323792, 0.9442353844642639, 0.9683539271354675, 0.9661021828651428, 0.8214844465255737, 0.9873839020729065, 0.015945790335536003, 0.6682735085487366, 0.3160165548324585, 0.2527439296245575, 0.5653867125511169, 0.18115749955177307, 0.984340488910675, 0.982179582118988, 0.6322892308235168, 0.03348572179675102, 0.3328874707221985, 0.9478033185005188, 0.14252346754074097, 0.6651095151901245, 0.18663786351680756, 0.9308611154556274, 0.9360612034797668, 0.17171429097652435, 0.006282230373471975, 0.06491637974977493, 0.7559617161750793, 0.20363646745681763, 0.7939070463180542, 0.13619132339954376, 0.8580053448677063, 0.9974417686462402, 0.9919215440750122, 0.9347513914108276, 0.9195195436477661, 0.9971066117286682, 0.979971706867218, 0.32713428139686584, 0.0018891297513619065, 0.02991122007369995, 0.05887787416577339, 0.13381335139274597, 0.00031485495856031775, 0.2216578871011734, 0.12310828268527985, 0.09571590274572372, 0.006926808971911669, 0.9865221977233887, 0.010494916699826717, 0.08698537945747375, 0.9071332216262817, 0.9765534400939941, 0.9517731666564941, 0.9928464889526367, 0.9936035871505737, 0.7356789708137512, 0.24522632360458374, 0.9205111861228943, 0.5126234889030457, 0.2789274752140045, 0.20354166626930237, 0.9541091322898865, 0.9947062134742737, 0.09890823811292648, 0.8407200574874878, 0.630094051361084, 0.2558276653289795, 0.10896363109350204, 0.18073903024196625, 0.8185728788375854, 0.9889823794364929, 0.9609936475753784, 0.9412750601768494, 0.9017480611801147, 0.9736467003822327, 0.8586458563804626, 0.9981249570846558, 0.9980462193489075, 0.9814581871032715, 0.9954462051391602, 0.06163055822253227, 0.924458384513855, 0.9822448492050171, 0.9253666400909424, 0.07396052777767181, 0.9380079507827759, 0.5877325534820557, 0.19940926134586334, 0.2099044770002365, 0.03635559603571892, 0.9573639631271362, 0.9479161500930786, 0.9971510171890259, 0.9831018447875977, 0.9816395044326782, 0.9949422478675842, 0.9911810755729675, 0.977729320526123, 0.9826096892356873, 0.9688412547111511, 0.16650253534317017, 0.8047622442245483, 0.9883990287780762, 0.08408459275960922, 0.8261458277702332, 0.08937662839889526, 0.31185877323150635, 0.6549034118652344, 0.8895560503005981, 0.916338324546814, 0.9386439323425293, 0.9846405982971191, 0.9520111680030823, 0.9481706619262695, 0.984776496887207, 0.8834688067436218, 0.11251725256443024, 0.9811806082725525, 0.14921104907989502, 0.8330950736999512, 0.9675579071044922, 0.9886205792427063, 0.9199098944664001, 0.07008837163448334, 0.9873726963996887, 0.6361787915229797, 0.35432741045951843, 0.9660800695419312, 0.9707816243171692, 0.9557363986968994, 0.3020959794521332, 0.6847509145736694, 0.023696409538388252, 0.718791127204895, 0.244862899184227, 0.9064235687255859, 0.9395829439163208, 0.9692861437797546, 0.9903404712677002, 0.9864461421966553, 0.08886861801147461, 0.7299922704696655, 0.17138949036598206, 0.9719666242599487, 0.9883461594581604, 0.9550907015800476, 0.92373126745224, 0.9003574848175049, 0.9910734295845032, 0.9845399260520935, 0.09401874244213104, 0.877508282661438, 0.188449427485466, 0.010469412431120872, 0.7852059602737427, 0.9915924072265625, 0.9939371347427368, 0.12241863459348679, 0.011901811696588993, 0.1377209573984146, 0.37745746970176697, 0.14622226357460022, 0.2023307979106903, 0.0729769617319107, 0.13205355405807495, 0.7923212647438049, 0.9500392079353333, 0.2209971398115158, 0.028729628771543503, 0.3889549672603607, 0.3602253496646881, 0.9071112275123596, 0.0705314576625824, 0.17818474769592285, 0.7498608231544495, 0.9433541893959045, 0.9846989512443542, 0.26188188791275024, 0.1697382628917694, 0.5625610947608948, 0.9823107719421387, 0.07290660589933395, 0.21061907708644867, 0.5508499145507812, 0.16471491754055023, 0.8425997495651245, 0.1513652205467224, 0.9901534914970398, 0.9782479405403137, 0.161761075258255, 0.5448793768882751, 0.08513740450143814, 0.038311831653118134, 0.10216488689184189, 0.0681099221110344, 0.9976697564125061, 0.06593114882707596, 0.8571049571037292, 0.9931433796882629, 0.16859978437423706, 0.15563057363033295, 0.6614299416542053, 0.05044816806912422, 0.19058197736740112, 0.2606488764286041, 0.14854183793067932, 0.05044816806912422, 0.08968563377857208, 0.20739802718162537, 0.11060009896755219, 0.030560553073883057, 0.1135106235742569, 0.08003954589366913, 0.00873158685863018, 0.654869019985199, 0.055988483130931854, 0.1493026167154312, 0.7900596857070923, 0.9224098324775696, 0.05887722223997116, 0.1135580763220787, 0.8858367800712585, 0.9816603660583496, 0.9960795640945435, 0.9031522274017334, 0.25585344433784485, 0.7397502064704895, 0.24320025742053986, 0.004421822726726532, 0.7472880482673645, 0.9651288390159607, 0.9621489644050598, 0.9743983745574951, 0.9394914507865906, 0.9610885381698608, 0.008683553896844387, 0.10999167710542679, 0.8770388960838318, 0.9920898079872131, 0.9739006161689758, 0.014569027349352837, 0.07466626167297363, 0.050991594791412354, 0.3150552213191986, 0.17118607461452484, 0.05463385209441185, 0.04734933748841286, 0.08377190679311752, 0.13658462464809418, 0.049170468002557755, 0.957495391368866, 0.9622403979301453, 0.9789853692054749, 0.09400752931833267, 0.7833961248397827, 0.12534338235855103, 0.32942864298820496, 0.09720845520496368, 0.48064178228378296, 0.09180798381567001, 0.14649330079555511, 0.8371045589447021, 0.9354159235954285, 0.33052462339401245, 0.5304387211799622, 0.13594157993793488, 0.9715366363525391, 0.905975341796875, 0.8823527097702026, 0.11756183207035065, 0.9780172109603882, 0.15588492155075073, 0.842183530330658, 0.9360257387161255, 0.923179566860199, 0.9911108613014221, 0.8344807624816895, 0.8779584765434265, 0.22898700833320618, 0.14884154498577118, 0.19177661836147308, 0.022898700088262558, 0.14884154498577118, 0.045797400176525116, 0.21467532217502594, 0.35042518377304077, 0.19320020079612732, 0.22517815232276917, 0.04796694591641426, 0.03197796270251274, 0.03331037983298302, 0.021318642422556877, 0.04396969825029373, 0.021318642422556877, 0.030645547434687614, 0.18824820220470428, 0.8080898523330688, 0.27776601910591125, 0.11764208227396011, 0.49017533659935, 0.0065356711857020855, 0.05555320531129837, 0.03594619408249855, 0.01960701495409012, 0.9197320938110352, 0.9777335524559021, 0.06070445850491524, 0.024281783029437065, 0.1456907093524933, 0.19425426423549652, 0.5584810376167297, 0.11383508145809174, 0.8727356195449829, 0.0010939815547317266, 0.00164097233209759, 0.9966172575950623, 0.9746270179748535, 0.8769246935844421, 0.08189957588911057, 0.037953462451696396, 0.9467334747314453, 0.9997761249542236, 0.2907376289367676, 0.09691254794597626, 0.029367439448833466, 0.5785385370254517, 0.7404317855834961, 0.08077437430620193, 0.17501114308834076, 0.04914619028568268, 0.9337775707244873, 0.06136757507920265, 0.9358555674552917, 0.9417740702629089, 0.8559722900390625, 0.13374567031860352, 0.16074252128601074, 0.8394331336021423, 0.992843508720398, 0.9845103025436401, 0.1331939995288849, 0.20930485427379608, 0.6469422578811646, 0.12892919778823853, 0.8638256192207336, 0.9746720194816589, 0.019756866618990898, 0.9600874781608582, 0.9869548678398132, 0.5930410623550415, 0.4024207293987274, 0.20424704253673553, 0.13229437172412872, 0.1176927387714386, 0.06966565549373627, 0.08145251870155334, 0.03043474443256855, 0.07072119414806366, 0.013018329627811909, 0.005101778078824282, 0.015305333770811558, 0.24998711049556732, 0.010203556157648563, 0.950196385383606, 0.9926522374153137, 0.16188083589076996, 0.056877050548791885, 0.22313304245471954, 0.5578325986862183, 0.9350965023040771, 0.9557225704193115, 0.038537200540304184, 0.795920729637146, 0.20133963227272034, 0.9895269274711609, 0.9717857837677002, 0.15027070045471191, 0.1866643875837326, 0.03404570743441582, 0.0011739898473024368, 0.6210406422615051, 0.0058699497021734715, 0.09320453554391861, 0.8699089884757996, 0.9987629055976868, 0.0009820677805691957, 0.9395304322242737, 0.05382726341485977, 0.9616884589195251, 0.6164823770523071, 0.055414147675037384, 0.07718399167060852, 0.025727996602654457, 0.12468183040618896, 0.0059372298419475555, 0.06629906594753265, 0.025727996602654457, 0.16591322422027588, 0.07880878448486328, 0.7549052238464355, 0.37444958090782166, 0.007488991599529982, 0.23108889162540436, 0.2578352987766266, 0.008558847941458225, 0.1198238655924797, 0.9835374355316162, 0.2875169515609741, 0.023402543738484383, 0.6586143970489502, 0.026745762676000595, 0.14305563271045685, 0.3796476423740387, 0.23659202456474304, 0.23659202456474304, 0.9295318126678467, 0.9650343656539917, 0.31574949622154236, 0.09190403670072556, 0.09008415043354034, 0.23567470908164978, 0.08735433220863342, 0.0846245065331459, 0.08553444594144821, 0.00909940991550684, 0.9884245991706848, 0.4917159974575043, 0.3907848000526428, 0.11645904928445816, 0.9857940077781677, 0.892715573310852, 0.14476078748703003, 0.04342823475599289, 0.03619019687175751, 0.17009392380714417, 0.025333136320114136, 0.14114175736904144, 0.15199881792068481, 0.28590255975723267, 0.10951821506023407, 0.8870975375175476, 0.9608842134475708, 0.04102563112974167, 0.9572646617889404, 0.9721153378486633, 0.9506650567054749, 0.931017279624939, 0.7916632294654846, 0.2068667709827423, 0.1460774838924408, 0.8111962676048279, 0.04195842891931534, 0.9957927465438843, 0.26905784010887146, 0.09943442046642303, 0.017547251656651497, 0.06433992087841034, 0.5439648032188416, 0.9207214713096619, 0.9171468615531921, 0.07750536501407623, 0.9619624614715576, 0.6365842223167419, 0.11375388503074646, 0.010937873274087906, 0.015313022769987583, 0.12250418215990067, 0.09844085574150085, 0.9190383553504944, 0.03633113205432892, 0.6539604067802429, 0.30518150329589844, 0.9768626093864441, 0.9404276609420776, 0.025416962802410126, 0.9450067281723022, 0.9344497919082642, 0.9638552665710449, 0.016618194058537483, 0.9438813924789429, 0.31648197770118713, 0.07960589230060577, 0.48540180921554565, 0.1174672394990921, 0.0741153359413147, 0.046322084963321686, 0.7385063767433167, 0.051616039127111435, 0.08867371082305908, 0.9958563446998596, 0.045547716319561005, 0.9539715647697449, 0.2208864539861679, 0.0997551754117012, 0.1211312860250473, 0.5201519727706909, 0.03206416219472885, 0.9091498851776123, 0.983822762966156, 0.9691551327705383, 0.25968751311302185, 0.057004574686288834, 0.05489329248666763, 0.19846037030220032, 0.03378048911690712, 0.39692074060440063, 0.9764163494110107, 0.9371851086616516, 0.5950361490249634, 0.3880670368671417, 0.9917562007904053, 0.9403647184371948, 0.054601822048425674, 0.11015832424163818, 0.030560052022337914, 0.30773261189460754, 0.1670142412185669, 0.073201984167099, 0.017056772485375404, 0.002842795569449663, 0.09096945822238922, 0.17056773602962494, 0.029849352315068245, 0.9096800088882446, 0.8264278173446655, 0.12521633505821228, 0.04591265693306923, 0.9703093767166138, 0.3725597560405731, 0.10746916383504868, 0.15045683085918427, 0.3582305312156677, 0.18017148971557617, 0.8107717037200928, 0.5899210572242737, 0.11011859774589539, 0.16124507784843445, 0.1337154358625412, 0.976425051689148, 0.9756203293800354, 0.03740888833999634, 0.4430615305900574, 0.03974694386124611, 0.479301393032074, 0.8850592374801636, 0.958281397819519, 0.8322715163230896, 0.16108481585979462, 0.5023398399353027, 0.08864820748567581, 0.4077817499637604, 0.13399149477481842, 0.8422322273254395, 0.39390790462493896, 0.261667400598526, 0.022509023547172546, 0.3207535743713379, 0.9945465326309204, 0.973857581615448, 0.02272334322333336, 0.8935644030570984, 0.9998610615730286, 0.9888638257980347, 0.960536003112793, 0.988152265548706, 0.5202720761299133, 0.4759077727794647, 0.9976552128791809, 0.9822293519973755, 0.18663497269153595, 0.06609988957643509, 0.7232105135917664, 0.023329371586441994, 0.9943453073501587, 0.9299870729446411, 0.25421595573425293, 0.149107426404953, 0.35199129581451416, 0.10510851442813873, 0.03666575998067856, 0.10266412794589996, 0.9570937156677246, 0.8348095417022705, 0.15868280827999115, 0.9874599575996399, 0.9757931232452393, 0.9351546764373779, 0.2207399606704712, 0.04576316475868225, 0.056530967354774475, 0.005383901763707399, 0.39571675658226013, 0.008075852878391743, 0.03499536216259003, 0.23150776326656342, 0.8795315623283386, 0.9590094089508057, 0.06986325234174728, 0.9256881475448608, 0.9946794509887695, 0.9704744219779968, 0.9988300204277039, 0.9718437194824219, 0.8851890563964844, 0.10413988679647446, 0.9929794073104858, 0.9835155010223389, 0.9781660437583923, 0.998890221118927, 0.982659101486206, 0.5781481266021729, 0.08682810515165329, 0.26683759689331055, 0.02541310526430607, 0.04235517233610153, 0.16724255681037903, 0.14523695409297943, 0.01760447956621647, 0.14083583652973175, 0.5281343460083008, 0.980519711971283, 0.15821072459220886, 0.8306063413619995, 0.98633873462677, 0.1461590975522995, 0.1461590975522995, 0.22132661938667297, 0.4510051906108856, 0.0334077924489975, 0.996002197265625, 0.9709362387657166, 0.31470826268196106, 0.027768375352025032, 0.08793319016695023, 0.08330512791872025, 0.08793319016695023, 0.12032962590456009, 0.27305570244789124, 0.04567756503820419, 0.05709695443511009, 0.19412964582443237, 0.7041957974433899, 0.002453892957419157, 0.07034493237733841, 0.926753580570221, 0.07276491820812225, 0.0037637026980519295, 0.30862361192703247, 0.13298416137695312, 0.14803896844387054, 0.1380024254322052, 0.11291108280420303, 0.08154689520597458, 0.144309863448143, 0.8470361828804016, 0.17005355656147003, 0.017005356028676033, 0.7992517352104187, 0.3415275514125824, 0.5861351490020752, 0.06461331993341446, 0.1045304611325264, 0.15348777174949646, 0.22361579537391663, 0.2514023780822754, 0.07674388587474823, 0.08071339130401611, 0.10849997401237488, 0.16436855494976044, 0.05678186193108559, 0.5648301243782043, 0.07770149409770966, 0.02091963402926922, 0.0896555706858635, 0.023908153176307678, 0.9187008738517761, 0.9866704344749451, 0.9674229621887207, 0.291424423456192, 0.041793424636125565, 0.0926232635974884, 0.2767402231693268, 0.085845947265625, 0.07680953294038773, 0.0824572965502739, 0.05195939168334007, 0.011459022760391235, 0.9873858094215393, 0.43843376636505127, 0.5610328316688538, 0.6914114952087402, 0.05293102562427521, 0.0033081891015172005, 0.02977370098233223, 0.2216486632823944, 0.058174293488264084, 0.9307886958122253, 0.9959798455238342, 0.9904066324234009, 0.9897837042808533, 0.9356627464294434, 0.0015980226453393698, 0.2924381494522095, 0.09268531203269958, 0.10546949505805969, 0.01757824793457985, 0.39630961418151855, 0.0942833349108696, 0.9853569865226746, 0.9943718314170837, 0.2973823845386505, 0.7026857733726501, 0.949507474899292, 0.3781897723674774, 0.021010542288422585, 0.28714409470558167, 0.23461772501468658, 0.07703865319490433, 0.12471050769090652, 0.2731753885746002, 0.3028683662414551, 0.2909911870956421, 0.9790596961975098, 0.21808376908302307, 0.5667106509208679, 0.21450023353099823, 0.9672824144363403, 0.7877562046051025, 0.2042330801486969, 0.9766636490821838, 0.9639766812324524, 0.9637058973312378, 0.9809924364089966, 0.017999861389398575, 0.08884869515895844, 0.1824856400489807, 0.02021706849336624, 0.1542881429195404, 0.11545009911060333, 0.01276867464184761, 0.06969568133354187, 0.02021706849336624, 0.08884869515895844, 0.01010853424668312, 0.03458182513713837, 0.20217067003250122, 0.9989324808120728, 0.9764202237129211, 0.14675341546535492, 0.8071438074111938, 0.12362004816532135, 0.44952744245529175, 0.03371455892920494, 0.0809149444103241, 0.022476373240351677, 0.28994521498680115, 0.13705676794052124, 0.14178286492824554, 0.04726095497608185, 0.13233067095279694, 0.05671314522624016, 0.4867878258228302, 0.3064621388912201, 0.05287973955273628, 0.3232874870300293, 0.12619028985500336, 0.03725618124008179, 0.06009061262011528, 0.018027184531092644, 0.03004530631005764, 0.044467054307460785, 0.9714012742042542, 0.09345897287130356, 0.04828466847538948, 0.5453501343727112, 0.015699923038482666, 0.08131375163793564, 0.08116564154624939, 0.013626348227262497, 0.1208597868680954, 0.24962544441223145, 0.742932915687561, 0.9605940580368042, 0.9934804439544678, 0.9891777634620667, 0.3584746718406677, 0.02930924855172634, 0.05410938337445259, 0.5568757653236389, 0.2775377035140991, 0.1469317227602005, 0.5714011192321777, 0.8465707898139954, 0.1524239480495453, 0.00044869910925626755, 0.03735420107841492, 0.00044869910925626755, 0.5763539671897888, 0.05193692073225975, 0.07470840215682983, 0.11688611656427383, 0.03623245283961296, 0.07751277089118958, 0.02804369293153286, 0.00022434955462813377, 0.8217214941978455, 0.929112434387207, 0.22199919819831848, 0.5426647067070007, 0.06413310021162033, 0.08879967778921127, 0.08386636525392532, 0.08421692252159119, 0.030624335631728172, 0.08421692252159119, 0.015312167815864086, 0.7809205651283264, 0.12410531938076019, 0.8687372207641602, 0.9987331032752991, 0.006389888469129801, 0.9904327392578125, 0.16209474205970764, 0.09136249125003815, 0.5805938839912415, 0.05010201036930084, 0.11493990570306778, 0.8860166072845459, 0.3425705134868622, 0.10045300424098969, 0.3322676420211792, 0.2034817337989807, 0.020605744794011116, 0.26856938004493713, 0.729350209236145, 0.21363456547260284, 0.05507766082882881, 0.3771985173225403, 0.21363456547260284, 0.006676080171018839, 0.12851454317569733, 0.005007060244679451, 0.012506362050771713, 0.12819020450115204, 0.10317748785018921, 0.6003053784370422, 0.15320293605327606, 0.28336647152900696, 0.1030423566699028, 0.019320441409945488, 0.5796132683753967, 0.07776343077421188, 0.09606070816516876, 0.7547627091407776, 0.06861478835344315, 0.34383922815322876, 0.09823977202177048, 0.5512343049049377, 0.9182417988777161, 0.6047505736351013, 0.39479267597198486, 0.9678744673728943, 0.9763637185096741, 0.8924252390861511, 0.9815425276756287, 0.9184229373931885, 0.8404524922370911, 0.15563935041427612, 0.26852303743362427, 0.6310291290283203, 0.09845844656229019, 0.9612302780151367, 0.23914021253585815, 0.05693814530968666, 0.6946454048156738, 0.19648919999599457, 0.7859567999839783, 0.9689471125602722, 0.985477864742279, 0.9612659215927124, 0.06939880549907684, 0.9287192821502686, 0.9353246092796326, 0.9768112301826477, 0.07065761089324951, 0.9185489416122437, 0.008832201361656189, 0.03585273399949074, 0.9321710467338562, 0.05160215124487877, 0.06364265829324722, 0.3319738507270813, 0.5504229664802551, 0.1275358647108078, 0.046097297221422195, 0.026121802628040314, 0.05685333535075188, 0.16748684644699097, 0.5762162208557129, 0.26544949412345886, 0.2413177341222763, 0.09250512719154358, 0.05630747228860855, 0.3378448188304901, 0.965469479560852, 0.09764105826616287, 0.21195253729820251, 0.1738487035036087, 0.2929231524467468, 0.052392762154340744, 0.05953722819685936, 0.10954850167036057, 0.2257130742073059, 0.7724402546882629, 0.19266073405742645, 0.8068103194236755, 0.9706130027770996, 0.918738842010498, 0.9237184524536133, 0.967848002910614, 0.040746744722127914, 0.9587832093238831, 0.9593340754508972, 0.9644504189491272, 0.9831175208091736, 0.21113623678684235, 0.7858960032463074, 0.16879841685295105, 0.5260883569717407, 0.21099801361560822, 0.050639525055885315, 0.04219960421323776, 0.8917055130004883, 0.10723040997982025, 0.9961643218994141, 0.09823646396398544, 0.14735469222068787, 0.7490530014038086, 0.8883183002471924, 0.9900185465812683, 0.8410950303077698, 0.9961971640586853, 0.25716152787208557, 0.037298236042261124, 0.42402204871177673, 0.28071829676628113, 0.08623301982879639, 0.9130555391311646, 0.9307939410209656, 0.9769619107246399, 0.9970942139625549, 0.6708313822746277, 0.12701575458049774, 0.14583291113376617, 0.0009408574551343918, 0.04798373207449913, 0.0018817149102687836, 0.005645144730806351, 0.12056119740009308, 0.674945056438446, 0.0019764131866395473, 0.0009882065933197737, 0.12747864425182343, 0.07312728464603424, 0.9766626358032227, 0.2928464710712433, 0.06507699191570282, 0.637754499912262, 0.23263083398342133, 0.06481431424617767, 0.14224113523960114, 0.11141054332256317, 0.05745701119303703, 0.07322265207767487, 0.02522503025829792, 0.1327817589044571, 0.06411361694335938, 0.03223198279738426, 0.015765642747282982, 0.04554519057273865, 0.0028027810622006655, 0.9968132376670837, 0.9600783586502075, 0.13504929840564728, 0.2939308285713196, 0.5719735026359558, 0.465227872133255, 0.5278546810150146, 0.9448063969612122, 0.1381317377090454, 0.05789344757795334, 0.1889154613018036, 0.005078372545540333, 0.10461447387933731, 0.18383708596229553, 0.21532300114631653, 0.02539186365902424, 0.047736700624227524, 0.03453293442726135, 0.27873101830482483, 0.716736912727356, 0.961877167224884, 0.8855581879615784, 0.09160946309566498, 0.9388265609741211, 0.9247063994407654, 0.985862135887146, 0.9236515164375305, 0.04779469966888428, 0.028449226170778275, 0.7254579067230225, 0.21615684032440186, 0.05626000091433525, 0.9859285354614258, 0.1179119125008583, 0.1390470564365387, 0.003337129484862089, 0.1612945944070816, 0.08565299212932587, 0.2792065143585205, 0.08899012207984924, 0.024472283199429512, 0.025584660470485687, 0.07564160227775574, 0.3374304473400116, 0.0645652785897255, 0.04919259250164032, 0.01921585574746132, 0.0899302065372467, 0.10145971924066544, 0.08685567229986191, 0.25134339928627014, 0.9836525917053223, 0.21765945851802826, 0.09128174185752869, 0.08339319378137589, 0.16243964433670044, 0.1254117786884308, 0.31988856196403503, 0.19089308381080627, 0.2660318613052368, 0.2761857509613037, 0.2640010714530945, 0.0020307775121182203, 0.9625119566917419, 0.9903137683868408, 0.9824743270874023, 0.1755472868680954, 0.06631786376237869, 0.20870621502399445, 0.015604203566908836, 0.0585157610476017, 0.037059981375932693, 0.04291155934333801, 0.08387259393930435, 0.04291155934333801, 0.1911514848470688, 0.07607049494981766, 0.9694811105728149, 0.9271491169929504, 0.8321825861930847, 0.15546268224716187, 0.011233596131205559, 0.7077165246009827, 0.011233596131205559, 0.2583726942539215, 0.8118183612823486, 0.1531732678413391, 0.030634654685854912, 0.9863976240158081, 0.985893726348877, 0.9551154971122742, 0.9365701079368591, 0.12830129265785217, 0.8679205179214478, 0.2616002857685089, 0.7324808239936829, 0.16776436567306519, 0.01711881347000599, 0.8148555159568787, 0.23173867166042328, 0.1531831920146942, 0.6127327680587769, 0.2299337536096573, 0.025548195466399193, 0.2864087224006653, 0.2769962251186371, 0.18018200993537903, 0.3114427328109741, 0.10801482200622559, 0.579679548740387, 0.9954429268836975, 0.9109427332878113, 0.06789635121822357, 0.022632118314504623, 0.9985951781272888, 0.43628036975860596, 0.5615090131759644, 0.9115622043609619, 0.9933119416236877, 0.941468358039856, 0.9955517649650574, 0.2501204013824463, 0.06875604391098022, 0.04493505135178566, 0.04276950657367706, 0.3042590320110321, 0.03897980600595474, 0.07687683403491974, 0.020031288266181946, 0.11693941056728363, 0.03627287223935127, 0.9957823157310486, 0.9790241122245789, 0.06736243516206741, 0.002886961679905653, 0.208823561668396, 0.6466794013977051, 0.030794257298111916, 0.04330442473292351, 0.9807778596878052, 0.9426935315132141, 0.08069037646055222, 0.2298453152179718, 0.16545602679252625, 0.034232281148433685, 0.16627107560634613, 0.20702379941940308, 0.03586238995194435, 0.07906027138233185, 0.31294354796409607, 0.03911794349551201, 0.6389264464378357, 0.9953731894493103, 0.22728070616722107, 0.13986504077911377, 0.1340373307466507, 0.12238191813230515, 0.3729734718799591, 0.9814609289169312, 0.864933967590332, 0.12012971937656403, 0.9982007741928101, 0.8152358531951904, 0.18470187485218048, 0.022133801132440567, 0.09738872945308685, 0.0708281621336937, 0.066401407122612, 0.6020393967628479, 0.1372295767068863, 0.3519078493118286, 0.19147926568984985, 0.056926269084215164, 0.39330875873565674, 0.9828811287879944, 0.981497049331665, 0.22423240542411804, 0.6816665530204773, 0.09268272668123245, 0.4774964451789856, 0.038534801453351974, 0.4825226962566376, 0.7932275533676147, 0.05577380955219269, 0.14873015880584717, 0.9812052845954895, 0.015576749108731747, 0.3063427209854126, 0.2803815007209778, 0.044134121388196945, 0.020768998190760612, 0.3297078609466553, 0.9347968697547913, 0.06863613426685333, 0.9180083274841309, 0.9986529350280762, 0.8904620409011841, 0.01877480186522007, 0.08850978314876556, 0.9013820886611938, 0.038581717759370804, 0.8487977981567383, 0.10609972476959229, 0.9501133561134338, 0.996126115322113, 0.9888943433761597, 0.9916884899139404, 0.955890417098999, 0.02476399950683117, 0.014858400449156761, 0.9982334971427917, 0.197970911860466, 0.0848446786403656, 0.707038938999176, 0.9855961799621582, 0.24978774785995483, 0.1394648253917694, 0.2872559130191803, 0.037468161433935165, 0.024978775531053543, 0.24354305863380432, 0.014570952393114567, 0.922126293182373, 0.964940071105957, 0.17867383360862732, 0.21582384407520294, 0.0008845239644870162, 0.1486000269651413, 0.4555298388004303, 0.027612600475549698, 0.9664410352706909, 0.36135390400886536, 0.3808114230632782, 0.013898227363824844, 0.14454156160354614, 0.09728758782148361, 0.9358618259429932, 0.13351298868656158, 0.09756718575954437, 0.17459391057491302, 0.12067519873380661, 0.31580957770347595, 0.048783592879772186, 0.10526985675096512, 0.825436532497406, 0.16788539290428162, 0.1263350546360016, 0.8590783476829529, 0.07077237218618393, 0.09604822099208832, 0.10110338777303696, 0.7178340554237366, 0.015165508724749088, 0.9916154146194458, 0.9403527975082397, 0.9784665703773499, 0.972351610660553, 0.18299487233161926, 0.3302992582321167, 0.34587329626083374, 0.08565717935562134, 0.05450911447405815, 0.9457865953445435, 0.17079775035381317, 0.822934627532959, 0.9543224573135376, 0.17067298293113708, 0.8279455304145813, 0.14552141726016998, 0.05238771066069603, 0.23283426463603973, 0.5646231174468994, 0.8704376220703125, 0.12342025339603424, 0.1628669798374176, 0.4181719720363617, 0.38735929131507874, 0.026410860940814018, 0.9890053272247314, 0.9825894832611084, 0.09621818363666534, 0.9026181697845459, 0.7870595455169678, 0.01610940508544445, 0.17490212619304657, 0.020712092518806458, 0.29125866293907166, 0.6969404220581055, 0.9595686793327332, 0.6900730133056641, 0.1324940174818039, 0.17665868997573853, 0.9545851945877075, 0.2886323928833008, 0.055506229400634766, 0.15911786258220673, 0.381142795085907, 0.01665186882019043, 0.09806101024150848, 0.95779949426651, 0.03604621812701225, 0.13483081758022308, 0.05230163037776947, 0.8127633333206177, 0.9649015069007874, 0.9246407151222229, 0.0693480521440506, 0.9194602370262146, 0.023444155231118202, 0.1289428472518921, 0.8439895510673523, 0.584549069404602, 0.03896993771195412, 0.07638107985258102, 0.03896993771195412, 0.25876039266586304, 0.9578067660331726, 0.0012684101238846779, 0.48537829518318176, 0.11288850754499435, 0.01226129848510027, 0.08540628105401993, 0.07906423509120941, 0.08498348295688629, 0.1382567137479782, 0.946633517742157, 0.03429831564426422, 0.013719325885176659, 0.8064929246902466, 0.18843293190002441, 0.9378155469894409, 0.947040319442749, 0.11595379561185837, 0.8580580949783325, 0.9926882386207581, 0.9015318155288696, 0.09925121068954468, 0.2752593755722046, 0.719909131526947, 0.9960205554962158, 0.9828180074691772, 0.14899642765522003, 0.1310073584318161, 0.005866000894457102, 0.10558801144361496, 0.11888428032398224, 0.08603467792272568, 0.0019553336314857006, 0.007821334525942802, 0.3492225706577301, 0.04497267305850983, 0.894126832485199, 0.0992031991481781, 0.15872511267662048, 0.7341036796569824, 0.986041784286499, 0.9845741987228394, 0.18364515900611877, 0.7171985507011414, 0.0007557413773611188, 0.09749063849449158, 0.32651421427726746, 0.6616209149360657, 0.4139656126499176, 0.0882720798254013, 0.3622199296951294, 0.1339300572872162, 0.9523554444313049, 0.9572800397872925, 0.947171688079834, 0.9437360167503357, 0.22171208262443542, 0.07650284469127655, 0.6997330784797668, 0.0019491171697154641, 0.18375179171562195, 0.8145151138305664, 0.3867734968662262, 0.6111976504325867, 0.15505482256412506, 0.15505482256412506, 0.24667812883853912, 0.028191786259412766, 0.40878090262413025, 0.14476320147514343, 0.8457218408584595, 0.990176260471344, 0.9723746180534363, 0.9356764554977417, 0.055861279368400574, 0.9775291681289673, 0.061255160719156265, 0.013956871815025806, 0.12871336936950684, 0.03566756099462509, 0.001550763612613082, 0.05117519572377205, 0.256651371717453, 0.16980861127376556, 0.2822389602661133, 0.8368352651596069, 0.9854657053947449, 0.9684811234474182, 0.9988011717796326, 0.24769549071788788, 0.06908513605594635, 0.18703536689281464, 0.49539098143577576, 0.9687451124191284, 0.6905210614204407, 0.12157061696052551, 0.1847873330116272, 0.9724434614181519, 0.9111958146095276, 0.9890605807304382, 0.9814465045928955, 0.981481671333313, 0.06230806186795235, 0.7951695322990417, 0.05934101343154907, 0.08011036366224289, 0.33678844571113586, 0.03251750394701958, 0.046453576534986496, 0.2462039589881897, 0.04180821776390076, 0.01625875197350979, 0.2787214517593384, 0.8972341418266296, 0.969166100025177, 0.9823509454727173, 0.16287508606910706, 0.33556193113327026, 0.12362807989120483, 0.08438107371330261, 0.015698803588747978, 0.2374444156885147, 0.03924700990319252, 0.9084745645523071, 0.9837383031845093, 0.07371477037668228, 0.14742954075336456, 0.7781003713607788, 0.9195581078529358, 0.9767324924468994, 0.9843859076499939, 0.4869522750377655, 0.03515901044011116, 0.4148763120174408, 0.06152826547622681, 0.9900693297386169, 0.9775275588035583, 0.09309495240449905, 0.051052071154117584, 0.2912971079349518, 0.38138899207115173, 0.04204288125038147, 0.14114396274089813, 0.9718360304832458, 0.1578458994626999, 0.21385574340820312, 0.6313835978507996, 0.9922080039978027, 0.12298034131526947, 0.029995204880833626, 0.029995204880833626, 0.293953001499176, 0.12298034131526947, 0.0929851308465004, 0.3029515743255615, 0.8946468234062195, 0.28706103563308716, 0.710098385810852, 0.8609976768493652, 0.6884133219718933, 0.1713646948337555, 0.1394554078578949, 0.9234023690223694, 0.9862802624702454, 0.9661938548088074, 0.9571685791015625, 0.950379490852356, 0.06726014614105225, 0.9147379994392395, 0.9607042074203491, 0.9868484139442444, 0.07153836637735367, 0.34902051091194153, 0.05094398930668831, 0.0606992207467556, 0.4671672284603119, 0.6735200881958008, 0.20062300562858582, 0.12180683016777039, 0.9725760221481323, 0.9218654632568359, 0.9931549429893494, 0.9337306618690491, 0.9622361660003662, 0.12974201142787933, 0.8562973141670227, 0.04368619993329048, 0.9319722652435303, 0.041088856756687164, 0.023968499153852463, 0.09244992583990097, 0.07875364273786545, 0.7601438164710999, 0.06534203886985779, 0.2123616337776184, 0.7024269104003906, 0.12377119809389114, 0.0247542392462492, 0.10255327820777893, 0.6365376114845276, 0.1096259206533432, 0.0957120954990387, 0.5584754347801208, 0.05575461685657501, 0.1059337705373764, 0.0065047056414186954, 0.17748554050922394, 0.11319565027952194, 0.8772662878036499, 0.9682884812355042, 0.1226167306303978, 0.8583171367645264, 0.10311590135097504, 0.1781092882156372, 0.7155618667602539, 0.1332014799118042, 0.5676199197769165, 0.02573210373520851, 0.1044420674443245, 0.07114169746637344, 0.09687380492687225, 0.11514196544885635, 0.8779574632644653, 0.9910134673118591, 0.9001174569129944, 0.9633437991142273, 0.981513500213623, 0.01893596164882183, 0.6532906889915466, 0.15148769319057465, 0.16095566749572754, 0.32748502492904663, 0.07625024020671844, 0.29327017068862915, 0.005865403451025486, 0.2962028682231903, 0.9990028738975525, 0.9932118654251099, 0.9898902177810669, 0.9964686632156372, 0.12486988306045532, 0.07946265488862991, 0.7832747101783752, 0.9732522964477539, 0.1643359661102295, 0.15734294056892395, 0.5699310898780823, 0.0034965097438544035, 0.10839180648326874, 0.8982634544372559, 0.9689239263534546, 0.08412205427885056, 0.1161685511469841, 0.15222086012363434, 0.6048776507377625, 0.03605230897665024, 0.9842289686203003, 0.06601517647504807, 0.42249712347984314, 0.03960910812020302, 0.46210625767707825, 0.9678868651390076, 0.9918259382247925, 0.13586267828941345, 0.5826418995857239, 0.2795636057853699, 0.39432477951049805, 0.19382065534591675, 0.0200504120439291, 0.39050567150115967, 0.9746490716934204, 0.9876563549041748, 0.9964248538017273, 0.03286741301417351, 0.964110791683197, 0.9039316773414612, 0.9255827069282532, 0.973778247833252, 0.9520195126533508, 0.24573476612567902, 0.012085316702723503, 0.12891003489494324, 0.12085316330194473, 0.49146953225135803, 0.17725753784179688, 0.18833613395690918, 0.6204013824462891, 0.15433387458324432, 0.83696448802948, 0.9912754893302917, 0.15896031260490417, 0.21194708347320557, 0.6270101070404053, 0.973503053188324, 0.1356266289949417, 0.17518439888954163, 0.08476664870977402, 0.6046687364578247, 0.876995325088501, 0.16802793741226196, 0.09601595997810364, 0.24804124236106873, 0.16002660989761353, 0.32005321979522705, 0.1144070029258728, 0.08902798593044281, 0.247076153755188, 0.549475908279419, 0.9366075396537781, 0.038030125200748444, 0.5479795336723328, 0.01728641986846924, 0.13310544192790985, 0.08297481387853622, 0.181507408618927, 0.9970009922981262, 0.9418708086013794, 0.2208610326051712, 0.7730135917663574, 0.8817238211631775, 0.9711593985557556, 0.956118106842041, 0.9436740875244141, 0.9757494330406189, 0.016896095126867294, 0.9983829259872437, 0.897819995880127, 0.16953213512897491, 0.007977982982993126, 0.0887550562620163, 0.026925690472126007, 0.06083211675286293, 0.029917435720562935, 0.22936700284481049, 0.2682596743106842, 0.09573578834533691, 0.02293669991195202, 0.9713582396507263, 0.07233855128288269, 0.9162882566452026, 0.2906678318977356, 0.18156446516513824, 0.01482158899307251, 0.14986273646354675, 0.010704481042921543, 0.04281792417168617, 0.10210427641868591, 0.048993583768606186, 0.01688014343380928, 0.04487647861242294, 0.09634032845497131, 0.2509180009365082, 0.7370715737342834, 0.06395614147186279, 0.6981878280639648, 0.11192324757575989, 0.12258259952068329, 0.262387216091156, 0.7288533449172974, 0.978039562702179, 0.6947557926177979, 0.05184745043516159, 0.05703219398856163, 0.08295591920614243, 0.10887964069843292, 0.9829714298248291, 0.8823723196983337, 0.11593212932348251, 0.018441233783960342, 0.9589441418647766, 0.9410964250564575, 0.8564911484718323, 0.9976080060005188, 0.9598550796508789, 0.13937465846538544, 0.8362479209899902, 0.9948030114173889, 0.32757121324539185, 0.4771830439567566, 0.06771904975175858, 0.03149723261594772, 0.051970433443784714, 0.044096123427152634, 0.08168645203113556, 0.5321996212005615, 0.3193197548389435, 0.06435902416706085, 0.9547039270401001, 0.9363917708396912, 0.9822983145713806, 0.8817679286003113, 0.11564169824123383, 0.9551964402198792, 0.9419997930526733, 0.9974173903465271, 0.9904891848564148, 0.11253255605697632, 0.050854094326496124, 0.06412926316261292, 0.1813591867685318, 0.025937631726264954, 0.002859266474843025, 0.032268863171339035, 0.5301896929740906, 0.09961007535457611, 0.8964906930923462, 0.9490214586257935, 0.9858212471008301, 0.8620403409004211, 0.05975247919559479, 0.9395562410354614, 0.9324305653572083, 0.11471367627382278, 0.671894371509552, 0.19938328862190247, 0.010925112292170525, 0.9398461580276489, 0.9656115770339966, 0.7111845016479492, 0.15303970873355865, 0.13353464007377625, 0.21268777549266815, 0.7798551917076111, 0.9616213440895081, 0.9568331837654114, 0.9848121404647827, 0.05811496451497078, 0.9298394322395325, 0.9796063899993896, 0.9531130194664001, 0.9794533848762512, 0.033219724893569946, 0.05871393531560898, 0.016223587095737457, 0.20936153829097748, 0.12669849395751953, 0.05330607295036316, 0.22172236442565918, 0.056396279484033585, 0.1259259432554245, 0.050215866416692734, 0.04867076128721237, 0.7206036448478699, 0.27894335985183716, 0.9988191723823547, 0.9704393744468689, 0.99826580286026, 0.1504272073507309, 0.8483108282089233, 0.8001139760017395, 0.02469487488269806, 0.1728641241788864, 0.32114043831825256, 0.08167733252048492, 0.09374330192804337, 0.36940431594848633, 0.08074918389320374, 0.026916394010186195, 0.025988243520259857, 0.9865745902061462, 0.9470999240875244, 0.43528589606285095, 0.5627939105033875, 0.15629196166992188, 0.10820212960243225, 0.32861387729644775, 0.408763587474823, 0.10760051012039185, 0.22865107655525208, 0.05043773725628853, 0.4976523518562317, 0.09078793227672577, 0.023537611588835716, 0.1401870995759964, 0.15847237408161163, 0.11580673605203629, 0.5790336728096008, 0.14603814482688904, 0.1476060450077057, 0.00425571296364069, 0.0006719546508975327, 0.7010726928710938, 0.08462727069854736, 0.739078164100647, 0.09591090679168701, 0.03949272632598877, 0.03949272632598877, 0.19861283898353577, 0.023241927847266197, 0.1542418897151947, 0.29158055782318115, 0.10775803029537201, 0.09508061408996582, 0.08874190598726273, 0.03803224489092827, 0.9039074182510376, 0.9957121014595032, 0.9889121055603027, 0.9993851184844971, 0.982215404510498, 0.9200979471206665, 0.324147492647171, 0.6717273592948914, 0.9341742992401123, 0.05748765170574188, 0.523493230342865, 0.4747961759567261, 0.9638175964355469], \"Term\": [\"$\", \"$\", \"$\", \"$\", \"$\", \"1\", \"1\", \"128\", \"13\", \"13\", \"1st\", \"2\", \"2\", \"200\", \"2015\", \"2016\", \"2017\", \"2026\", \"2nd\", \"3\", \"3\", \"3\", \"4\", \"4\", \"4\", \"48\", \"4yr\", \"5\", \"5\", \"5\", \"5th\", \"6\", \"6\", \"6\", \"69\", \"6th\", \"7\", \"7\", \"7\", \"7\", \"8\", \"8\", \"9\", \"9\", \"AA\", \"AAA\", \"ABC\", \"Ads\", \"Alexa\", \"Alkaline\", \"Amazon\", \"Amazon\", \"Amazon\", \"Amazon\", \"Amazon\", \"Amazon\", \"Amazon\", \"Amazon\", \"Amazon\", \"Amazon\", \"AmazonBasics\", \"AmazonBasics\", \"Android\", \"Android\", \"App\", \"AppStore\", \"Basics\", \"Batteries\", \"Best\", \"Best\", \"Bestbuy\", \"Black\", \"Black\", \"Black\", \"Blue\", \"Bluetooth\", \"Bought\", \"Bought\", \"Buy\", \"Buy\", \"Buy\", \"Christmas\", \"Christmas\", \"Costco\", \"Dad\", \"Deal\", \"December\", \"Dot\", \"Dropbox\", \"Duracell\", \"Echo\", \"Edition\", \"Energizer\", \"Facebook\", \"Facebook\", \"Fi\", \"Fire\", \"Fire\", \"Free\", \"Friday\", \"Friday\", \"Friday\", \"GB\", \"GB\", \"Games\", \"Google\", \"Grandson\", \"Great\", \"HD\", \"HD8\", \"HDX\", \"Hulu\", \"I.\", \"IPad\", \"IPad\", \"Kids\", \"Kindle\", \"Kindle\", \"Kindle\", \"Kindles\", \"Kindles\", \"Life\", \"Members\", \"Mickey\", \"Mom\", \"Mother\", \"Mouse\", \"Nabi\", \"Netflix\", \"Netflix\", \"Nexus\", \"Nook\", \"Nook\", \"O\", \"OS\", \"Oasis\", \"Oasis\", \"Paperwhite\", \"Play\", \"Play\", \"Price\", \"Product\", \"Ray\", \"SD\", \"SD\", \"Samsung\", \"Samsung\", \"Samsung\", \"Santa\", \"Son\", \"Squad\", \"Store\", \"Tab\", \"Tablet\", \"Tablet\", \"Tablet\", \"Tablets\", \"Tap\", \"Unlimited\", \"VLC\", \"Value\", \"Voyage\", \"Wi\", \"Xmas\", \"Xmas\", \"YouTube\", \"YouTube\", \"YouTube\", \"aa\", \"aaa\", \"able\", \"able\", \"able\", \"able\", \"able\", \"able\", \"absolutely\", \"absolutely\", \"absolutely\", \"abuse\", \"access\", \"access\", \"access\", \"access\", \"accident\", \"account\", \"account\", \"account\", \"act\", \"activity\", \"ad\", \"ad\", \"ad\", \"adapter\", \"add\", \"add\", \"add\", \"add\", \"adult\", \"adult\", \"advertise\", \"advertising\", \"affordable\", \"affordable\", \"affordable\", \"affordable\", \"affordable\", \"affordable\", \"age\", \"airplane\", \"airplane\", \"alkaline\", \"alot\", \"alot\", \"alot\", \"amazing\", \"amazing\", \"amazing\", \"amazing\", \"amazing\", \"amazing\", \"amazing\", \"amazon\", \"amazon\", \"amazon\", \"amazon\", \"amazon\", \"amazon\", \"android\", \"android\", \"android\", \"answer\", \"answer\", \"app\", \"app\", \"apple\", \"appropriate\", \"arrange\", \"arrive\", \"arrive\", \"ask\", \"ask\", \"ask\", \"aspect\", \"assistance\", \"associate\", \"audiophile\", \"auto\", \"available\", \"available\", \"available\", \"avid\", \"aware\", \"awesome\", \"awesome\", \"awesome\", \"awesome\", \"awesome\", \"awesome\", \"awesome\", \"awesome\", \"awesome\", \"awesome\", \"background\", \"backlit\", \"backpack\", \"backup\", \"backup\", \"backup\", \"bad\", \"bad\", \"bad\", \"bad\", \"bang\", \"bang\", \"bank\", \"basic\", \"basic\", \"basic\", \"basics\", \"batt\", \"battery\", \"battery\", \"bc\", \"beat\", \"beat\", \"beating\", \"bedroom\", \"beginner\", \"belong\", \"bestbuy\", \"better\", \"better\", \"better\", \"better\", \"better\", \"better\", \"better\", \"big\", \"big\", \"big\", \"big\", \"big\", \"big\", \"big\", \"big\", \"big\", \"big\", \"birthday\", \"birthday\", \"bit\", \"bit\", \"bit\", \"bit\", \"bit\", \"bit\", \"bit\", \"blank\", \"block\", \"blue\", \"blue\", \"blue\", \"blue\", \"blue\", \"bluetooth\", \"bluetooth\", \"book\", \"book\", \"book\", \"boot\", \"box\", \"box\", \"box\", \"boyfriend\", \"brand\", \"break\", \"break\", \"break\", \"break\", \"bright\", \"bright\", \"bright\", \"brightness\", \"brightness\", \"bring\", \"bring\", \"broken\", \"brother\", \"brother\", \"browse\", \"browse\", \"browser\", \"browsing\", \"buck\", \"buck\", \"buck\", \"budget\", \"budget\", \"bulk\", \"bulk\", \"bulky\", \"bumper\", \"button\", \"button\", \"buy\", \"buy\", \"buy\", \"buy\", \"buy\", \"buy\", \"buy\", \"buy\", \"buy\", \"buy\", \"buy\", \"buy\", \"buying\", \"cable\", \"camera\", \"camera\", \"camera\", \"camera\", \"cancel\", \"candle\", \"candle\", \"card\", \"card\", \"cardboard\", \"cartoon\", \"case\", \"case\", \"case\", \"case\", \"case\", \"case\", \"challenge\", \"challenge\", \"charge\", \"charge\", \"charger\", \"charger\", \"charm\", \"cheap\", \"cheap\", \"cheap\", \"cheap\", \"cheap\", \"cheap\", \"cheap\", \"cheap\", \"check\", \"check\", \"check\", \"child\", \"child\", \"child\", \"child\", \"child\", \"child\", \"christmas\", \"clear\", \"clear\", \"clear\", \"clear\", \"color\", \"color\", \"color\", \"color\", \"colored\", \"combine\", \"come\", \"come\", \"come\", \"come\", \"come\", \"come\", \"come\", \"come\", \"command\", \"compare\", \"compare\", \"compare\", \"compatible\", \"competitive\", \"complaint\", \"complaint\", \"complaint\", \"complaint\", \"complaint\", \"complaint\", \"complaint\", \"complaint\", \"con\", \"con\", \"confusing\", \"connect\", \"connect\", \"connectivity\", \"consumption\", \"contemplate\", \"content\", \"content\", \"control\", \"control\", \"control\", \"controller\", \"convenient\", \"convenient\", \"convenient\", \"convenient\", \"convenient\", \"copy\", \"cord\", \"cord\", \"correctly\", \"cost\", \"cost\", \"cost\", \"cost\", \"cost\", \"cost\", \"cousin\", \"cover\", \"cover\", \"cover\", \"crack\", \"credit\", \"credit\", \"curve\", \"customize\", \"dark\", \"dark\", \"darn\", \"daughter\", \"daughter\", \"daughter\", \"daughter\", \"day\", \"day\", \"day\", \"day\", \"day\", \"dead\", \"deal\", \"deal\", \"decide\", \"decide\", \"decide\", \"decide\", \"decide\", \"def\", \"defective\", \"definite\", \"definitely\", \"definitely\", \"definitely\", \"definitely\", \"definitely\", \"definitely\", \"delete\", \"delighted\", \"delivery\", \"delivery\", \"describe\", \"design\", \"design\", \"device\", \"device\", \"device\", \"device\", \"device\", \"device\", \"device\", \"device\", \"device\", \"device\", \"didn\\u201a\\u00c4\\u00f4t\", \"die\", \"die\", \"die\", \"direct\", \"disappoint\", \"disappoint\", \"disappoint\", \"disappoint\", \"disappointed\", \"disappointed\", \"display\", \"display\", \"display\", \"display\", \"document\", \"dot\", \"download\", \"download\", \"download\", \"download\", \"dpi\", \"drawback\", \"drive\", \"drive\", \"drop\", \"drop\", \"drop\", \"durability\", \"durability\", \"durable\", \"durable\", \"durable\", \"durable\", \"duracell\", \"e\", \"e\", \"east\", \"easy\", \"echo\", \"ecosystem\", \"edition\", \"educational\", \"educational\", \"email\", \"employee\", \"end\", \"end\", \"end\", \"end\", \"energizer\", \"engage\", \"enjoy\", \"enjoy\", \"enjoy\", \"enjoy\", \"enjoy\", \"enjoy\", \"enlarge\", \"entertain\", \"entertain\", \"entertainment\", \"entry\", \"ergonomic\", \"etc\", \"etc\", \"etc\", \"etc\", \"etc\", \"etc\", \"etc\", \"etc\", \"evaluate\", \"eventually\", \"everyday\", \"everyday\", \"exactly\", \"exceed\", \"excellent\", \"exceptional\", \"exchange\", \"exchange\", \"expand\", \"expandable\", \"expansion\", \"expect\", \"expectation\", \"expensive\", \"expensive\", \"expensive\", \"expensive\", \"expensive\", \"experience\", \"experience\", \"experience\", \"experience\", \"experience\", \"explore\", \"extensive\", \"extensive\", \"external\", \"extra\", \"extra\", \"extra\", \"extra\", \"extra\", \"eye\", \"face\", \"fact\", \"fact\", \"fact\", \"fact\", \"fact\", \"fact\", \"fact\", \"family\", \"family\", \"family\", \"family\", \"far\", \"far\", \"far\", \"fast\", \"fast\", \"fast\", \"fast\", \"fast\", \"fast\", \"fast\", \"fast\", \"faster\", \"faster\", \"father\", \"father\", \"father\", \"favorite\", \"favorite\", \"favorite\", \"feature\", \"feature\", \"feature\", \"feature\", \"feature\", \"feature\", \"feature\", \"feel\", \"feel\", \"feel\", \"feel\", \"feel\", \"feel\", \"feel\", \"fi\", \"fight\", \"filter\", \"find\", \"find\", \"find\", \"find\", \"find\", \"find\", \"find\", \"find\", \"fine\", \"fine\", \"fire\", \"fire\", \"fit\", \"fit\", \"fit\", \"fit\", \"fit\", \"fix\", \"fix\", \"flashlight\", \"flight\", \"font\", \"fourth\", \"free\", \"free\", \"free\", \"free\", \"free\", \"free\", \"free\", \"fresh\", \"friend\", \"friendly\", \"friendly\", \"frustrate\", \"fun\", \"fun\", \"fun\", \"fun\", \"fun\", \"function\", \"function\", \"function\", \"function\", \"g\", \"game\", \"game\", \"game\", \"garage\", \"gb\", \"gb\", \"gear\", \"geek\", \"gen\", \"generation\", \"generation\", \"get\", \"get\", \"get\", \"get\", \"get\", \"get\", \"get\", \"get\", \"get\", \"get\", \"get\", \"get\", \"gift\", \"gig\", \"girlfriend\", \"girlfriend\", \"give\", \"give\", \"give\", \"give\", \"give\", \"give\", \"glad\", \"glad\", \"glad\", \"glad\", \"glad\", \"glad\", \"go\", \"go\", \"go\", \"go\", \"go\", \"go\", \"go\", \"go\", \"go\", \"goal\", \"good\", \"good\", \"good\", \"good\", \"good\", \"good\", \"good\", \"good\", \"google\", \"google\", \"grader\", \"grand\", \"grandchild\", \"granddaughter\", \"granddaughter\", \"granddaughter\", \"granddaughter\", \"grandkid\", \"grandkid\", \"grandkid\", \"grandson\", \"grandson\", \"great\", \"great\", \"great\", \"great\", \"great\", \"great\", \"great\", \"great\", \"great\", \"great\", \"great\", \"grt\", \"guard\", \"hand\", \"hand\", \"hand\", \"hand\", \"hand\", \"handy\", \"handy\", \"handy\", \"handy\", \"handy\", \"hang\", \"hang\", \"happy\", \"hd\", \"hd\", \"help\", \"help\", \"help\", \"help\", \"help\", \"hi\", \"high\", \"high\", \"high\", \"high\", \"high\", \"highly\", \"highly\", \"hold\", \"hold\", \"hold\", \"hold\", \"hold\", \"hold\", \"hold\", \"home\", \"home\", \"home\", \"home\", \"home\", \"hope\", \"hope\", \"hope\", \"hope\", \"hour\", \"hour\", \"hour\", \"hour\", \"husband\", \"husband\", \"husband\", \"i.e.\", \"iPad\", \"iPad\", \"icon\", \"image\", \"imo\", \"impossible\", \"improved\", \"inch\", \"inch\", \"inexpensive\", \"inexpensive\", \"inexpensive\", \"input\", \"instruction\", \"instruction\", \"instruction\", \"intend\", \"intend\", \"interactive\", \"interface\", \"internal\", \"internet\", \"internet\", \"introduce\", \"investment\", \"ipad\", \"ipad\", \"ipad\", \"iphone\", \"iphone\", \"issue\", \"issue\", \"issue\", \"issue\", \"item\", \"item\", \"item\", \"item\", \"item\", \"item\", \"job\", \"job\", \"job\", \"job\", \"job\", \"jump\", \"keep\", \"keep\", \"keep\", \"keep\", \"keep\", \"keep\", \"keep\", \"keyboard\", \"keyboard\", \"kid\", \"kid\", \"kiddo\", \"kids\", \"killer\", \"kinda\", \"kindle\", \"kindle\", \"knock\", \"knowledgeable\", \"lag\", \"laptop\", \"laptop\", \"large\", \"large\", \"large\", \"large\", \"large\", \"last\", \"last\", \"lasting\", \"late\", \"late\", \"late\", \"laugh\", \"law\", \"lcd\", \"leak\", \"learn\", \"learn\", \"learn\", \"learn\", \"learning\", \"learning\", \"leather\", \"letter\", \"library\", \"life\", \"life\", \"life\", \"life\", \"life\", \"life\", \"life\", \"light\", \"light\", \"light\", \"light\", \"light\", \"light\", \"lighting\", \"lightweight\", \"lightweight\", \"lightweight\", \"like\", \"like\", \"like\", \"like\", \"like\", \"like\", \"like\", \"like\", \"like\", \"like\", \"like\", \"like\", \"like\", \"limit\", \"limitation\", \"limited\", \"limited\", \"limited\", \"listen\", \"listen\", \"lite\", \"little\", \"little\", \"little\", \"little\", \"little\", \"little\", \"little\", \"little\", \"little\", \"little\", \"load\", \"load\", \"locate\", \"log\", \"log\", \"logic\", \"login\", \"lol\", \"long\", \"long\", \"long\", \"longer\", \"longer\", \"longer\", \"longevity\", \"look\", \"look\", \"look\", \"look\", \"look\", \"look\", \"look\", \"look\", \"look\", \"look\", \"lot\", \"lot\", \"lot\", \"lot\", \"lot\", \"lot\", \"lot\", \"lot\", \"loud\", \"love\", \"love\", \"love\", \"love\", \"love\", \"love\", \"low\", \"low\", \"low\", \"low\", \"low\", \"lug\", \"magazine\", \"mail\", \"make\", \"make\", \"make\", \"make\", \"make\", \"make\", \"make\", \"make\", \"make\", \"make\", \"make\", \"maneuver\", \"manual\", \"medium\", \"medium\", \"member\", \"member\", \"member\", \"member\", \"memory\", \"memory\", \"memory\", \"menu\", \"micro\", \"microsd\", \"minimum\", \"minute\", \"minute\", \"mode\", \"mode\", \"model\", \"model\", \"model\", \"mom\", \"mom\", \"mom\", \"money\", \"money\", \"money\", \"money\", \"money\", \"month\", \"month\", \"month\", \"mother\", \"mouse\", \"mouse\", \"mouse\", \"movie\", \"music\", \"music\", \"n\", \"name\", \"national\", \"navigate\", \"need\", \"need\", \"need\", \"need\", \"need\", \"need\", \"need\", \"need\", \"need\", \"need\", \"nephew\", \"net\", \"new\", \"new\", \"new\", \"new\", \"new\", \"new\", \"news\", \"newspaper\", \"nice\", \"nice\", \"nice\", \"nice\", \"nice\", \"nice\", \"nice\", \"nice\", \"nicely\", \"nicely\", \"nicely\", \"niece\", \"night\", \"night\", \"night\", \"night\", \"night\", \"offline\", \"oh\", \"oh\", \"ok\", \"old\", \"old\", \"online\", \"online\", \"online\", \"online\", \"online\", \"online\", \"operate\", \"operate\", \"operate\", \"operate\", \"operating\", \"operation\", \"option\", \"option\", \"option\", \"order\", \"order\", \"order\", \"original\", \"original\", \"original\", \"outstanding\", \"overall\", \"overall\", \"overall\", \"overall\", \"overall\", \"overall\", \"overseas\", \"own\", \"own\", \"pack\", \"package\", \"package\", \"package\", \"packing\", \"pad\", \"pad\", \"pad\", \"padded\", \"page\", \"paper\", \"paperwhite\", \"parent\", \"parent\", \"parent\", \"parental\", \"party\", \"party\", \"party\", \"password\", \"pay\", \"pay\", \"pay\", \"pay\", \"pay\", \"pay\", \"pay\", \"peace\", \"penny\", \"perfect\", \"perfect\", \"perfect\", \"perfect\", \"perfect\", \"perfectly\", \"perfectly\", \"performance\", \"performance\", \"performance\", \"performance\", \"performance\", \"performer\", \"phone\", \"phone\", \"phone\", \"phone\", \"phone\", \"phone\", \"phone\", \"photo\", \"photo\", \"pic\", \"pic\", \"picture\", \"picture\", \"picture\", \"picture\", \"picture\", \"piece\", \"pin\", \"pink\", \"platform\", \"play\", \"play\", \"play\", \"play\", \"play\", \"playback\", \"playing\", \"playing\", \"pleasantly\", \"pleased\", \"pleased\", \"plenty\", \"plenty\", \"plenty\", \"plenty\", \"plug\", \"plug\", \"point\", \"point\", \"point\", \"point\", \"port\", \"portability\", \"portable\", \"portable\", \"power\", \"power\", \"power\", \"power\", \"pre\", \"pre\", \"preloade\", \"present\", \"present\", \"present\", \"pressure\", \"pretty\", \"pretty\", \"pretty\", \"pretty\", \"pretty\", \"pretty\", \"previous\", \"previous\", \"price\", \"price\", \"price\", \"pricey\", \"prime\", \"prime\", \"prize\", \"pro\", \"pro\", \"pro\", \"problem\", \"problem\", \"problem\", \"problem\", \"problem\", \"processing\", \"product\", \"product\", \"product\", \"product\", \"product\", \"product\", \"product\", \"product\", \"profile\", \"profile\", \"profile\", \"program\", \"program\", \"programming\", \"progress\", \"promise\", \"promise\", \"proof\", \"protect\", \"protect\", \"protection\", \"protection\", \"protective\", \"protector\", \"purchase\", \"purchase\", \"purchase\", \"purchase\", \"purchase\", \"purchase\", \"purchase\", \"purchase\", \"purchase\", \"purchase\", \"purple\", \"purpose\", \"purpose\", \"purpose\", \"purse\", \"puzzle\", \"quality\", \"quality\", \"quality\", \"quality\", \"question\", \"question\", \"quickly\", \"quickly\", \"quickly\", \"quickly\", \"quiet\", \"quit\", \"raffle\", \"random\", \"read\", \"read\", \"read\", \"read\", \"reader\", \"reader\", \"reading\", \"reading\", \"real\", \"real\", \"real\", \"real\", \"real\", \"reasonable\", \"reasonable\", \"reasonably\", \"reboot\", \"rechargeable\", \"rechargeable\", \"recipient\", \"recommend\", \"recommend\", \"recommend\", \"recommend\", \"recommend\", \"recommend\", \"recommend\", \"recommend\", \"recommend\", \"reference\", \"register\", \"release\", \"remote\", \"replace\", \"replace\", \"replace\", \"replace\", \"reset\", \"resolution\", \"resolution\", \"resolution\", \"resolve\", \"responsiveness\", \"restart\", \"restrict\", \"restriction\", \"return\", \"return\", \"return\", \"return\", \"review\", \"review\", \"review\", \"review\", \"review\", \"review\", \"review\", \"reward\", \"rid\", \"ride\", \"right\", \"right\", \"right\", \"right\", \"right\", \"right\", \"right\", \"rival\", \"road\", \"room\", \"room\", \"room\", \"rotate\", \"rubber\", \"rugged\", \"run\", \"run\", \"run\", \"run\", \"safe\", \"safety\", \"sale\", \"sale\", \"sale\", \"sale\", \"sale\", \"sale\", \"samsung\", \"satisfied\", \"satisfied\", \"satisfied\", \"savvy\", \"say\", \"say\", \"say\", \"say\", \"say\", \"say\", \"say\", \"schedule\", \"school\", \"school\", \"scratch\", \"screen\", \"screen\", \"screen\", \"scroll\", \"sd\", \"section\", \"secure\", \"seemingly\", \"selection\", \"selection\", \"series\", \"serve\", \"set\", \"set\", \"set\", \"set\", \"set\", \"setting\", \"setting\", \"setting\", \"seven\", \"shade\", \"shelf\", \"shift\", \"shiny\", \"shipping\", \"shipping\", \"shopping\", \"shopping\", \"show\", \"show\", \"show\", \"show\", \"show\", \"shut\", \"shut\", \"shut\", \"simple\", \"simple\", \"simple\", \"simple\", \"simple\", \"size\", \"size\", \"size\", \"size\", \"size\", \"size\", \"sleek\", \"sleek\", \"sleeve\", \"slim\", \"slim\", \"slow\", \"slow\", \"slow\", \"small\", \"small\", \"small\", \"small\", \"small\", \"small\", \"smart\", \"smart\", \"smooth\", \"smoothly\", \"snappy\", \"social\", \"solid\", \"solid\", \"solid\", \"solid\", \"son\", \"son\", \"son\", \"son\", \"son\", \"sound\", \"space\", \"speak\", \"speaker\", \"special\", \"special\", \"special\", \"specific\", \"spend\", \"spend\", \"spend\", \"spend\", \"spend\", \"spouse\", \"squad\", \"star\", \"star\", \"star\", \"star\", \"star\", \"starter\", \"step\", \"step\", \"step\", \"step\", \"stereo\", \"stop\", \"storage\", \"storage\", \"storage\", \"store\", \"store\", \"store\", \"store\", \"struggle\", \"student\", \"stuff\", \"subscription\", \"subscription\", \"substantial\", \"substitute\", \"suck\", \"sufficient\", \"super\", \"super\", \"super\", \"super\", \"super\", \"suppose\", \"suppose\", \"suppose\", \"surf\", \"surf\", \"surfing\", \"surprised\", \"surprised\", \"surprised\", \"swipe\", \"system\", \"system\", \"system\", \"system\", \"t\", \"table\", \"table\", \"table\", \"table\", \"table\", \"tablet\", \"tablet\", \"tablet\", \"tablet\", \"tailor\", \"take\", \"take\", \"take\", \"take\", \"take\", \"take\", \"tap\", \"tear\", \"tech\", \"tech\", \"techie\", \"teen\", \"teenage\", \"teenager\", \"test\", \"test\", \"thank\", \"thesis\", \"thing\", \"thing\", \"thing\", \"thing\", \"thing\", \"thing\", \"thing\", \"thing\", \"thing\", \"thing\", \"tho\", \"till\", \"till\", \"time\", \"time\", \"time\", \"time\", \"time\", \"time\", \"time\", \"time\", \"time\", \"time\", \"time\", \"today\", \"today\", \"toddler\", \"toddler\", \"toddler\", \"toddler\", \"tool\", \"tool\", \"total\", \"touch\", \"touch\", \"touch\", \"touch\", \"touch\", \"tough\", \"toy\", \"toy\", \"transfer\", \"transfer\", \"transition\", \"translation\", \"travel\", \"tree\", \"trick\", \"trick\", \"trip\", \"try\", \"try\", \"try\", \"try\", \"try\", \"try\", \"turn\", \"turn\", \"turn\", \"turn\", \"twin\", \"ultra\", \"unable\", \"unlimited\", \"unlimited\", \"unlock\", \"unwanted\", \"upgrade\", \"usb\", \"use\", \"use\", \"use\", \"use\", \"use\", \"use\", \"use\", \"use\", \"user\", \"user\", \"vac\", \"vacation\", \"valuable\", \"value\", \"value\", \"versatility\", \"version\", \"version\", \"version\", \"version\", \"versus\", \"vibrant\", \"video\", \"video\", \"video\", \"view\", \"view\", \"viewing\", \"visual\", \"voice\", \"volume\", \"volume\", \"voyage\", \"voyager\", \"wake\", \"want\", \"want\", \"want\", \"want\", \"want\", \"want\", \"want\", \"want\", \"want\", \"want\", \"want\", \"warranty\", \"warranty\", \"watch\", \"watching\", \"web\", \"week\", \"week\", \"weight\", \"weight\", \"weight\", \"well\", \"well\", \"well\", \"well\", \"well\", \"well\", \"well\", \"white\", \"wi\", \"wife\", \"wife\", \"wifi\", \"wifi\", \"wifi\", \"wifi\", \"wish\", \"wish\", \"wish\", \"wish\", \"wish\", \"wish\", \"wonderful\", \"wonderful\", \"wonderful\", \"wonderful\", \"work\", \"work\", \"work\", \"work\", \"work\", \"worry\", \"worry\", \"worry\", \"worry\", \"worry\", \"worth\", \"worth\", \"worth\", \"worth\", \"worth\", \"worth\", \"worth\", \"worth\", \"worthless\", \"wrap\", \"xbox\", \"year\", \"yesterday\", \"yo\", \"young\", \"young\", \"youtube\", \"youtube\", \"yr\", \"yr\", \"yrs\"]}, \"R\": 30, \"lambda.step\": 0.01, \"plot.opts\": {\"xlab\": \"PC1\", \"ylab\": \"PC2\"}, \"topic.order\": [1, 6, 7, 13, 9, 2, 5, 14, 3, 10, 12, 8, 11, 4, 15]};\n",
              "\n",
              "function LDAvis_load_lib(url, callback){\n",
              "  var s = document.createElement('script');\n",
              "  s.src = url;\n",
              "  s.async = true;\n",
              "  s.onreadystatechange = s.onload = callback;\n",
              "  s.onerror = function(){console.warn(\"failed to load library \" + url);};\n",
              "  document.getElementsByTagName(\"head\")[0].appendChild(s);\n",
              "}\n",
              "\n",
              "if(typeof(LDAvis) !== \"undefined\"){\n",
              "   // already loaded: just create the visualization\n",
              "   !function(LDAvis){\n",
              "       new LDAvis(\"#\" + \"ldavis_el1111214671857486803613680313\", ldavis_el1111214671857486803613680313_data);\n",
              "   }(LDAvis);\n",
              "}else if(typeof define === \"function\" && define.amd){\n",
              "   // require.js is available: use it to load d3/LDAvis\n",
              "   require.config({paths: {d3: \"https://cdnjs.cloudflare.com/ajax/libs/d3/3.5.5/d3.min\"}});\n",
              "   require([\"d3\"], function(d3){\n",
              "      window.d3 = d3;\n",
              "      LDAvis_load_lib(\"https://cdn.rawgit.com/bmabey/pyLDAvis/files/ldavis.v1.0.0.js\", function(){\n",
              "        new LDAvis(\"#\" + \"ldavis_el1111214671857486803613680313\", ldavis_el1111214671857486803613680313_data);\n",
              "      });\n",
              "    });\n",
              "}else{\n",
              "    // require.js not available: dynamically load d3 & LDAvis\n",
              "    LDAvis_load_lib(\"https://cdnjs.cloudflare.com/ajax/libs/d3/3.5.5/d3.min.js\", function(){\n",
              "         LDAvis_load_lib(\"https://cdn.rawgit.com/bmabey/pyLDAvis/files/ldavis.v1.0.0.js\", function(){\n",
              "                 new LDAvis(\"#\" + \"ldavis_el1111214671857486803613680313\", ldavis_el1111214671857486803613680313_data);\n",
              "            })\n",
              "         });\n",
              "}\n",
              "</script>"
            ],
            "text/plain": [
              "PreparedData(topic_coordinates=              x         y  topics  cluster       Freq\n",
              "topic                                                \n",
              "0      0.159872 -0.093559  1       1        18.115841\n",
              "5     -0.243276  0.022522  2       1        8.546909 \n",
              "6      0.066620 -0.158515  3       1        7.994481 \n",
              "12     0.194322  0.237449  4       1        7.844527 \n",
              "8      0.060303 -0.122558  5       1        6.761498 \n",
              "1     -0.067122 -0.085004  6       1        6.645911 \n",
              "4     -0.188818 -0.030314  7       1        6.200997 \n",
              "13    -0.175985  0.087262  8       1        6.042444 \n",
              "2      0.006446  0.021499  9       1        5.602767 \n",
              "9      0.048383 -0.200431  10      1        5.027850 \n",
              "11    -0.001759 -0.181924  11      1        4.940545 \n",
              "7     -0.148016  0.101948  12      1        4.577568 \n",
              "10    -0.136297  0.185677  13      1        4.493865 \n",
              "3      0.243332  0.106097  14      1        4.443664 \n",
              "14     0.181994  0.109851  15      1        2.761136 , topic_info=         Term         Freq        Total Category  logprob  loglift\n",
              "2069  tablet   7447.000000  7447.000000  Default  30.0000  30.0000\n",
              "3     battery  9390.000000  9390.000000  Default  29.0000  29.0000\n",
              "10    work     4464.000000  4464.000000  Default  28.0000  28.0000\n",
              "31    easy     3345.000000  3345.000000  Default  27.0000  27.0000\n",
              "18    price    5028.000000  5028.000000  Default  26.0000  26.0000\n",
              "...     ...            ...          ...      ...      ...      ...\n",
              "59    basic    51.423851    375.161163   Topic15 -5.1379   1.6023 \n",
              "89    want     63.096859    1294.411621  Topic15 -4.9333   0.5684 \n",
              "98    need     66.724518    1847.110352  Topic15 -4.8774   0.2687 \n",
              "62    find     46.110550    885.306763   Topic15 -5.2470   0.6346 \n",
              "218   new      44.690002    1039.154785  Topic15 -5.2783   0.4431 \n",
              "\n",
              "[990 rows x 6 columns], token_table=      Topic      Freq     Term\n",
              "term                          \n",
              "2394  3      0.225135  $      \n",
              "2394  5      0.194828  $      \n",
              "2394  6      0.129885  $      \n",
              "2394  9      0.331208  $      \n",
              "2394  10     0.116897  $      \n",
              "...  ..           ... ..      \n",
              "2619  7      0.934174  youtube\n",
              "2619  11     0.057488  youtube\n",
              "1085  6      0.523493  yr     \n",
              "1085  10     0.474796  yr     \n",
              "2659  10     0.963818  yrs    \n",
              "\n",
              "[1817 rows x 3 columns], R=30, lambda_step=0.01, plot_opts={'xlab': 'PC1', 'ylab': 'PC2'}, topic_order=[1, 6, 7, 13, 9, 2, 5, 14, 3, 10, 12, 8, 11, 4, 15])"
            ]
          },
          "metadata": {
            "tags": []
          },
          "execution_count": 18
        }
      ]
    },
    {
      "cell_type": "code",
      "metadata": {
        "id": "bBBZ8NuFyqyG",
        "colab_type": "code",
        "colab": {},
        "outputId": "2a9ddc06-d9d2-4389-c1f7-f7445f4916e5"
      },
      "source": [
        "# Part 2: What are the documents about? \n",
        "\n",
        "lda[corpora[0]]"
      ],
      "execution_count": 0,
      "outputs": [
        {
          "output_type": "execute_result",
          "data": {
            "text/plain": [
              "[(3, 0.41413686), (8, 0.25819427), (12, 0.2609908)]"
            ]
          },
          "metadata": {
            "tags": []
          },
          "execution_count": 19
        }
      ]
    },
    {
      "cell_type": "code",
      "metadata": {
        "id": "UEwc52GCyqyR",
        "colab_type": "code",
        "colab": {}
      },
      "source": [
        "distro = [lda[d] for d in corpora]"
      ],
      "execution_count": 0,
      "outputs": []
    },
    {
      "cell_type": "code",
      "metadata": {
        "id": "WNJ63eI5yqyX",
        "colab_type": "code",
        "colab": {}
      },
      "source": [
        "def update(doc):\n",
        "        d_dist = {k:0 for k in range(0,15)}\n",
        "        for t in doc:\n",
        "            d_dist[t[0]] = t[1]\n",
        "        return d_dist\n",
        "    \n",
        "new_distro = [update(d) for d in distro]"
      ],
      "execution_count": 0,
      "outputs": []
    },
    {
      "cell_type": "code",
      "metadata": {
        "id": "CUra4GJOyqyh",
        "colab_type": "code",
        "colab": {},
        "outputId": "0f3a2bc2-f0df-4c81-bd71-03bc8c013d3b"
      },
      "source": [
        "doc_topics = pd.DataFrame.from_records(new_distro)\n",
        "doc_topics.columns = topics\n",
        "\n",
        "doc_topics.head()"
      ],
      "execution_count": 0,
      "outputs": [
        {
          "output_type": "execute_result",
          "data": {
            "text/html": [
              "<div>\n",
              "<style scoped>\n",
              "    .dataframe tbody tr th:only-of-type {\n",
              "        vertical-align: middle;\n",
              "    }\n",
              "\n",
              "    .dataframe tbody tr th {\n",
              "        vertical-align: top;\n",
              "    }\n",
              "\n",
              "    .dataframe thead th {\n",
              "        text-align: right;\n",
              "    }\n",
              "</style>\n",
              "<table border=\"1\" class=\"dataframe\">\n",
              "  <thead>\n",
              "    <tr style=\"text-align: right;\">\n",
              "      <th></th>\n",
              "      <th>battery long brand buy Amazon</th>\n",
              "      <th>Kindle Fire new tablet 8</th>\n",
              "      <th>tablet great Amazon need good</th>\n",
              "      <th>work far good expect fine</th>\n",
              "      <th>book read game use watch</th>\n",
              "      <th>year old love tablet buy</th>\n",
              "      <th>screen light size read device</th>\n",
              "      <th>easy use love great set</th>\n",
              "      <th>charge day buy problem time</th>\n",
              "      <th>app download store Amazon like</th>\n",
              "      <th>love buy gift purchase happy</th>\n",
              "      <th>sound speaker Alexa great Amazon</th>\n",
              "      <th>great price good product battery</th>\n",
              "      <th>kid tablet love great good</th>\n",
              "      <th>kindle excellent fire amazon thank</th>\n",
              "    </tr>\n",
              "  </thead>\n",
              "  <tbody>\n",
              "    <tr>\n",
              "      <th>0</th>\n",
              "      <td>0.000000</td>\n",
              "      <td>0.000000</td>\n",
              "      <td>0.000000</td>\n",
              "      <td>0.414137</td>\n",
              "      <td>0.000000</td>\n",
              "      <td>0.000000</td>\n",
              "      <td>0.000000</td>\n",
              "      <td>0.000000</td>\n",
              "      <td>0.258194</td>\n",
              "      <td>0.000000</td>\n",
              "      <td>0.000000</td>\n",
              "      <td>0.000000</td>\n",
              "      <td>0.260990</td>\n",
              "      <td>0.000000</td>\n",
              "      <td>0.000000</td>\n",
              "    </tr>\n",
              "    <tr>\n",
              "      <th>1</th>\n",
              "      <td>0.628342</td>\n",
              "      <td>0.011111</td>\n",
              "      <td>0.011112</td>\n",
              "      <td>0.011112</td>\n",
              "      <td>0.011111</td>\n",
              "      <td>0.011111</td>\n",
              "      <td>0.011111</td>\n",
              "      <td>0.011111</td>\n",
              "      <td>0.011111</td>\n",
              "      <td>0.011111</td>\n",
              "      <td>0.011111</td>\n",
              "      <td>0.011111</td>\n",
              "      <td>0.011112</td>\n",
              "      <td>0.011111</td>\n",
              "      <td>0.227209</td>\n",
              "    </tr>\n",
              "    <tr>\n",
              "      <th>2</th>\n",
              "      <td>0.288254</td>\n",
              "      <td>0.016667</td>\n",
              "      <td>0.016667</td>\n",
              "      <td>0.016667</td>\n",
              "      <td>0.016667</td>\n",
              "      <td>0.016667</td>\n",
              "      <td>0.016667</td>\n",
              "      <td>0.016667</td>\n",
              "      <td>0.016667</td>\n",
              "      <td>0.016667</td>\n",
              "      <td>0.266669</td>\n",
              "      <td>0.016667</td>\n",
              "      <td>0.245073</td>\n",
              "      <td>0.016667</td>\n",
              "      <td>0.016667</td>\n",
              "    </tr>\n",
              "    <tr>\n",
              "      <th>3</th>\n",
              "      <td>0.547086</td>\n",
              "      <td>0.011111</td>\n",
              "      <td>0.011111</td>\n",
              "      <td>0.011111</td>\n",
              "      <td>0.011111</td>\n",
              "      <td>0.011111</td>\n",
              "      <td>0.011111</td>\n",
              "      <td>0.011111</td>\n",
              "      <td>0.011111</td>\n",
              "      <td>0.011111</td>\n",
              "      <td>0.011111</td>\n",
              "      <td>0.011111</td>\n",
              "      <td>0.308468</td>\n",
              "      <td>0.011111</td>\n",
              "      <td>0.011111</td>\n",
              "    </tr>\n",
              "    <tr>\n",
              "      <th>4</th>\n",
              "      <td>0.499603</td>\n",
              "      <td>0.011111</td>\n",
              "      <td>0.011111</td>\n",
              "      <td>0.011111</td>\n",
              "      <td>0.011111</td>\n",
              "      <td>0.011111</td>\n",
              "      <td>0.011111</td>\n",
              "      <td>0.011111</td>\n",
              "      <td>0.011111</td>\n",
              "      <td>0.011111</td>\n",
              "      <td>0.011111</td>\n",
              "      <td>0.011111</td>\n",
              "      <td>0.355952</td>\n",
              "      <td>0.011111</td>\n",
              "      <td>0.011111</td>\n",
              "    </tr>\n",
              "  </tbody>\n",
              "</table>\n",
              "</div>"
            ],
            "text/plain": [
              "   battery long brand buy Amazon  Kindle Fire new tablet 8  \\\n",
              "0  0.000000                       0.000000                   \n",
              "1  0.628342                       0.011111                   \n",
              "2  0.288254                       0.016667                   \n",
              "3  0.547086                       0.011111                   \n",
              "4  0.499603                       0.011111                   \n",
              "\n",
              "   tablet great Amazon need good  work far good expect fine  \\\n",
              "0  0.000000                       0.414137                    \n",
              "1  0.011112                       0.011112                    \n",
              "2  0.016667                       0.016667                    \n",
              "3  0.011111                       0.011111                    \n",
              "4  0.011111                       0.011111                    \n",
              "\n",
              "   book read game use watch  year old love tablet buy  \\\n",
              "0  0.000000                  0.000000                   \n",
              "1  0.011111                  0.011111                   \n",
              "2  0.016667                  0.016667                   \n",
              "3  0.011111                  0.011111                   \n",
              "4  0.011111                  0.011111                   \n",
              "\n",
              "   screen light size read device  easy use love great set  \\\n",
              "0  0.000000                       0.000000                  \n",
              "1  0.011111                       0.011111                  \n",
              "2  0.016667                       0.016667                  \n",
              "3  0.011111                       0.011111                  \n",
              "4  0.011111                       0.011111                  \n",
              "\n",
              "   charge day buy problem time  app download store Amazon like  \\\n",
              "0  0.258194                     0.000000                         \n",
              "1  0.011111                     0.011111                         \n",
              "2  0.016667                     0.016667                         \n",
              "3  0.011111                     0.011111                         \n",
              "4  0.011111                     0.011111                         \n",
              "\n",
              "   love buy gift purchase happy  sound speaker Alexa great Amazon  \\\n",
              "0  0.000000                      0.000000                           \n",
              "1  0.011111                      0.011111                           \n",
              "2  0.266669                      0.016667                           \n",
              "3  0.011111                      0.011111                           \n",
              "4  0.011111                      0.011111                           \n",
              "\n",
              "   great price good product battery  kid tablet love great good  \\\n",
              "0  0.260990                          0.000000                     \n",
              "1  0.011112                          0.011111                     \n",
              "2  0.245073                          0.016667                     \n",
              "3  0.308468                          0.011111                     \n",
              "4  0.355952                          0.011111                     \n",
              "\n",
              "   kindle excellent fire amazon thank  \n",
              "0  0.000000                            \n",
              "1  0.227209                            \n",
              "2  0.016667                            \n",
              "3  0.011111                            \n",
              "4  0.011111                            "
            ]
          },
          "metadata": {
            "tags": []
          },
          "execution_count": 22
        }
      ]
    },
    {
      "cell_type": "code",
      "metadata": {
        "id": "toAKwELtyqyt",
        "colab_type": "code",
        "colab": {}
      },
      "source": [
        "doc_topics['primary_topic'] = doc_topics.idxmax(axis=1)"
      ],
      "execution_count": 0,
      "outputs": []
    },
    {
      "cell_type": "markdown",
      "metadata": {
        "id": "LQfPSe0-yqy0",
        "colab_type": "text"
      },
      "source": [
        ""
      ]
    },
    {
      "cell_type": "code",
      "metadata": {
        "id": "ZRZV200Byqy0",
        "colab_type": "code",
        "colab": {},
        "outputId": "34a22a33-2bfc-47c2-eb73-f9029a01f8ac"
      },
      "source": [
        "doc_topics['primary_topic'].value_counts()"
      ],
      "execution_count": 0,
      "outputs": [
        {
          "output_type": "execute_result",
          "data": {
            "text/plain": [
              "battery long brand buy Amazon         6246\n",
              "great price good product battery      4395\n",
              "year old love tablet buy              2427\n",
              "kid tablet love great good            1787\n",
              "screen light size read device         1612\n",
              "love buy gift purchase happy          1543\n",
              "Kindle Fire new tablet 8              1529\n",
              "book read game use watch              1516\n",
              "work far good expect fine             1463\n",
              "tablet great Amazon need good         1324\n",
              "easy use love great set               1267\n",
              "charge day buy problem time           979 \n",
              "app download store Amazon like        844 \n",
              "sound speaker Alexa great Amazon      825 \n",
              "kindle excellent fire amazon thank    575 \n",
              "Name: primary_topic, dtype: int64"
            ]
          },
          "metadata": {
            "tags": []
          },
          "execution_count": 24
        }
      ]
    },
    {
      "cell_type": "code",
      "metadata": {
        "id": "YJDnfbfWyqy-",
        "colab_type": "code",
        "colab": {}
      },
      "source": [
        "#Selecting the Number of Topics (Learn)\n",
        "\n",
        "\n",
        "\n",
        "from gensim.models.coherencemodel import CoherenceModel\n",
        "\n",
        "def compute_coherence_values(dictionary, corpus, limit, start=2, step=3, passes=5):\n",
        "    \"\"\"\n",
        "    Compute c_v coherence for various number of topics\n",
        "\n",
        "    Parameters:\n",
        "    ----------\n",
        "    dictionary : Gensim dictionary\n",
        "    corpus : Gensim corpus\n",
        "    limit : Max num of topics\n",
        "    passes: the number of times the entire lda model & coherence values are calculated\n",
        "\n",
        "    Returns:\n",
        "    -------\n",
        "    coherence_values : Coherence values corresponding to the LDA model with respective number of topics\n",
        "    \"\"\"\n",
        "    \n",
        "    coherence_values = []\n",
        "    \n",
        "    for iter_ in range(passes):\n",
        "        for num_topics in range(start, limit, step):\n",
        "            model = LdaMulticore(corpus=corpus, num_topics=num_topics, id2word=dictionary, workers=12)\n",
        "            coherencemodel = CoherenceModel(model=model,dictionary=dictionary,corpus=corpus, coherence='u_mass')\n",
        "            coherence_values.append({'pass': iter_, \n",
        "                                     'num_topics': num_topics, \n",
        "                                     'coherence_score': coherencemodel.get_coherence()\n",
        "                                    })\n",
        "\n",
        "    return coherence_values"
      ],
      "execution_count": 0,
      "outputs": []
    },
    {
      "cell_type": "code",
      "metadata": {
        "id": "CL-Dw-tgyqzE",
        "colab_type": "code",
        "colab": {}
      },
      "source": [
        "# Can take a long time to run.\n",
        "coherence_values = compute_coherence_values(dictionary=id2word, \n",
        "                                                        corpus=corpora,\n",
        "                                                        start=3, \n",
        "                                                        limit=40, \n",
        "                                                        step=2,\n",
        "                                                        passes=1)"
      ],
      "execution_count": 0,
      "outputs": []
    },
    {
      "cell_type": "code",
      "metadata": {
        "id": "2GvN0uazyqzN",
        "colab_type": "code",
        "colab": {},
        "outputId": "697468c4-96fb-47ea-f7ca-e4e3820e9921"
      },
      "source": [
        "topic_coherence = pd.DataFrame.from_records(coherence_values)\n",
        "\n",
        "topic_coherence.head()"
      ],
      "execution_count": 0,
      "outputs": [
        {
          "output_type": "execute_result",
          "data": {
            "text/html": [
              "<div>\n",
              "<style scoped>\n",
              "    .dataframe tbody tr th:only-of-type {\n",
              "        vertical-align: middle;\n",
              "    }\n",
              "\n",
              "    .dataframe tbody tr th {\n",
              "        vertical-align: top;\n",
              "    }\n",
              "\n",
              "    .dataframe thead th {\n",
              "        text-align: right;\n",
              "    }\n",
              "</style>\n",
              "<table border=\"1\" class=\"dataframe\">\n",
              "  <thead>\n",
              "    <tr style=\"text-align: right;\">\n",
              "      <th></th>\n",
              "      <th>pass</th>\n",
              "      <th>num_topics</th>\n",
              "      <th>coherence_score</th>\n",
              "    </tr>\n",
              "  </thead>\n",
              "  <tbody>\n",
              "    <tr>\n",
              "      <th>0</th>\n",
              "      <td>0</td>\n",
              "      <td>3</td>\n",
              "      <td>-2.319472</td>\n",
              "    </tr>\n",
              "    <tr>\n",
              "      <th>1</th>\n",
              "      <td>0</td>\n",
              "      <td>5</td>\n",
              "      <td>-2.334697</td>\n",
              "    </tr>\n",
              "    <tr>\n",
              "      <th>2</th>\n",
              "      <td>0</td>\n",
              "      <td>7</td>\n",
              "      <td>-2.338506</td>\n",
              "    </tr>\n",
              "    <tr>\n",
              "      <th>3</th>\n",
              "      <td>0</td>\n",
              "      <td>9</td>\n",
              "      <td>-2.335249</td>\n",
              "    </tr>\n",
              "    <tr>\n",
              "      <th>4</th>\n",
              "      <td>0</td>\n",
              "      <td>11</td>\n",
              "      <td>-2.353888</td>\n",
              "    </tr>\n",
              "  </tbody>\n",
              "</table>\n",
              "</div>"
            ],
            "text/plain": [
              "   pass  num_topics  coherence_score\n",
              "0  0     3          -2.319472       \n",
              "1  0     5          -2.334697       \n",
              "2  0     7          -2.338506       \n",
              "3  0     9          -2.335249       \n",
              "4  0     11         -2.353888       "
            ]
          },
          "metadata": {
            "tags": []
          },
          "execution_count": 27
        }
      ]
    },
    {
      "cell_type": "code",
      "metadata": {
        "id": "9GAK6xP6yqzT",
        "colab_type": "code",
        "colab": {},
        "outputId": "659b81d6-5dfb-4d0d-9456-8be36c21a174"
      },
      "source": [
        "import seaborn as sns\n",
        " \n",
        "ax = sns.lineplot(x=\"num_topics\", y=\"coherence_score\", data=topic_coherence)"
      ],
      "execution_count": 0,
      "outputs": [
        {
          "output_type": "display_data",
          "data": {
            "image/png": "[encoded data removed]",
            "text/plain": [
              "<Figure size 432x288 with 1 Axes>"
            ]
          },
          "metadata": {
            "tags": [],
            "needs_background": "light"
          }
        }
      ]
    },
    {
      "cell_type": "markdown",
      "metadata": {
        "id": "6Mqnxf5zyqzc",
        "colab_type": "text"
      },
      "source": [
        "# Selecting the Number of Topics (Learn)\n",
        "<a id=\"#p4\"></a>"
      ]
    },
    {
      "cell_type": "markdown",
      "metadata": {
        "id": "tM1Xfi3Wyqze",
        "colab_type": "text"
      },
      "source": [
        "## Stretch Goals\n",
        "\n",
        "* Incorporate Named Entity Recognition in your analysis\n",
        "* Incorporate some custom pre-processing from our previous lessons (like spacy lemmatization)\n",
        "* Analyze a dataset of interest to you with topic modeling"
      ]
    }
  ]
}